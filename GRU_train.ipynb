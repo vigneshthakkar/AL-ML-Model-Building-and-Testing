{
 "cells": [
  {
   "cell_type": "code",
   "execution_count": 2,
   "metadata": {},
   "outputs": [],
   "source": [
    "import pandas as pd\n",
    "import numpy as np"
   ]
  },
  {
   "cell_type": "markdown",
   "metadata": {},
   "source": [
    "Loading the dataset into the python notebook"
   ]
  },
  {
   "cell_type": "code",
   "execution_count": 3,
   "metadata": {},
   "outputs": [],
   "source": [
    "data=pd.read_csv('processed_1.csv')"
   ]
  },
  {
   "cell_type": "code",
   "execution_count": 4,
   "metadata": {},
   "outputs": [
    {
     "data": {
      "text/html": [
       "<div>\n",
       "<style scoped>\n",
       "    .dataframe tbody tr th:only-of-type {\n",
       "        vertical-align: middle;\n",
       "    }\n",
       "\n",
       "    .dataframe tbody tr th {\n",
       "        vertical-align: top;\n",
       "    }\n",
       "\n",
       "    .dataframe thead th {\n",
       "        text-align: right;\n",
       "    }\n",
       "</style>\n",
       "<table border=\"1\" class=\"dataframe\">\n",
       "  <thead>\n",
       "    <tr style=\"text-align: right;\">\n",
       "      <th></th>\n",
       "      <th>r_id</th>\n",
       "      <th>doc_id</th>\n",
       "      <th>specialty</th>\n",
       "      <th>gender</th>\n",
       "      <th>S</th>\n",
       "      <th>P</th>\n",
       "      <th>H</th>\n",
       "      <th>K</th>\n",
       "      <th>review</th>\n",
       "    </tr>\n",
       "  </thead>\n",
       "  <tbody>\n",
       "    <tr>\n",
       "      <th>0</th>\n",
       "      <td>0.0</td>\n",
       "      <td>0</td>\n",
       "      <td>psych</td>\n",
       "      <td>m</td>\n",
       "      <td>5</td>\n",
       "      <td>5</td>\n",
       "      <td>5</td>\n",
       "      <td>5</td>\n",
       "      <td>['fabulous', 'doctor', 'really', 'take', 'his'...</td>\n",
       "    </tr>\n",
       "    <tr>\n",
       "      <th>1</th>\n",
       "      <td>0.1</td>\n",
       "      <td>0</td>\n",
       "      <td>psych</td>\n",
       "      <td>m</td>\n",
       "      <td>5</td>\n",
       "      <td>5</td>\n",
       "      <td>5</td>\n",
       "      <td>5</td>\n",
       "      <td>['wonderful', 'doctor', 'punctual', 'take', 'h...</td>\n",
       "    </tr>\n",
       "    <tr>\n",
       "      <th>2</th>\n",
       "      <td>0.2</td>\n",
       "      <td>0</td>\n",
       "      <td>psych</td>\n",
       "      <td>m</td>\n",
       "      <td>5</td>\n",
       "      <td>5</td>\n",
       "      <td>5</td>\n",
       "      <td>5</td>\n",
       "      <td>['great', 'caring', 'doctor', 'always', 'give'...</td>\n",
       "    </tr>\n",
       "    <tr>\n",
       "      <th>3</th>\n",
       "      <td>3.0</td>\n",
       "      <td>3</td>\n",
       "      <td>psych</td>\n",
       "      <td>f</td>\n",
       "      <td>5</td>\n",
       "      <td>5</td>\n",
       "      <td>5</td>\n",
       "      <td>5</td>\n",
       "      <td>['really', 'enjoy', 'visit', 'pleasant', 'talk...</td>\n",
       "    </tr>\n",
       "    <tr>\n",
       "      <th>4</th>\n",
       "      <td>3.1</td>\n",
       "      <td>3</td>\n",
       "      <td>psych</td>\n",
       "      <td>f</td>\n",
       "      <td>5</td>\n",
       "      <td>5</td>\n",
       "      <td>5</td>\n",
       "      <td>5</td>\n",
       "      <td>['made', 'significant', 'improvement', 'since'...</td>\n",
       "    </tr>\n",
       "  </tbody>\n",
       "</table>\n",
       "</div>"
      ],
      "text/plain": [
       "   r_id  doc_id specialty gender  S  P  H  K  \\\n",
       "0   0.0       0     psych      m  5  5  5  5   \n",
       "1   0.1       0     psych      m  5  5  5  5   \n",
       "2   0.2       0     psych      m  5  5  5  5   \n",
       "3   3.0       3     psych      f  5  5  5  5   \n",
       "4   3.1       3     psych      f  5  5  5  5   \n",
       "\n",
       "                                              review  \n",
       "0  ['fabulous', 'doctor', 'really', 'take', 'his'...  \n",
       "1  ['wonderful', 'doctor', 'punctual', 'take', 'h...  \n",
       "2  ['great', 'caring', 'doctor', 'always', 'give'...  \n",
       "3  ['really', 'enjoy', 'visit', 'pleasant', 'talk...  \n",
       "4  ['made', 'significant', 'improvement', 'since'...  "
      ]
     },
     "execution_count": 4,
     "metadata": {},
     "output_type": "execute_result"
    }
   ],
   "source": [
    "data.head(5)"
   ]
  },
  {
   "cell_type": "markdown",
   "metadata": {},
   "source": [
    "Computing the average ratings"
   ]
  },
  {
   "cell_type": "code",
   "execution_count": 5,
   "metadata": {},
   "outputs": [],
   "source": [
    "data['rating']=(data['S']+data['P']+data['H']+data['K'])/4"
   ]
  },
  {
   "cell_type": "code",
   "execution_count": 6,
   "metadata": {},
   "outputs": [
    {
     "data": {
      "text/html": [
       "<div>\n",
       "<style scoped>\n",
       "    .dataframe tbody tr th:only-of-type {\n",
       "        vertical-align: middle;\n",
       "    }\n",
       "\n",
       "    .dataframe tbody tr th {\n",
       "        vertical-align: top;\n",
       "    }\n",
       "\n",
       "    .dataframe thead th {\n",
       "        text-align: right;\n",
       "    }\n",
       "</style>\n",
       "<table border=\"1\" class=\"dataframe\">\n",
       "  <thead>\n",
       "    <tr style=\"text-align: right;\">\n",
       "      <th></th>\n",
       "      <th>r_id</th>\n",
       "      <th>doc_id</th>\n",
       "      <th>specialty</th>\n",
       "      <th>gender</th>\n",
       "      <th>S</th>\n",
       "      <th>P</th>\n",
       "      <th>H</th>\n",
       "      <th>K</th>\n",
       "      <th>review</th>\n",
       "      <th>rating</th>\n",
       "    </tr>\n",
       "  </thead>\n",
       "  <tbody>\n",
       "    <tr>\n",
       "      <th>0</th>\n",
       "      <td>0.0</td>\n",
       "      <td>0</td>\n",
       "      <td>psych</td>\n",
       "      <td>m</td>\n",
       "      <td>5</td>\n",
       "      <td>5</td>\n",
       "      <td>5</td>\n",
       "      <td>5</td>\n",
       "      <td>['fabulous', 'doctor', 'really', 'take', 'his'...</td>\n",
       "      <td>5.0</td>\n",
       "    </tr>\n",
       "    <tr>\n",
       "      <th>1</th>\n",
       "      <td>0.1</td>\n",
       "      <td>0</td>\n",
       "      <td>psych</td>\n",
       "      <td>m</td>\n",
       "      <td>5</td>\n",
       "      <td>5</td>\n",
       "      <td>5</td>\n",
       "      <td>5</td>\n",
       "      <td>['wonderful', 'doctor', 'punctual', 'take', 'h...</td>\n",
       "      <td>5.0</td>\n",
       "    </tr>\n",
       "    <tr>\n",
       "      <th>2</th>\n",
       "      <td>0.2</td>\n",
       "      <td>0</td>\n",
       "      <td>psych</td>\n",
       "      <td>m</td>\n",
       "      <td>5</td>\n",
       "      <td>5</td>\n",
       "      <td>5</td>\n",
       "      <td>5</td>\n",
       "      <td>['great', 'caring', 'doctor', 'always', 'give'...</td>\n",
       "      <td>5.0</td>\n",
       "    </tr>\n",
       "    <tr>\n",
       "      <th>3</th>\n",
       "      <td>3.0</td>\n",
       "      <td>3</td>\n",
       "      <td>psych</td>\n",
       "      <td>f</td>\n",
       "      <td>5</td>\n",
       "      <td>5</td>\n",
       "      <td>5</td>\n",
       "      <td>5</td>\n",
       "      <td>['really', 'enjoy', 'visit', 'pleasant', 'talk...</td>\n",
       "      <td>5.0</td>\n",
       "    </tr>\n",
       "    <tr>\n",
       "      <th>4</th>\n",
       "      <td>3.1</td>\n",
       "      <td>3</td>\n",
       "      <td>psych</td>\n",
       "      <td>f</td>\n",
       "      <td>5</td>\n",
       "      <td>5</td>\n",
       "      <td>5</td>\n",
       "      <td>5</td>\n",
       "      <td>['made', 'significant', 'improvement', 'since'...</td>\n",
       "      <td>5.0</td>\n",
       "    </tr>\n",
       "  </tbody>\n",
       "</table>\n",
       "</div>"
      ],
      "text/plain": [
       "   r_id  doc_id specialty gender  S  P  H  K  \\\n",
       "0   0.0       0     psych      m  5  5  5  5   \n",
       "1   0.1       0     psych      m  5  5  5  5   \n",
       "2   0.2       0     psych      m  5  5  5  5   \n",
       "3   3.0       3     psych      f  5  5  5  5   \n",
       "4   3.1       3     psych      f  5  5  5  5   \n",
       "\n",
       "                                              review  rating  \n",
       "0  ['fabulous', 'doctor', 'really', 'take', 'his'...     5.0  \n",
       "1  ['wonderful', 'doctor', 'punctual', 'take', 'h...     5.0  \n",
       "2  ['great', 'caring', 'doctor', 'always', 'give'...     5.0  \n",
       "3  ['really', 'enjoy', 'visit', 'pleasant', 'talk...     5.0  \n",
       "4  ['made', 'significant', 'improvement', 'since'...     5.0  "
      ]
     },
     "execution_count": 6,
     "metadata": {},
     "output_type": "execute_result"
    }
   ],
   "source": [
    "data.head()"
   ]
  },
  {
   "cell_type": "code",
   "execution_count": 7,
   "metadata": {},
   "outputs": [
    {
     "data": {
      "text/plain": [
       "{1.0,\n",
       " 1.25,\n",
       " 1.5,\n",
       " 1.75,\n",
       " 2.0,\n",
       " 2.25,\n",
       " 2.5,\n",
       " 2.75,\n",
       " 3.0,\n",
       " 3.25,\n",
       " 3.5,\n",
       " 3.75,\n",
       " 4.0,\n",
       " 4.25,\n",
       " 4.5,\n",
       " 4.75,\n",
       " 5.0}"
      ]
     },
     "execution_count": 7,
     "metadata": {},
     "output_type": "execute_result"
    }
   ],
   "source": [
    "set(data['rating'])"
   ]
  },
  {
   "cell_type": "markdown",
   "metadata": {},
   "source": [
    "We seperate satisfactory and dissatisfactory reviews based on average ratings computed.\n",
    "\n",
    "If ratings is greater than or equal to 3, the review is satisfactory.\n",
    "\n",
    "If Ratings in less than 3, the review is dissatisfactory."
   ]
  },
  {
   "cell_type": "code",
   "execution_count": 8,
   "metadata": {},
   "outputs": [
    {
     "name": "stderr",
     "output_type": "stream",
     "text": [
      "<ipython-input-8-2d267a123179>:2: SettingWithCopyWarning: \n",
      "A value is trying to be set on a copy of a slice from a DataFrame.\n",
      "Try using .loc[row_indexer,col_indexer] = value instead\n",
      "\n",
      "See the caveats in the documentation: https://pandas.pydata.org/pandas-docs/stable/user_guide/indexing.html#returning-a-view-versus-a-copy\n",
      "  df_0['satisfaction']=0\n"
     ]
    }
   ],
   "source": [
    "df_0=data[data['rating']<=3]\n",
    "df_0['satisfaction']=0"
   ]
  },
  {
   "cell_type": "code",
   "execution_count": 9,
   "metadata": {},
   "outputs": [],
   "source": [
    "df_1=data[data['rating']>3].sample(n=len(df_0))\n",
    "df_1['satisfaction']=1"
   ]
  },
  {
   "cell_type": "markdown",
   "metadata": {},
   "source": [
    "Ensuring that the count of dissatisfactory reviews and satisfactory reviews is the same so that the training dataset is balanced"
   ]
  },
  {
   "cell_type": "code",
   "execution_count": 10,
   "metadata": {},
   "outputs": [
    {
     "name": "stdout",
     "output_type": "stream",
     "text": [
      "3089 3089\n"
     ]
    }
   ],
   "source": [
    "print(len(df_0),len(df_1))"
   ]
  },
  {
   "cell_type": "code",
   "execution_count": 11,
   "metadata": {},
   "outputs": [
    {
     "data": {
      "text/html": [
       "<div>\n",
       "<style scoped>\n",
       "    .dataframe tbody tr th:only-of-type {\n",
       "        vertical-align: middle;\n",
       "    }\n",
       "\n",
       "    .dataframe tbody tr th {\n",
       "        vertical-align: top;\n",
       "    }\n",
       "\n",
       "    .dataframe thead th {\n",
       "        text-align: right;\n",
       "    }\n",
       "</style>\n",
       "<table border=\"1\" class=\"dataframe\">\n",
       "  <thead>\n",
       "    <tr style=\"text-align: right;\">\n",
       "      <th></th>\n",
       "      <th>r_id</th>\n",
       "      <th>doc_id</th>\n",
       "      <th>specialty</th>\n",
       "      <th>gender</th>\n",
       "      <th>S</th>\n",
       "      <th>P</th>\n",
       "      <th>H</th>\n",
       "      <th>K</th>\n",
       "      <th>review</th>\n",
       "      <th>rating</th>\n",
       "      <th>satisfaction</th>\n",
       "    </tr>\n",
       "  </thead>\n",
       "  <tbody>\n",
       "    <tr>\n",
       "      <th>17715</th>\n",
       "      <td>3788.9</td>\n",
       "      <td>3788</td>\n",
       "      <td>-1</td>\n",
       "      <td>f</td>\n",
       "      <td>3</td>\n",
       "      <td>5</td>\n",
       "      <td>5</td>\n",
       "      <td>5</td>\n",
       "      <td>['wonderful', 'doctor', 'she', 'kind', 'unders...</td>\n",
       "      <td>4.50</td>\n",
       "      <td>1</td>\n",
       "    </tr>\n",
       "    <tr>\n",
       "      <th>3944</th>\n",
       "      <td>812.7</td>\n",
       "      <td>812</td>\n",
       "      <td>-1</td>\n",
       "      <td>m</td>\n",
       "      <td>5</td>\n",
       "      <td>4</td>\n",
       "      <td>5</td>\n",
       "      <td>5</td>\n",
       "      <td>['mat', 'one', 'best', 'ever', 'seen', 'he', '...</td>\n",
       "      <td>4.75</td>\n",
       "      <td>1</td>\n",
       "    </tr>\n",
       "    <tr>\n",
       "      <th>21242</th>\n",
       "      <td>4467.0</td>\n",
       "      <td>4467</td>\n",
       "      <td>psych</td>\n",
       "      <td>m</td>\n",
       "      <td>1</td>\n",
       "      <td>2</td>\n",
       "      <td>1</td>\n",
       "      <td>1</td>\n",
       "      <td>['okay', 'like', 'return', 'phone', 'call', 'e...</td>\n",
       "      <td>1.25</td>\n",
       "      <td>0</td>\n",
       "    </tr>\n",
       "    <tr>\n",
       "      <th>947</th>\n",
       "      <td>193.8</td>\n",
       "      <td>193</td>\n",
       "      <td>bone</td>\n",
       "      <td>f</td>\n",
       "      <td>4</td>\n",
       "      <td>1</td>\n",
       "      <td>1</td>\n",
       "      <td>1</td>\n",
       "      <td>['feel', 'like', 'physician', 'slightest', 'id...</td>\n",
       "      <td>1.75</td>\n",
       "      <td>0</td>\n",
       "    </tr>\n",
       "    <tr>\n",
       "      <th>36642</th>\n",
       "      <td>7706.4</td>\n",
       "      <td>7706</td>\n",
       "      <td>surg</td>\n",
       "      <td>m</td>\n",
       "      <td>5</td>\n",
       "      <td>5</td>\n",
       "      <td>5</td>\n",
       "      <td>5</td>\n",
       "      <td>['doctor', 'thorough', 'professional', 'inform...</td>\n",
       "      <td>5.00</td>\n",
       "      <td>1</td>\n",
       "    </tr>\n",
       "    <tr>\n",
       "      <th>...</th>\n",
       "      <td>...</td>\n",
       "      <td>...</td>\n",
       "      <td>...</td>\n",
       "      <td>...</td>\n",
       "      <td>...</td>\n",
       "      <td>...</td>\n",
       "      <td>...</td>\n",
       "      <td>...</td>\n",
       "      <td>...</td>\n",
       "      <td>...</td>\n",
       "      <td>...</td>\n",
       "    </tr>\n",
       "    <tr>\n",
       "      <th>27707</th>\n",
       "      <td>5826.6</td>\n",
       "      <td>5826</td>\n",
       "      <td>skin</td>\n",
       "      <td>m</td>\n",
       "      <td>1</td>\n",
       "      <td>2</td>\n",
       "      <td>1</td>\n",
       "      <td>1</td>\n",
       "      <td>['negligent', 'leaving', 'numerous', 'biopsy',...</td>\n",
       "      <td>1.25</td>\n",
       "      <td>0</td>\n",
       "    </tr>\n",
       "    <tr>\n",
       "      <th>328</th>\n",
       "      <td>74.0</td>\n",
       "      <td>74</td>\n",
       "      <td>gas</td>\n",
       "      <td>f</td>\n",
       "      <td>1</td>\n",
       "      <td>1</td>\n",
       "      <td>1</td>\n",
       "      <td>1</td>\n",
       "      <td>['highly', 'sensitive', 'drug', 'asked', 'done...</td>\n",
       "      <td>1.00</td>\n",
       "      <td>0</td>\n",
       "    </tr>\n",
       "    <tr>\n",
       "      <th>13642</th>\n",
       "      <td>2899.0</td>\n",
       "      <td>2899</td>\n",
       "      <td>pedia</td>\n",
       "      <td>f</td>\n",
       "      <td>1</td>\n",
       "      <td>3</td>\n",
       "      <td>2</td>\n",
       "      <td>3</td>\n",
       "      <td>['receptionist', 'rude', 'phone', 'cannot', 't...</td>\n",
       "      <td>2.25</td>\n",
       "      <td>0</td>\n",
       "    </tr>\n",
       "    <tr>\n",
       "      <th>618</th>\n",
       "      <td>132.7</td>\n",
       "      <td>132</td>\n",
       "      <td>-1</td>\n",
       "      <td>m</td>\n",
       "      <td>5</td>\n",
       "      <td>5</td>\n",
       "      <td>5</td>\n",
       "      <td>5</td>\n",
       "      <td>['baby', 'toddler', 'whisperer', 'idea', 'rece...</td>\n",
       "      <td>5.00</td>\n",
       "      <td>1</td>\n",
       "    </tr>\n",
       "    <tr>\n",
       "      <th>14043</th>\n",
       "      <td>2998.9</td>\n",
       "      <td>2998</td>\n",
       "      <td>-1</td>\n",
       "      <td>m</td>\n",
       "      <td>5</td>\n",
       "      <td>5</td>\n",
       "      <td>5</td>\n",
       "      <td>5</td>\n",
       "      <td>['treat', 'his', 'patient', 'utmost', 'care', ...</td>\n",
       "      <td>5.00</td>\n",
       "      <td>1</td>\n",
       "    </tr>\n",
       "  </tbody>\n",
       "</table>\n",
       "<p>6178 rows × 11 columns</p>\n",
       "</div>"
      ],
      "text/plain": [
       "         r_id  doc_id specialty gender  S  P  H  K  \\\n",
       "17715  3788.9    3788        -1      f  3  5  5  5   \n",
       "3944    812.7     812        -1      m  5  4  5  5   \n",
       "21242  4467.0    4467     psych      m  1  2  1  1   \n",
       "947     193.8     193      bone      f  4  1  1  1   \n",
       "36642  7706.4    7706      surg      m  5  5  5  5   \n",
       "...       ...     ...       ...    ... .. .. .. ..   \n",
       "27707  5826.6    5826      skin      m  1  2  1  1   \n",
       "328      74.0      74       gas      f  1  1  1  1   \n",
       "13642  2899.0    2899     pedia      f  1  3  2  3   \n",
       "618     132.7     132        -1      m  5  5  5  5   \n",
       "14043  2998.9    2998        -1      m  5  5  5  5   \n",
       "\n",
       "                                                  review  rating  satisfaction  \n",
       "17715  ['wonderful', 'doctor', 'she', 'kind', 'unders...    4.50             1  \n",
       "3944   ['mat', 'one', 'best', 'ever', 'seen', 'he', '...    4.75             1  \n",
       "21242  ['okay', 'like', 'return', 'phone', 'call', 'e...    1.25             0  \n",
       "947    ['feel', 'like', 'physician', 'slightest', 'id...    1.75             0  \n",
       "36642  ['doctor', 'thorough', 'professional', 'inform...    5.00             1  \n",
       "...                                                  ...     ...           ...  \n",
       "27707  ['negligent', 'leaving', 'numerous', 'biopsy',...    1.25             0  \n",
       "328    ['highly', 'sensitive', 'drug', 'asked', 'done...    1.00             0  \n",
       "13642  ['receptionist', 'rude', 'phone', 'cannot', 't...    2.25             0  \n",
       "618    ['baby', 'toddler', 'whisperer', 'idea', 'rece...    5.00             1  \n",
       "14043  ['treat', 'his', 'patient', 'utmost', 'care', ...    5.00             1  \n",
       "\n",
       "[6178 rows x 11 columns]"
      ]
     },
     "execution_count": 11,
     "metadata": {},
     "output_type": "execute_result"
    }
   ],
   "source": [
    "df=df_0.append(df_1)\n",
    "df.sample(frac=1)"
   ]
  },
  {
   "cell_type": "markdown",
   "metadata": {},
   "source": [
    "Converting the reviews into the desirable format for further processing"
   ]
  },
  {
   "cell_type": "code",
   "execution_count": 12,
   "metadata": {},
   "outputs": [],
   "source": [
    "df['reviews']='0'\n",
    "max_count=0\n",
    "for i in df.index:\n",
    "    words=df.loc[i,'review']\n",
    "    words=words[1:-1]\n",
    "    words=words.split(',')\n",
    "    words=[w.strip()[1:-1] for w in words]\n",
    "    if len(words)>max_count:\n",
    "        max_count=len(words)\n",
    "    df.at[i,'reviews']=words\n",
    "df=df[['r_id', 'doc_id', 'specialty', 'gender', 'S', 'P', 'H', 'K','rating', 'satisfaction', 'reviews']]"
   ]
  },
  {
   "cell_type": "code",
   "execution_count": 12,
   "metadata": {},
   "outputs": [
    {
     "data": {
      "text/html": [
       "<div>\n",
       "<style scoped>\n",
       "    .dataframe tbody tr th:only-of-type {\n",
       "        vertical-align: middle;\n",
       "    }\n",
       "\n",
       "    .dataframe tbody tr th {\n",
       "        vertical-align: top;\n",
       "    }\n",
       "\n",
       "    .dataframe thead th {\n",
       "        text-align: right;\n",
       "    }\n",
       "</style>\n",
       "<table border=\"1\" class=\"dataframe\">\n",
       "  <thead>\n",
       "    <tr style=\"text-align: right;\">\n",
       "      <th></th>\n",
       "      <th>r_id</th>\n",
       "      <th>doc_id</th>\n",
       "      <th>specialty</th>\n",
       "      <th>gender</th>\n",
       "      <th>S</th>\n",
       "      <th>P</th>\n",
       "      <th>H</th>\n",
       "      <th>K</th>\n",
       "      <th>rating</th>\n",
       "      <th>satisfaction</th>\n",
       "      <th>reviews</th>\n",
       "    </tr>\n",
       "  </thead>\n",
       "  <tbody>\n",
       "    <tr>\n",
       "      <th>5</th>\n",
       "      <td>3.2</td>\n",
       "      <td>3</td>\n",
       "      <td>psych</td>\n",
       "      <td>f</td>\n",
       "      <td>1</td>\n",
       "      <td>2</td>\n",
       "      <td>1</td>\n",
       "      <td>1</td>\n",
       "      <td>1.25</td>\n",
       "      <td>0</td>\n",
       "      <td>[not, appear, interest, patient, giving, one, ...</td>\n",
       "    </tr>\n",
       "    <tr>\n",
       "      <th>6</th>\n",
       "      <td>3.3</td>\n",
       "      <td>3</td>\n",
       "      <td>psych</td>\n",
       "      <td>f</td>\n",
       "      <td>1</td>\n",
       "      <td>1</td>\n",
       "      <td>1</td>\n",
       "      <td>1</td>\n",
       "      <td>1.00</td>\n",
       "      <td>0</td>\n",
       "      <td>[doctor, take, money, write, script, after, av...</td>\n",
       "    </tr>\n",
       "    <tr>\n",
       "      <th>60</th>\n",
       "      <td>12.5</td>\n",
       "      <td>12</td>\n",
       "      <td>int</td>\n",
       "      <td>f</td>\n",
       "      <td>1</td>\n",
       "      <td>3</td>\n",
       "      <td>3</td>\n",
       "      <td>3</td>\n",
       "      <td>2.50</td>\n",
       "      <td>0</td>\n",
       "      <td>[staff, made, switch, doctor, rude, cold, cond...</td>\n",
       "    </tr>\n",
       "    <tr>\n",
       "      <th>61</th>\n",
       "      <td>12.6</td>\n",
       "      <td>12</td>\n",
       "      <td>int</td>\n",
       "      <td>f</td>\n",
       "      <td>1</td>\n",
       "      <td>1</td>\n",
       "      <td>2</td>\n",
       "      <td>2</td>\n",
       "      <td>1.50</td>\n",
       "      <td>0</td>\n",
       "      <td>[doctor, seems, depressed, during, entire, hou...</td>\n",
       "    </tr>\n",
       "    <tr>\n",
       "      <th>62</th>\n",
       "      <td>12.7</td>\n",
       "      <td>12</td>\n",
       "      <td>int</td>\n",
       "      <td>f</td>\n",
       "      <td>3</td>\n",
       "      <td>3</td>\n",
       "      <td>3</td>\n",
       "      <td>3</td>\n",
       "      <td>3.00</td>\n",
       "      <td>0</td>\n",
       "      <td>[waiting, area, nondescript, bit, dirty, tight...</td>\n",
       "    </tr>\n",
       "  </tbody>\n",
       "</table>\n",
       "</div>"
      ],
      "text/plain": [
       "    r_id  doc_id specialty gender  S  P  H  K  rating  satisfaction  \\\n",
       "5    3.2       3     psych      f  1  2  1  1    1.25             0   \n",
       "6    3.3       3     psych      f  1  1  1  1    1.00             0   \n",
       "60  12.5      12       int      f  1  3  3  3    2.50             0   \n",
       "61  12.6      12       int      f  1  1  2  2    1.50             0   \n",
       "62  12.7      12       int      f  3  3  3  3    3.00             0   \n",
       "\n",
       "                                              reviews  \n",
       "5   [not, appear, interest, patient, giving, one, ...  \n",
       "6   [doctor, take, money, write, script, after, av...  \n",
       "60  [staff, made, switch, doctor, rude, cold, cond...  \n",
       "61  [doctor, seems, depressed, during, entire, hou...  \n",
       "62  [waiting, area, nondescript, bit, dirty, tight...  "
      ]
     },
     "execution_count": 12,
     "metadata": {},
     "output_type": "execute_result"
    }
   ],
   "source": [
    "df.head(5)"
   ]
  },
  {
   "cell_type": "code",
   "execution_count": 13,
   "metadata": {},
   "outputs": [
    {
     "name": "stdout",
     "output_type": "stream",
     "text": [
      "458\n"
     ]
    }
   ],
   "source": [
    "print(max_count)"
   ]
  },
  {
   "cell_type": "code",
   "execution_count": 14,
   "metadata": {},
   "outputs": [
    {
     "name": "stdout",
     "output_type": "stream",
     "text": [
      "[list(['not', 'appear', 'interest', 'patient', 'giving', 'one', 'prescription', 'getting', 'way', 'collecting', 'large', 'fee', 'two', 'minute', 'visit'])\n",
      " list(['doctor', 'take', 'money', 'write', 'script', 'after', 'avoid', 'cost'])\n",
      " list(['staff', 'made', 'switch', 'doctor', 'rude', 'cold', 'condescending'])\n",
      " ...\n",
      " list(['his', 'staff', 'excellent', '65', 'year', 'old', 'male', 'time', 'service', 'outcome', 'beyond', 'expectation', 'face', 'lift', 'everyone', 'comment', 'rested', 'fresh', 'look', 'recommended', 'four', 'close', 'friend', 'always', 'time', 'one', 'knowledgeable', 'experienced', 'physician', 'ever', 'met'])\n",
      " list(['staff', 'clinic', 'friendly', 'informative', 'professional', 'provides', 'best', 'care', 'could', 'ask', 'instrumental', 'keeping', 'serious', 'sciatica', 'issue', 'total', 'control', 'she', 'constantly', 'open', 'new', 'idea', 'stay', 'current', 'her', 'field', 'she', 'open', 'serving', 'people', 'level', 'commitment', 'treat', 'immediate', 'pain', 'without', 'demand', 'long', 'term', 'contract', 'highly', 'recommend', 'her', 'well', 'anyone', 'she', 'welcome', 'her', 'clinic', 'practitioner', 'highly', 'qualified'])\n",
      " list(['went', 'get', 'adult', 'brace', 'due', 'severe', 'overbite', 'amazing', 'experience', 'lo', 'her', 'wonderful', 'staff', 'professional', 'kind', 'friendly', 'highly', 'recommend', 'especially', 'adult', 'considering', 'adult', 'orthodontics'])]\n"
     ]
    }
   ],
   "source": [
    "reviews = df.reviews.values\n",
    "print(reviews)"
   ]
  },
  {
   "cell_type": "markdown",
   "metadata": {},
   "source": [
    "Tokenizing and Padding the dataset. Also splitting the dataset into training and test datasets"
   ]
  },
  {
   "cell_type": "code",
   "execution_count": 15,
   "metadata": {},
   "outputs": [
    {
     "name": "stdout",
     "output_type": "stream",
     "text": [
      "4942 1236 1236 4942\n"
     ]
    }
   ],
   "source": [
    "from tensorflow.keras.preprocessing.text import Tokenizer\n",
    "from tensorflow.keras.preprocessing.sequence import pad_sequences\n",
    "from sklearn.model_selection import train_test_split\n",
    "\n",
    "tokenizer = Tokenizer(num_words=5000)\n",
    "tokenizer.fit_on_texts(reviews)\n",
    "vocab_size = len(tokenizer.word_index) + 1\n",
    "\n",
    "x_train,x_test,y_train,y_test = train_test_split(reviews,df['satisfaction'].values,test_size=0.2)\n",
    "\n",
    "x_train = tokenizer.texts_to_sequences(x_train)\n",
    "x_train = pad_sequences(x_train, maxlen=200)\n",
    "\n",
    "x_test = tokenizer.texts_to_sequences(x_test)\n",
    "x_test = pad_sequences(x_test, maxlen=200)\n",
    "\n",
    "print(len(x_train),len(x_test),len(y_test),len(y_train))"
   ]
  },
  {
   "cell_type": "markdown",
   "metadata": {},
   "source": [
    "Printing the words and their tokens"
   ]
  },
  {
   "cell_type": "code",
   "execution_count": 16,
   "metadata": {},
   "outputs": [
    {
     "name": "stdout",
     "output_type": "stream",
     "text": [
      "{'she': 1, 'he': 2, 'her': 3, 'not': 4, 'doctor': 5, 'his': 6, 'time': 7, 'staff': 8, 'patient': 9, 'him': 10, 'office': 11, 'after': 12, 'see': 13, 'care': 14, 'appointment': 15, 'year': 16, 'recommend': 17, 'get': 18, 'never': 19, 'back': 20, 'surgery': 21, 'one': 22, 'like': 23, 'told': 24, 'go': 25, 'even': 26, 'great': 27, 'pain': 28, 'experience': 29, 'question': 30, 'feel': 31, 'treatment': 32, 'always': 33, 'good': 34, 'first': 35, 'could': 36, 'day': 37, 'said': 38, 'know': 39, 'went': 40, 'take': 41, 'best': 42, 'make': 43, 'work': 44, 'visit': 45, 'another': 46, 'month': 47, 'going': 48, 'need': 49, 'highly': 50, 'well': 51, 'help': 52, 'made': 53, 'before': 54, 'result': 55, 'really': 56, 'professional': 57, 'call': 58, 'problem': 59, 'much': 60, 'ever': 61, 'rude': 62, 'issue': 63, 'say': 64, 'knowledgeable': 65, 'week': 66, 'left': 67, 'life': 68, 'u': 69, 'family': 70, 'way': 71, 'procedure': 72, 'hour': 73, 'better': 74, 'asked': 75, 'minute': 76, 'took': 77, 'anyone': 78, 'felt': 79, 'thing': 80, 'helpful': 81, 'kind': 82, 'wait': 83, 'called': 84, 'found': 85, 'caring': 86, 'new': 87, 'medical': 88, 'test': 89, 'friendly': 90, 'money': 91, 'want': 92, 'child': 93, 'excellent': 94, 'seen': 95, 'health': 96, 'concern': 97, 'extremely': 98, 'find': 99, 'room': 100, 'done': 101, 'amazing': 102, 'every': 103, 'since': 104, 'review': 105, 'clinic': 106, 'people': 107, 'come': 108, 'nurse': 109, 'thank': 110, 'eye': 111, 'give': 112, 'still': 113, 'manner': 114, 'right': 115, 'everything': 116, 'nice': 117, 'two': 118, 'saw': 119, 'practice': 120, 'look': 121, 'seeing': 122, 'son': 123, 'waiting': 124, 'answer': 125, 'able': 126, 'came': 127, 'without': 128, 'surgeon': 129, 'needed': 130, 'put': 131, 'medication': 132, 'insurance': 133, 'sure': 134, 'service': 135, 'last': 136, 'daughter': 137, 'bad': 138, 'person': 139, 'happy': 140, 'think': 141, 'long': 142, 'recommended': 143, 'phone': 144, 'listen': 145, 'love': 146, 'away': 147, 'during': 148, 'wanted': 149, 'tell': 150, 'several': 151, 'wonderful': 152, 'helped': 153, 'someone': 154, 'knowledge': 155, 'nothing': 156, 'gave': 157, 'worst': 158, 'comfortable': 159, 'second': 160, 'different': 161, 'later': 162, 'getting': 163, 'enough': 164, 'anything': 165, 'else': 166, 'husband': 167, 'looking': 168, 'bedside': 169, 'friend': 170, 'treated': 171, 'wrong': 172, 'next': 173, 'ask': 174, 'hospital': 175, 'horrible': 176, 'talk': 177, 'treat': 178, 'front': 179, 'thorough': 180, 'lot': 181, 'actually': 182, 'condition': 183, 'unprofessional': 184, 'ago': 185, '10': 186, 'follow': 187, 'finally': 188, 'terrible': 189, 'physician': 190, 'something': 191, 'explain': 192, 'met': 193, 'explained': 194, 'place': 195, 'due': 196, 'late': 197, 'hand': 198, 'blood': 199, 'job': 200, 'feeling': 201, 'et': 202, 'pay': 203, 'thought': 204, 'understand': 205, 'though': 206, 'little': 207, 'truly': 208, 'everyone': 209, 'foot': 210, 'completely': 211, 'symptom': 212, 'opinion': 213, 'kid': 214, 'prescription': 215, 'seems': 216, 'tried': 217, 'old': 218, 'diagnosis': 219, 'seemed': 220, 'specialist': 221, 'almost': 222, 'whole': 223, 'however': 224, 'rushed': 225, 'past': 226, 'trying': 227, 'dentist': 228, 'knew': 229, 'receptionist': 230, 'team': 231, 'referred': 232, 'trust': 233, 'waited': 234, 'may': 235, 'started': 236, 'absolutely': 237, 'face': 238, 'making': 239, 'plan': 240, 'believe': 241, 'exam': 242, 'received': 243, 'teeth': 244, 'try': 245, 'leave': 246, 'definitely': 247, 'information': 248, 'compassionate': 249, 'return': 250, 'point': 251, 'let': 252, 'le': 253, 'spent': 254, 'consultation': 255, 'woman': 256, 'option': 257, 'taking': 258, 'keep': 259, 'check': 260, 'skin': 261, 'far': 262, 'positive': 263, 'poor': 264, 'schedule': 265, 'around': 266, 'three': 267, 'side': 268, 'process': 269, 'already': 270, \"he's\": 271, 'area': 272, 'sent': 273, 'given': 274, 'entire': 275, 'medicine': 276, 'desk': 277, 'answered': 278, 'body': 279, 'talking': 280, 'use': 281, 'worse': 282, 'assistant': 283, 'attitude': 284, 'scheduled': 285, 'deal': 286, 'disappointed': 287, 'end': 288, 'easy': 289, 'number': 290, 'top': 291, '20': 292, 'field': 293, 'full': 294, 'hope': 295, 'thanks': 296, 'read': 297, 'baby': 298, 'change': 299, 'breast': 300, 'reason': 301, 'show': 302, 'high': 303, 'working': 304, 'least': 305, 'pa': 306, 'decided': 307, 'la': 308, 'instead': 309, 'seem': 310, 'advice': 311, 'taken': 312, 'pregnant': 313, 'home': 314, 'possible': 315, 'case': 316, 'cannot': 317, 'arrogant': 318, 'refused': 319, 'overall': 320, 'cost': 321, 'saying': 322, 'comment': 323, 'others': 324, 'immediately': 325, 'listens': 326, 'wish': 327, 'word': 328, 'ease': 329, 'clearly': 330, 'removed': 331, '30': 332, 'waste': 333, 'respect': 334, 'cancer': 335, 'stay': 336, 'wife': 337, 'paid': 338, 'diagnosed': 339, 'pleasant': 340, '15': 341, 'guy': 342, 'man': 343, 'important': 344, 'level': 345, 'performed': 346, 'used': 347, 'personable': 348, 'telling': 349, 'within': 350, 'short': 351, 'lack': 352, 'beyond': 353, 'please': 354, 'therapy': 355, 'charge': 356, 'part': 357, 'gone': 358, 'session': 359, 'might': 360, 'walk': 361, 'hard': 362, 'fact': 363, 'thyroid': 364, 'mother': 365, 'quick': 366, 'worked': 367, 'doc': 368, 'looked': 369, 'situation': 370, 'free': 371, 'prescribed': 372, 'real': 373, 'experienced': 374, 'understanding': 375, 'approach': 376, 'smile': 377, 'start': 378, 'simply': 379, 'run': 380, 'quite': 381, 'asking': 382, 'mind': 383, 'today': 384, 'message': 385, 'normal': 386, 'kept': 387, 'quickly': 388, 'severe': 389, 'especially': 390, 'concerned': 391, 'grateful': 392, 'condescending': 393, 'worth': 394, 'skill': 395, 'pregnancy': 396, 'awesome': 397, 'speak': 398, 'book': 399, 'research': 400, 'dental': 401, 'fine': 402, 'negative': 403, 'record': 404, 'impressed': 405, 'interested': 406, 'lost': 407, 'member': 408, 'pour': 409, 'glad': 410, 'detail': 411, 'ended': 412, 'yet': 413, 'longer': 414, 'compassion': 415, 'provided': 416, 'report': 417, 'although': 418, 'decision': 419, 'contact': 420, 'heard': 421, 'big': 422, 'pleased': 423, 'fix': 424, 'post': 425, 'cold': 426, 'previous': 427, 'recommendation': 428, 'changed': 429, 'cause': 430, 'expect': 431, 'difficult': 432, 'clear': 433, 'helping': 434, 'star': 435, 'coming': 436, 'lab': 437, 'couple': 438, 'rush': 439, 'quality': 440, 'herself': 441, 'rather': 442, 'needle': 443, 'honest': 444, 'fantastic': 445, 'recovery': 446, 'probably': 447, 'informed': 448, 'set': 449, 'continue': 450, 'sick': 451, 'personal': 452, 'walked': 453, 'prior': 454, 'type': 455, 'order': 456, 'est': 457, 'provide': 458, 'business': 459, 'company': 460, 'totally': 461, 'bit': 462, 'twice': 463, 'referral': 464, 'half': 465, 'emergency': 466, 'low': 467, 'forward': 468, 'bill': 469, 'neurologist': 470, 'super': 471, 'busy': 472, 'name': 473, 'himself': 474, 'true': 475, 'weight': 476, 'gentle': 477, 'anxiety': 478, 'avoid': 479, 'drug': 480, 'etc': 481, 'early': 482, 'fertility': 483, 'attention': 484, 'treating': 485, 'matter': 486, 'serious': 487, 'world': 488, 'appreciate': 489, 'consult': 490, 'young': 491, 'support': 492, 'line': 493, 'parent': 494, 'rating': 495, 'suffering': 496, 'confident': 497, 'available': 498, 'total': 499, 'warm': 500, 'plus': 501, 'willing': 502, 'exactly': 503, 'attentive': 504, 'following': 505, 'course': 506, 'showed': 507, 'injection': 508, 'email': 509, 'giving': 510, 'sense': 511, 'physical': 512, 'girl': 513, 'tooth': 514, 'either': 515, 'amount': 516, 'history': 517, 'injury': 518, 'infection': 519, 'open': 520, 'complete': 521, 'meet': 522, 'pretty': 523, 'ultrasound': 524, 'hear': 525, 'multiple': 526, 'dealing': 527, 'door': 528, 'yes': 529, 'elsewhere': 530, 'chronic': 531, 'heart': 532, 'recently': 533, 'discus': 534, 'neck': 535, 'based': 536, 'rate': 537, 'offer': 538, 'pediatrician': 539, 'stop': 540, 'maybe': 541, 'regarding': 542, 'fast': 543, 'extra': 544, 'disease': 545, 'charged': 546, 'moved': 547, 'meeting': 548, 'confidence': 549, 'finding': 550, 'god': 551, 'explains': 552, 'mean': 553, 'returned': 554, 'listened': 555, 'often': 556, 'manager': 557, 'spend': 558, '45': 559, 'incredibly': 560, 'talked': 561, 'idea': 562, 'address': 563, 'glass': 564, 'outstanding': 565, 'fee': 566, 'mistake': 567, 'leaving': 568, 'expensive': 569, 'date': 570, 'testing': 571, 'explanation': 572, 'interest': 573, 'write': 574, 'solution': 575, 'caused': 576, 'vision': 577, 'correct': 578, 'efficient': 579, 'en': 580, 'including': 581, 'failed': 582, 'initial': 583, 'client': 584, 'tr': 585, 'story': 586, 'facility': 587, 'lady': 588, 'behind': 589, 'live': 590, 'soon': 591, 'awful': 592, 'painful': 593, 'billing': 594, 'primary': 595, 'step': 596, 'professionalism': 597, 'turn': 598, 'explaining': 599, 'relief': 600, 'turned': 601, 'mom': 602, 'chiropractor': 603, 'stated': 604, 'became': 605, 'brace': 606, 'cared': 607, 'leg': 608, 'response': 609, 'nervous': 610, 'running': 611, 'practitioner': 612, 'dermatologist': 613, 'knee': 614, 'head': 615, 'happened': 616, 'expected': 617, 'throughout': 618, 'clean': 619, 'term': 620, 'paying': 621, 'along': 622, 'using': 623, 'acupuncture': 624, 'hip': 625, 'psychiatrist': 626, 'center': 627, 'listening': 628, 'beautiful': 629, 'cosmetic': 630, 'necessary': 631, 'pill': 632, 'guess': 633, 'must': 634, 'human': 635, 'suggested': 636, 'arrived': 637, 'brought': 638, 'personality': 639, 'biopsy': 640, '100': 641, 'cut': 642, 'genuinely': 643, 'send': 644, 'state': 645, 'satisfied': 646, 'booked': 647, 'unfortunately': 648, 'endocrinologist': 649, 'lower': 650, 'nose': 651, 'checked': 652, 'ability': 653, 'moment': 654, 'computer': 655, 'remove': 656, 'root': 657, 'answering': 658, 'choice': 659, 'literally': 660, 'price': 661, 'despite': 662, 'operation': 663, 'complaint': 664, 'natural': 665, 'sign': 666, 'customer': 667, 'chose': 668, 'offered': 669, 'five': 670, 'hold': 671, 'polite': 672, 'difference': 673, 'orthodontist': 674, 'communication': 675, 'personally': 676, 'barely': 677, 'small': 678, 'school': 679, 'supplement': 680, 'agree': 681, 'plastic': 682, 'informative': 683, 'note': 684, 'future': 685, 'close': 686, 'zero': 687, 'implant': 688, 'migraine': 689, 'outcome': 690, 'stuff': 691, 'reading': 692, 'thankful': 693, 'smart': 694, 'incompetent': 695, 'therapist': 696, 'morning': 697, 'requested': 698, 'huge': 699, 'effect': 700, 'push': 701, 'anymore': 702, 'healthy': 703, 'expertise': 704, 'shoulder': 705, 'laser': 706, 'calling': 707, 'form': 708, 'tear': 709, 'straight': 710, 'spoke': 711, 'across': 712, 'list': 713, 'supposed': 714, 'mouth': 715, 'min': 716, 'headache': 717, 'perfect': 718, 'wisdom': 719, 'missed': 720, 'save': 721, 'nerve': 722, 'healing': 723, 'yr': 724, 'product': 725, 'chance': 726, 'dollar': 727, 'obviously': 728, 'empathy': 729, 'diagnose': 730, 'visited': 731, 'ready': 732, 'scar': 733, 'basically': 734, 'unable': 735, 'regular': 736, 'ordered': 737, 'night': 738, 'drive': 739, 'thinking': 740, 'properly': 741, 'hurt': 742, 'pressure': 743, 'refill': 744, 'lucky': 745, 'consider': 746, 'op': 747, 'rare': 748, 'calm': 749, 'large': 750, 'refer': 751, 'sorry': 752, 'ear': 753, 'move': 754, 'request': 755, 'system': 756, 'brain': 757, 'sometimes': 758, 'surprised': 759, 'self': 760, 'genuine': 761, \"doctor's\": 762, 'loss': 763, 'unnecessary': 764, 'exceptional': 765, 'general': 766, 'surgical': 767, 'success': 768, 'unless': 769, 'numerous': 770, 'known': 771, 'shot': 772, 'toe': 773, 'pharmacy': 774, 'mental': 775, 'okay': 776, 'age': 777, 'ahead': 778, 'car': 779, 'paperwork': 780, 'skilled': 781, 'seriously': 782, 'learned': 783, 'thoroughly': 784, 'misdiagnosed': 785, 'scan': 786, 'risk': 787, 'receive': 788, 'regret': 789, 'saved': 790, 'birth': 791, 'hormone': 792, 'improve': 793, 'intelligent': 794, 'remember': 795, 'stopped': 796, 'beginning': 797, 'continued': 798, 'dismissive': 799, 'wasted': 800, 'stress': 801, 'incredible': 802, 'suffered': 803, 'none': 804, 'muscle': 805, 'whatever': 806, 'sweet': 807, 'embryo': 808, 'happier': 809, 'machine': 810, 'unhelpful': 811, 'simple': 812, 'card': 813, 'wrote': 814, '00': 815, 'rest': 816, 'upset': 817, 'chart': 818, 'period': 819, 'agreed': 820, 'management': 821, 'exercise': 822, 'competent': 823, 'illness': 824, 'journey': 825, 'mentioned': 826, '1st': 827, 'attempt': 828, 'beware': 829, 'learn': 830, 'upon': 831, 'considering': 832, 'website': 833, 'prescribe': 834, 'hearing': 835, 'patience': 836, 'outside': 837, 'figure': 838, 'location': 839, 'fit': 840, 'trusted': 841, '40': 842, 'letter': 843, 'sinus': 844, 'forever': 845, 'certain': 846, 'knowing': 847, 'third': 848, 'non': 849, 'filler': 850, 'profession': 851, 'welcoming': 852, '50': 853, 'fixed': 854, 'cycle': 855, '12': 856, 'provider': 857, 'payment': 858, 'sleep': 859, '': 860, 'sit': 861, 'dismissed': 862, 'current': 863, 'suggest': 864, 'oh': 865, 'noticed': 866, 'causing': 867, 'mention': 868, 'action': 869, 'lose': 870, 'bed': 871, 'shocked': 872, 'certainly': 873, 'reach': 874, 'constantly': 875, 'scheduling': 876, 'complication': 877, 'diet': 878, 'fake': 879, 'transfer': 880, 'ignored': 881, 'speaking': 882, 'cover': 883, 'related': 884, 'punctual': 885, 'four': 886, 'spot': 887, 'file': 888, 'alternative': 889, 'began': 890, 'special': 891, 'receiving': 892, 'happen': 893, 'followed': 894, 'required': 895, 'drop': 896, 'uncomfortable': 897, 'fat': 898, 'courteous': 899, 'walking': 900, 'iv': 901, 'bother': 902, 'uncaring': 903, 'bone': 904, 'obvious': 905, 'visiting': 906, 'choose': 907, 'spends': 908, 'additional': 909, 'eat': 910, 'oral': 911, 'become': 912, 'sad': 913, 'group': 914, 'major': 915, 'improved': 916, 'insisted': 917, 'experiencing': 918, 'mine': 919, 'joke': 920, 'accommodating': 921, 'm': 922, 'conversation': 923, 'claim': 924, 'disorder': 925, 'par': 926, 'single': 927, 'suggestion': 928, 'double': 929, 'secretary': 930, 'spine': 931, 'changing': 932, 'pocket': 933, 'understood': 934, 'successful': 935, 'various': 936, 'sitting': 937, 'perhaps': 938, 'examination': 939, 'six': 940, 'relationship': 941, 'piece': 942, 'unhappy': 943, 'broken': 944, 'optometrist': 945, 'confirm': 946, 'town': 947, 'encountered': 948, 'food': 949, 'stomach': 950, 'pick': 951, 'directly': 952, 'improvement': 953, '2nd': 954, 'fear': 955, 'energy': 956, 'extraction': 957, 'acted': 958, 'worry': 959, 'somewhere': 960, 'careful': 961, 'gotten': 962, 'advised': 963, 'hair': 964, 'together': 965, 'returning': 966, 'mail': 967, 'fill': 968, 'cry': 969, 'site': 970, 'angry': 971, 'class': 972, '2017': 973, 'usually': 974, 'confirmed': 975, 'expert': 976, 'scared': 977, 'fully': 978, 'wonder': 979, 'doubt': 980, 'bring': 981, 'switched': 982, 'provides': 983, 'absolute': 984, 'expectation': 985, 'cataract': 986, 'questioned': 987, 'filled': 988, 'perform': 989, 'realized': 990, 'enjoy': 991, 'reaction': 992, 'covered': 993, 'emotional': 994, 'sell': 995, 'replacement': 996, 'loved': 997, 'effective': 998, 'ankle': 999, 'infertility': 1000, 'discussed': 1001, 'towards': 1002, 'aware': 1003, 'allowed': 1004, 'diabetes': 1005, 'sat': 1006, 'luck': 1007, 'arm': 1008, 'ridiculous': 1009, 'delivered': 1010, 'daily': 1011, 'city': 1012, 'seeking': 1013, 'individual': 1014, 'listener': 1015, 'pt': 1016, 'mole': 1017, 'seek': 1018, 'reschedule': 1019, 'writing': 1020, 'adult': 1021, 'strongly': 1022, 'pleasure': 1023, 'jaw': 1024, 'damage': 1025, 'actual': 1026, 'control': 1027, 'initially': 1028, 'stand': 1029, 'specific': 1030, 'anywhere': 1031, 'poorly': 1032, 'ran': 1033, 'trip': 1034, 'boy': 1035, 'augmentation': 1036, 'notch': 1037, 'wow': 1038, 'appreciated': 1039, '11': 1040, 'standard': 1041, 'benefit': 1042, 'us': 1043, 'supportive': 1044, 'regard': 1045, 'focus': 1046, 'empathetic': 1047, 'dirty': 1048, 'written': 1049, 'worried': 1050, 'page': 1051, 'handle': 1052, 'nobody': 1053, 'disappointing': 1054, 'comforting': 1055, 'earlier': 1056, 'cancel': 1057, 'eating': 1058, '25': 1059, 'detailed': 1060, 'express': 1061, 'aspect': 1062, 'recommending': 1063, 'proper': 1064, 'disrespectful': 1065, 'imagine': 1066, 'clinical': 1067, 'technique': 1068, 'filling': 1069, 'vacation': 1070, 'per': 1071, 'near': 1072, 'honestly': 1073, 'act': 1074, 'repair': 1075, 'bottom': 1076, 'contacted': 1077, 'putting': 1078, 'progress': 1079, 'behavior': 1080, 'addition': 1081, 'goal': 1082, 'earth': 1083, 'heal': 1084, '18': 1085, 'acne': 1086, 'neurosurgeon': 1087, 'approachable': 1088, 'assessment': 1089, 'afford': 1090, 'discussing': 1091, 'removal': 1092, 'manage': 1093, 'impossible': 1094, 'board': 1095, 'wear': 1096, 'cell': 1097, 'prepared': 1098, 'refuse': 1099, 'training': 1100, 'depression': 1101, 'tumor': 1102, 'size': 1103, 'share': 1104, 'disc': 1105, 'allergy': 1106, 'afterwards': 1107, 'fortunate': 1108, 'notice': 1109, 'diagnostic': 1110, 'occasion': 1111, 'lied': 1112, 'voice': 1113, 'nasty': 1114, \"son's\": 1115, 'lens': 1116, 'impression': 1117, 'asks': 1118, 'temp': 1119, 'alone': 1120, 'living': 1121, '24': 1122, 'touch': 1123, 'picture': 1124, 'previously': 1125, 'liked': 1126, 'decide': 1127, 'whether': 1128, 'sound': 1129, 'realize': 1130, 'minimal': 1131, 'fault': 1132, 'common': 1133, 'moving': 1134, 'weekend': 1135, 'thousand': 1136, 'addressed': 1137, 'funny': 1138, 'program': 1139, 'apparently': 1140, 'pushing': 1141, 'frustrated': 1142, 'effort': 1143, 'nearly': 1144, 'pushed': 1145, 'lie': 1146, 'final': 1147, 'constant': 1148, 'born': 1149, 'finished': 1150, 'accurate': 1151, 'female': 1152, 'replied': 1153, 'accident': 1154, 'surprise': 1155, 'forget': 1156, 'adjustment': 1157, 'blessed': 1158, 'impatient': 1159, 'routine': 1160, 'placed': 1161, 'antibiotic': 1162, 'ob': 1163, 'hr': 1164, 'appears': 1165, 'leaf': 1166, 'instruction': 1167, 'advise': 1168, 'resolve': 1169, 'cash': 1170, 'anyway': 1171, 'educated': 1172, 'news': 1173, 'assured': 1174, 'dealt': 1175, 'present': 1176, 'me': 1177, 'stating': 1178, '90': 1179, 'psychologist': 1180, 'otherwise': 1181, 'spending': 1182, 'egg': 1183, 'recent': 1184, 'delivery': 1185, 'repeat': 1186, 'allow': 1187, 'safe': 1188, 'conceive': 1189, 'thoughtful': 1190, 'fair': 1191, 'responded': 1192, 'easily': 1193, 'miss': 1194, 'kindness': 1195, 'colleague': 1196, 'except': 1197, 'admitted': 1198, 'suffer': 1199, 'game': 1200, 'power': 1201, 'credit': 1202, 'demeanor': 1203, 'tout': 1204, 'respond': 1205, 'lunch': 1206, 'lee': 1207, 'dog': 1208, 'starting': 1209, 'evaluation': 1210, 'closed': 1211, 'proceeded': 1212, 'trouble': 1213, 'reduction': 1214, 'chiropractic': 1215, 'switch': 1216, 'dangerous': 1217, 'meant': 1218, 'pulled': 1219, 'main': 1220, 'unacceptable': 1221, 'useless': 1222, 'ct': 1223, 'hurry': 1224, 'mess': 1225, 'complex': 1226, 'med': 1227, 'travel': 1228, 'providing': 1229, 'reception': 1230, 'hesitate': 1231, 'fall': 1232, 'male': 1233, 'holistic': 1234, 'respectful': 1235, 'focused': 1236, 'bleeding': 1237, 'favor': 1238, 'mile': 1239, 'assist': 1240, 'info': 1241, 'swelling': 1242, 'degree': 1243, 'inform': 1244, 'tissue': 1245, 'urgent': 1246, 'carefully': 1247, 'finish': 1248, 'sale': 1249, 'environment': 1250, 'complained': 1251, 'paper': 1252, 'annoyed': 1253, 'dosage': 1254, 'responsibility': 1255, 'disorganized': 1256, 'billed': 1257, 'ton': 1258, 'light': 1259, 'flat': 1260, 'accept': 1261, 'add': 1262, 'wasting': 1263, 'hoping': 1264, 'stayed': 1265, 'checking': 1266, 'frustrating': 1267, 'cure': 1268, 'road': 1269, 'currently': 1270, 'increase': 1271, 'completed': 1272, 'nail': 1273, 'qualified': 1274, 'fun': 1275, 'mostly': 1276, 'discussion': 1277, 'value': 1278, 'timely': 1279, 'resulted': 1280, 'via': 1281, 'stressful': 1282, 'forgot': 1283, 'likely': 1284, 'father': 1285, 'welcome': 1286, 'minor': 1287, 'dedicated': 1288, 'relaxed': 1289, 'script': 1290, 'examine': 1291, 'rough': 1292, 'nightmare': 1293, 'license': 1294, 'stuck': 1295, '2015': 1296, 'basic': 1297, 'quote': 1298, 'lip': 1299, 'error': 1300, 'comp': 1301, 'hung': 1302, 'keeping': 1303, 'private': 1304, 'ten': 1305, 'chair': 1306, 'wall': 1307, 'operated': 1308, 'belief': 1309, 'podiatrist': 1310, 'consistently': 1311, 'allergic': 1312, '14': 1313, 'ensure': 1314, 'extreme': 1315, 'brilliant': 1316, 'humor': 1317, 'possibly': 1318, 'play': 1319, 'crazy': 1320, 'local': 1321, '60': 1322, 'amazed': 1323, 'afternoon': 1324, 'younger': 1325, 'latest': 1326, 'decade': 1327, 'lovely': 1328, 'nous': 1329, 'direct': 1330, 'college': 1331, 'rated': 1332, 'ophthalmologist': 1333, 'bothered': 1334, 'example': 1335, 'rushing': 1336, '2016': 1337, 'range': 1338, 'upper': 1339, 'break': 1340, 'spinal': 1341, 'rule': 1342, 'particularly': 1343, 'ruined': 1344, 'odd': 1345, 'involved': 1346, 'wont': 1347, 'sooner': 1348, 'average': 1349, 'wanting': 1350, 'practicing': 1351, 'passed': 1352, 'account': 1353, 'eventually': 1354, 'deserve': 1355, \"what's\": 1356, 'active': 1357, 'policy': 1358, 'insensitive': 1359, 'advance': 1360, 'circumstance': 1361, 'guidance': 1362, 'importantly': 1363, 'search': 1364, 'tired': 1365, 'gain': 1366, 'complicated': 1367, 'partner': 1368, 'tech': 1369, 'greatly': 1370, '2014': 1371, 'retired': 1372, 'particular': 1373, 'significant': 1374, 'pushy': 1375, 'operating': 1376, 'hernia': 1377, 'blessing': 1378, 'expecting': 1379, 'atmosphere': 1380, 'miracle': 1381, 'reassuring': 1382, 'appear': 1383, 'depressed': 1384, 'repeatedly': 1385, 'canal': 1386, 'sensitive': 1387, 'rescheduled': 1388, 'buy': 1389, 'begin': 1390, 'shame': 1391, 'assistance': 1392, 'aggressive': 1393, 'feedback': 1394, \"patient's\": 1395, 'seizure': 1396, 'showing': 1397, 'color': 1398, 'shoe': 1399, 'hate': 1400, 'botched': 1401, 'cream': 1402, 'apology': 1403, 'promised': 1404, 'pas': 1405, 'orthopedic': 1406, 'plenty': 1407, \"daughter's\": 1408, 'deep': 1409, 'smith': 1410, 'anybody': 1411, 'discomfort': 1412, 'appropriate': 1413, 'asap': 1414, 'student': 1415, 'limited': 1416, 'regularly': 1417, 'extensive': 1418, 'department': 1419, 'eyelid': 1420, 'round': 1421, 'difficulty': 1422, 'similar': 1423, 'red': 1424, 'examined': 1425, 'correctly': 1426, 'figured': 1427, 'punctuality': 1428, 'fusion': 1429, 'cleaning': 1430, 'inside': 1431, 'caught': 1432, 'x-ray': 1433, 'older': 1434, 'acupuncturist': 1435, 'abrupt': 1436, 'ignorant': 1437, 'consideration': 1438, 'sort': 1439, 'unwilling': 1440, 'denied': 1441, 'badly': 1442, 'conclusion': 1443, 'fraud': 1444, 'ill': 1445, 'facial': 1446, 'passionate': 1447, 'toward': 1448, 'fax': 1449, 'capable': 1450, 'challenge': 1451, 'ups': 1452, 'study': 1453, 'social': 1454, 'skeptical': 1455, 'inappropriate': 1456, 'recover': 1457, 'comfort': 1458, 'background': 1459, 'describe': 1460, 'struggling': 1461, 'hall': 1462, 'consistent': 1463, 'afraid': 1464, 'possibility': 1465, 'cried': 1466, '17': 1467, 'according': 1468, 'digestive': 1469, 'healed': 1470, 'wearing': 1471, 'sister': 1472, 'organized': 1473, 'vitamin': 1474, 'mark': 1475, 'fabulous': 1476, \"child's\": 1477, 'modern': 1478, 'excuse': 1479, 'boot': 1480, 'attempted': 1481, 'opening': 1482, 'faith': 1483, 'unfriendly': 1484, 'judge': 1485, 'drink': 1486, 'sadly': 1487, 'reply': 1488, 'track': 1489, 'direction': 1490, 'promptly': 1491, 'insight': 1492, 'watch': 1493, 'considered': 1494, 'whatsoever': 1495, 'elderly': 1496, 'refund': 1497, 'normally': 1498, 'former': 1499, '13': 1500, 'ego': 1501, 'release': 1502, 'playing': 1503, 'technology': 1504, 'hardly': 1505, 'deliver': 1506, 'false': 1507, 'white': 1508, 'everybody': 1509, 'added': 1510, 'dose': 1511, 'parker': 1512, 'easier': 1513, 'bunion': 1514, 'responsive': 1515, 'abdomen': 1516, 'desire': 1517, 'corrected': 1518, 'function': 1519, 'regardless': 1520, 'diabetic': 1521, 'sport': 1522, 'art': 1523, 'painless': 1524, 'ailment': 1525, 'understands': 1526, 'humble': 1527, 'hesitation': 1528, 'phenomenal': 1529, 'blame': 1530, 'examining': 1531, 'referring': 1532, 'warning': 1533, 'managed': 1534, 'transferred': 1535, 'pr': 1536, '200': 1537, 'require': 1538, 'language': 1539, 'needing': 1540, 'fired': 1541, 'hundred': 1542, 'suck': 1543, 'setting': 1544, 'middle': 1545, 'sensitivity': 1546, 'force': 1547, 'smiling': 1548, 'permanent': 1549, 'idiot': 1550, 'accepting': 1551, 'discovered': 1552, 'dry': 1553, 'confused': 1554, 'inflammation': 1555, 'revision': 1556, 'searching': 1557, 'signed': 1558, 'public': 1559, 'basis': 1560, 'incorrect': 1561, 'reviewed': 1562, 'achieve': 1563, 'priority': 1564, 'biggest': 1565, 'lifestyle': 1566, 'method': 1567, 'network': 1568, 'strong': 1569, 'country': 1570, 'shape': 1571, 'lift': 1572, 'financial': 1573, 'generally': 1574, 'ultimately': 1575, 'nature': 1576, 'extracted': 1577, 'smooth': 1578, 'considerate': 1579, 'nursing': 1580, 'encouraging': 1581, 'annual': 1582, 'dedication': 1583, 'cutting': 1584, 'worker': 1585, 'happens': 1586, 'reviewer': 1587, 'tool': 1588, 'liar': 1589, 'count': 1590, 'gut': 1591, 'developed': 1592, 'spoken': 1593, 'excruciating': 1594, 'forced': 1595, 'position': 1596, 'careless': 1597, 'whenever': 1598, 'sugar': 1599, 'breathing': 1600, 'suit': 1601, 'reputation': 1602, 'nit': 1603, 'somewhat': 1604, 'highest': 1605, 'invasive': 1606, 'attend': 1607, 'higher': 1608, 'photo': 1609, 'impressive': 1610, 'immediate': 1611, 'copay': 1612, \"there's\": 1613, 'retainer': 1614, 'affect': 1615, 'scam': 1616, 'rash': 1617, 'admit': 1618, 'excited': 1619, 'interaction': 1620, 'tested': 1621, 'claimed': 1622, 'fatigue': 1623, 'tremendously': 1624, 'originally': 1625, 'relieved': 1626, 'original': 1627, 'manor': 1628, 'disgusted': 1629, 'community': 1630, 'box': 1631, 'throw': 1632, 'thats': 1633, 'broke': 1634, 'prevent': 1635, 'led': 1636, 'copy': 1637, 'tube': 1638, 'indeed': 1639, 'equally': 1640, 'leading': 1641, 'cool': 1642, 'space': 1643, 'duty': 1644, 'mad': 1645, 'career': 1646, 'convinced': 1647, 'communicate': 1648, 'coverage': 1649, 'rid': 1650, 'equipment': 1651, 'consulted': 1652, 'tough': 1653, 'breath': 1654, 'cast': 1655, 'reassured': 1656, 'opened': 1657, 'practical': 1658, 'herb': 1659, 'calming': 1660, 'hygienist': 1661, 'woke': 1662, 'stupid': 1663, 'st': 1664, 'cant': 1665, 'sending': 1666, 'comprehensive': 1667, '500': 1668, 'warned': 1669, 'unfortunate': 1670, 'stressed': 1671, 'respected': 1672, 'incompetence': 1673, 'clue': 1674, 'swollen': 1675, 'lay': 1676, 'replaced': 1677, 'tone': 1678, 'allowing': 1679, 'exact': 1680, 'convenient': 1681, 'com': 1682, 'injected': 1683, 'repeated': 1684, 'ethic': 1685, 'reduce': 1686, 'presented': 1687, 'speaks': 1688, 'onto': 1689, 'rudely': 1690, 'brushed': 1691, 'resolved': 1692, 'administrative': 1693, 'fever': 1694, 'bank': 1695, 'specialty': 1696, 'proceed': 1697, 'hopefully': 1698, 'unpleasant': 1699, 'rarely': 1700, 'gift': 1701, 'struggled': 1702, 'relieve': 1703, 'throat': 1704, 'prescribing': 1705, 'finger': 1706, 'cyst': 1707, 'believed': 1708, 'fairly': 1709, 'affected': 1710, 'retrieval': 1711, 'newborn': 1712, 'dad': 1713, 'potential': 1714, \"they're\": 1715, 'losing': 1716, 'unlike': 1717, 'aid': 1718, 'frame': 1719, 'failure': 1720, 'included': 1721, 'court': 1722, 'liver': 1723, 'owe': 1724, 'researched': 1725, 'drove': 1726, 'ingrown': 1727, 'pair': 1728, 'smoothly': 1729, 'tummy': 1730, 'instantly': 1731, 'sincere': 1732, 'talented': 1733, 'laura': 1734, 'insulting': 1735, 'posted': 1736, 'butt': 1737, 'specifically': 1738, 'ass': 1739, 'trusting': 1740, 'hanging': 1741, 'handled': 1742, 'inconvenience': 1743, 'therapeutic': 1744, 'education': 1745, 'conflict': 1746, 'fibroid': 1747, 'air': 1748, 'resource': 1749, 'quoted': 1750, 'orthodontics': 1751, 'stroke': 1752, 'disappointment': 1753, 'lesson': 1754, 'brown': 1755, 'tendon': 1756, 'shock': 1757, 'avail': 1758, 'interesting': 1759, 'struggle': 1760, 'canceled': 1761, 'cheaper': 1762, 'bump': 1763, 'budget': 1764, 'event': 1765, 'appearance': 1766, 'panic': 1767, 'shared': 1768, 'gynecologist': 1769, 'opportunity': 1770, 'switching': 1771, 'aside': 1772, 'grow': 1773, 'promise': 1774, 'coordinator': 1775, 'blown': 1776, 'house': 1777, 'hungry': 1778, 'connected': 1779, '600': 1780, 'pediatric': 1781, 'forth': 1782, 'stood': 1783, 'solve': 1784, 'dropped': 1785, 'pound': 1786, 'approximately': 1787, 'encouraged': 1788, 'privacy': 1789, 'certified': 1790, 'associate': 1791, 'lacking': 1792, 'till': 1793, 'addict': 1794, 'challenging': 1795, \"we're\": 1796, 'appeared': 1797, 'acknowledge': 1798, 'threatening': 1799, 'sore': 1800, 'protocol': 1801, 'quack': 1802, 'bunch': 1803, 'sold': 1804, 'miscarriage': 1805, 'sperm': 1806, 'stage': 1807, 'immune': 1808, 'neurological': 1809, 'entered': 1810, 'addressing': 1811, 'parking': 1812, 'upfront': 1813, 'arrive': 1814, 'torn': 1815, 'law': 1816, 'massage': 1817, 'requires': 1818, 'abdominal': 1819, 'collier': 1820, 'joy': 1821, 'shah': 1822, 'patiently': 1823, 'attack': 1824, 'responsible': 1825, 'judgmental': 1826, 'suppose': 1827, 'lead': 1828, 'vague': 1829, 'table': 1830, 'delayed': 1831, 'label': 1832, 'indicated': 1833, 'complaining': 1834, 'discharged': 1835, 'operate': 1836, 'minimum': 1837, 'convince': 1838, 'burn': 1839, 'dare': 1840, 'therefore': 1841, 'growth': 1842, 'expressed': 1843, 'unethical': 1844, 'lying': 1845, 'harm': 1846, 'passion': 1847, 'intervention': 1848, 'sudden': 1849, 'apologize': 1850, 'accepted': 1851, 'helpfulness': 1852, 'wrist': 1853, 'truth': 1854, 'connection': 1855, 'grove': 1856, 'assumed': 1857, 'hole': 1858, 'selling': 1859, 'advanced': 1860, 'vitals': 1861, 'slow': 1862, 'wound': 1863, '2000': 1864, 'diagnosing': 1865, 'style': 1866, 'psychological': 1867, 'shut': 1868, '3rd': 1869, 'hit': 1870, 'performing': 1871, 'unique': 1872, '22': 1873, 'trained': 1874, 'cheek': 1875, \"husband's\": 1876, 'massive': 1877, 'naturally': 1878, 'everyday': 1879, 'twin': 1880, 'trustworthy': 1881, 'saving': 1882, '2018': 1883, 'physically': 1884, 'thus': 1885, 'hysterectomy': 1886, 'nicest': 1887, 'terrific': 1888, 'mobility': 1889, 'prompt': 1890, 'enjoyed': 1891, 'loving': 1892, 'dream': 1893, 'bush': 1894, 'peace': 1895, 'plant': 1896, 'thrilled': 1897, 'exceptionally': 1898, 'angel': 1899, 'tight': 1900, 'negligent': 1901, 'declined': 1902, 'prescribes': 1903, 'impersonal': 1904, 'uninterested': 1905, 'sought': 1906, 'expense': 1907, 'concerning': 1908, 'wide': 1909, 'emotion': 1910, 'fish': 1911, 'hers': 1912, 'monitor': 1913, 'pull': 1914, 'fracture': 1915, 'screen': 1916, 'follows': 1917, 'luckily': 1918, 'greedy': 1919, 'picked': 1920, 'government': 1921, '1.5': 1922, 'unorganized': 1923, 'messed': 1924, 'pm': 1925, '16': 1926, 'pelvic': 1927, 'frustration': 1928, 'cured': 1929, 'injured': 1930, 'stick': 1931, 'accused': 1932, 'rock': 1933, 'overweight': 1934, 'opposite': 1935, '1000': 1936, 'orthodontic': 1937, 'fell': 1938, 'accommodate': 1939, 'nasal': 1940, 'sample': 1941, 'mood': 1942, 'lousy': 1943, 'significantly': 1944, 'anxious': 1945, 'employee': 1946, 'determined': 1947, 'wellness': 1948, 'complain': 1949, 'labor': 1950, 'building': 1951, 'delay': 1952, 'credential': 1953, '80': 1954, 'letting': 1955, 'activity': 1956, 'mass': 1957, 'frozen': 1958, 'holiday': 1959, 'balance': 1960, 'chest': 1961, 'stone': 1962, 'water': 1963, 'checkup': 1964, 'numb': 1965, 'plain': 1966, 'utmost': 1967, \"children's\": 1968, 'stitch': 1969, 'died': 1970, 'patch': 1971, 'memory': 1972, 'freezing': 1973, 'scary': 1974, 'selection': 1975, 'floor': 1976, 'created': 1977, '35': 1978, 'uterine': 1979, 'colon': 1980, 'choosing': 1981, 'heel': 1982, 'evaluate': 1983, 'path': 1984, 'remind': 1985, 'relaxing': 1986, 'evening': 1987, 'researching': 1988, 'superb': 1989, 'hopeful': 1990, 'embryologist': 1991, 'defensive': 1992, 'fortunately': 1993, 'medically': 1994, 'straw': 1995, 'dark': 1996, 'fool': 1997, 'sympathetic': 1998, 'uterus': 1999, 'improving': 2000, 'die': 2001, 'threw': 2002, '150': 2003, 'rudeness': 2004, 'joint': 2005, 'aux': 2006, 'jump': 2007, 'goodness': 2008, 'desperate': 2009, 'psychiatric': 2010, 'warn': 2011, 'view': 2012, 'informing': 2013, 'reasonable': 2014, 'yearly': 2015, 'distance': 2016, 'aesthetic': 2017, 'planning': 2018, 'abnormal': 2019, 'advocate': 2020, 'decent': 2021, 'insulin': 2022, 'driving': 2023, 'questioning': 2024, 'mastectomy': 2025, 'brush': 2026, 'south': 2027, 'hypothyroidism': 2028, 'lifetime': 2029, 'apart': 2030, 'handed': 2031, 'edge': 2032, 'greeted': 2033, 'salesman': 2034, 'released': 2035, 'lumbar': 2036, 'managing': 2037, 'ethical': 2038, 'vie': 2039, 'wondering': 2040, 'code': 2041, 'video': 2042, 'shown': 2043, 'soft': 2044, 'excessive': 2045, 'shady': 2046, 'wire': 2047, 'factory': 2048, 'unbelievable': 2049, 'ashamed': 2050, 'bigger': 2051, 'lump': 2052, 'store': 2053, 'evidence': 2054, 'weird': 2055, 'reproductive': 2056, 'commitment': 2057, 'judgment': 2058, 'thankfully': 2059, 'incision': 2060, 'terribly': 2061, 'combination': 2062, 'metal': 2063, 'avoided': 2064, 'subject': 2065, 'vein': 2066, 'favorite': 2067, 'oil': 2068, 'consulting': 2069, 'laugh': 2070, 'besides': 2071, 'usual': 2072, 'blind': 2073, 'arrival': 2074, 'supposedly': 2075, 'honesty': 2076, 'band': 2077, 'weekly': 2078, 'artist': 2079, 'satisfactory': 2080, 'awhile': 2081, 'bladder': 2082, 'john': 2083, 'identify': 2084, 'autoimmune': 2085, 'analysis': 2086, 'satisfaction': 2087, 'continues': 2088, 'toenail': 2089, 'pharmaceutical': 2090, 'flexible': 2091, '2010': 2092, 'maintain': 2093, 'useful': 2094, 'lesion': 2095, '2013': 2096, 'professionally': 2097, 'tuck': 2098, 'elbow': 2099, 'bless': 2100, 'grant': 2101, 'gem': 2102, 'gratitude': 2103, 'inviting': 2104, 'co': 2105, 'warmth': 2106, 'blamed': 2107, 'throwing': 2108, 'cavity': 2109, 'screw': 2110, 'plate': 2111, 'instructed': 2112, 'black': 2113, 'sight': 2114, 'radiation': 2115, 'hang': 2116, 'description': 2117, 'anesthesia': 2118, 'seven': 2119, 'alcohol': 2120, '400': 2121, 'raised': 2122, 'yelling': 2123, 'input': 2124, 'learning': 2125, 'loose': 2126, 'dignity': 2127, 'greatest': 2128, 'assembly': 2129, \"wife's\": 2130, 'loud': 2131, 'disabled': 2132, 'prove': 2133, 'spouse': 2134, 'embarrassed': 2135, 'mentally': 2136, 'reported': 2137, 'yesterday': 2138, 'relative': 2139, 'pretend': 2140, 'mirror': 2141, 'remain': 2142, 'wedding': 2143, 'sincerely': 2144, 'behalf': 2145, 'device': 2146, 'statistic': 2147, 'pointed': 2148, '1': 2149, 'eczema': 2150, 'wondered': 2151, 'inch': 2152, 'watching': 2153, 'counter': 2154, 'rudest': 2155, 'garbage': 2156, 'kicked': 2157, 'neglected': 2158, 'compared': 2159, 'pituitary': 2160, 'portion': 2161, 'desperately': 2162, 'additionally': 2163, 'disgusting': 2164, 'emotionally': 2165, 'technician': 2166, 'shocking': 2167, 'conservative': 2168, 'individualized': 2169, 'perfectly': 2170, 'depth': 2171, 'gill': 2172, 'becoming': 2173, 'rely': 2174, 'reduced': 2175, 'death': 2176, 'marriage': 2177, 'imaging': 2178, 'determine': 2179, 'infusion': 2180, 'bag': 2181, 'debilitating': 2182, 'frankly': 2183, 'pressured': 2184, 'apologized': 2185, 'ball': 2186, 'curt': 2187, 'standing': 2188, 'include': 2189, 'recovering': 2190, '2012': 2191, 'steroid': 2192, 'emailed': 2193, 'dissatisfied': 2194, 'encounter': 2195, 'invoice': 2196, 'responding': 2197, 'increased': 2198, 'perspective': 2199, 'spread': 2200, 'shortly': 2201, 'pro': 2202, 'bright': 2203, 'chin': 2204, 'tunnel': 2205, 'deserves': 2206, 'text': 2207, 'brand': 2208, 'deciding': 2209, 'repaired': 2210, 'amazingly': 2211, 'personnel': 2212, 'bra': 2213, 'smaller': 2214, 'damaged': 2215, 'master': 2216, 'impacted': 2217, 'destroyed': 2218, 'severely': 2219, 'assigned': 2220, 'chosen': 2221, 'unsuccessful': 2222, 'guide': 2223, 'dentistry': 2224, 'laid': 2225, 'healthier': 2226, 'exp': 2227, 'sans': 2228, 'rave': 2229, 'crisis': 2230, 'perfectionist': 2231, 'herbal': 2232, 'proud': 2233, 'attending': 2234, 'remedy': 2235, 'create': 2236, 'ache': 2237, 'willingness': 2238, 'welcomed': 2239, 'rehab': 2240, 'berger': 2241, 'secure': 2242, 'communicates': 2243, 'cheerful': 2244, 'nick': 2245, 'patronizing': 2246, 'specialized': 2247, 'laughed': 2248, 'nutrition': 2249, 'slightly': 2250, 'incident': 2251, 'preformed': 2252, 'inability': 2253, 'arthritis': 2254, 'neither': 2255, 'bothering': 2256, 'assume': 2257, 'walker': 2258, 'quiet': 2259, 'reluctant': 2260, 'dismiss': 2261, 'integrity': 2262, 'disability': 2263, 'offering': 2264, 'inept': 2265, 'negligence': 2266, 'removing': 2267, 'responds': 2268, 'consults': 2269, 'designed': 2270, 'consent': 2271, 'booking': 2272, 'burning': 2273, 'blue': 2274, 'medicated': 2275, 'role': 2276, 'writes': 2277, 'scale': 2278, 'fight': 2279, 'critical': 2280, 'argued': 2281, 'solved': 2282, 'tomorrow': 2283, 'oath': 2284, 'sounded': 2285, 'associated': 2286, 'persistent': 2287, 'ripped': 2288, 'crown': 2289, 'goodbye': 2290, 'described': 2291, 'reality': 2292, 'brief': 2293, 'beat': 2294, 'hypothyroid': 2295, 'held': 2296, 'exception': 2297, 'tip': 2298, 'overly': 2299, 'an': 2300, 'disinterested': 2301, 'valuable': 2302, 'acceptable': 2303, 'hoped': 2304, 'listed': 2305, 'mill': 2306, 'grand': 2307, 'judged': 2308, 'killed': 2309, 'mixed': 2310, 'counselor': 2311, 'breaking': 2312, 'upsetting': 2313, 'pusher': 2314, 'data': 2315, 'mask': 2316, 'xray': 2317, 'horribly': 2318, 'apt': 2319, 'hello': 2320, 'surely': 2321, 'accessible': 2322, 'strange': 2323, 'sharp': 2324, '95': 2325, 'slowly': 2326, 'scheduler': 2327, 'cancellation': 2328, 'attended': 2329, 'underlying': 2330, 'hurried': 2331, 'staying': 2332, 'v': 2333, 'alcoholic': 2334, 'opposed': 2335, 'mild': 2336, 'discover': 2337, 'candidate': 2338, 'encourages': 2339, 'revoked': 2340, 'donor': 2341, 'prefer': 2342, 'rep': 2343, 'handling': 2344, 'tonsil': 2345, 'jumped': 2346, 'package': 2347, 'typing': 2348, 'reconstruction': 2349, 'march': 2350, 'numbness': 2351, 'downhill': 2352, 'mi': 2353, 'august': 2354, 'ordeal': 2355, 'fitness': 2356, 'reliable': 2357, 'monitoring': 2358, 'alive': 2359, 'con': 2360, 'north': 2361, 'exceeded': 2362, 'herniated': 2363, 'inject': 2364, 'talent': 2365, 'cup': 2366, 'assisted': 2367, 'hassle': 2368, 'desired': 2369, 'realistic': 2370, 'nodule': 2371, 'dent': 2372, 'facing': 2373, 'tremendous': 2374, 'continuing': 2375, 'typical': 2376, 'cleared': 2377, 'insightful': 2378, 'personalized': 2379, 'successfully': 2380, 'source': 2381, 'invested': 2382, 'pearl': 2383, 'faster': 2384, 'happening': 2385, 'coffee': 2386, 'fixing': 2387, 'remarkable': 2388, 'opted': 2389, 'anytime': 2390, 'irritated': 2391, 'generous': 2392, 'sleeping': 2393, 'extended': 2394, 'hug': 2395, 'praise': 2396, 'blocked': 2397, 'cuff': 2398, 'anesthesiologist': 2399, 'science': 2400, 'rapport': 2401, 'remaining': 2402, 'mason': 2403, 'summer': 2404, 'immensely': 2405, 'refreshing': 2406, 'wealth': 2407, 'gifted': 2408, 'abusive': 2409, 'assessed': 2410, 'victim': 2411, 'importance': 2412, 'vet': 2413, 'witnessed': 2414, 'investigation': 2415, 'teach': 2416, 'molly': 2417, 'entirely': 2418, \"she'd\": 2419, 'abuse': 2420, 'pig': 2421, 'solid': 2422, 'tax': 2423, 'endocrinology': 2424, 'demeaning': 2425, 'cheap': 2426, 'closer': 2427, 'delight': 2428, 'build': 2429, 'upcoming': 2430, 'traumatic': 2431, 'unit': 2432, 'ice': 2433, 'phoned': 2434, 'evident': 2435, 'expressing': 2436, 'maximum': 2437, 'cross': 2438, '2.5': 2439, 'recognize': 2440, 'attached': 2441, 'endoscopy': 2442, 'obnoxious': 2443, 'dead': 2444, 'assure': 2445, 'pray': 2446, 'fellow': 2447, 'gal': 2448, 'image': 2449, 'lb': 2450, 'character': 2451, 'enemy': 2452, 'proved': 2453, 'irresponsible': 2454, 'guarantee': 2455, 'ongoing': 2456, 'costly': 2457, 'bite': 2458, 'strength': 2459, 'shift': 2460, 'sciatica': 2461, 'eliminate': 2462, 'bower': 2463, 'grade': 2464, 'compare': 2465, 'interrupted': 2466, 'episode': 2467, 'sarcastic': 2468, 'psychiatry': 2469, 'yeah': 2470, 'laughing': 2471, 'stable': 2472, '350': 2473, 'connect': 2474, 'oncologist': 2475, 'somebody': 2476, 'million': 2477, 'eager': 2478, 'sharing': 2479, 'east': 2480, 'menstrual': 2481, 'insulted': 2482, 'uneven': 2483, 'distracted': 2484, 'purchased': 2485, 'suggesting': 2486, 'tag': 2487, 'larger': 2488, 'shopping': 2489, 'empty': 2490, 'finance': 2491, 'urgency': 2492, 'traveled': 2493, 'hospitalized': 2494, 'truthful': 2495, 'shes': 2496, '5000': 2497, 'appalled': 2498, 'section': 2499, 'courtesy': 2500, 'relatively': 2501, 'relax': 2502, 'fourth': 2503, 'disaster': 2504, 'adrenal': 2505, 'intolerance': 2506, 'factor': 2507, 'epilepsy': 2508, 'glove': 2509, 'communicating': 2510, 'wallet': 2511, 'gold': 2512, 'psychology': 2513, 'laptop': 2514, 'heavy': 2515, 'qualification': 2516, 'severity': 2517, '300': 2518, 'kaiser': 2519, 'gentleman': 2520, 'accordingly': 2521, 'demanding': 2522, 'buck': 2523, 'technical': 2524, 'announced': 2525, 'carpal': 2526, 'presence': 2527, 'clueless': 2528, 'weak': 2529, 'quicker': 2530, 'disrespect': 2531, 'regarded': 2532, 'monitored': 2533, 'deductible': 2534, 'institute': 2535, 'preferred': 2536, 'hi': 2537, 'contract': 2538, 'inexperienced': 2539, 'gas': 2540, 'owner': 2541, '29': 2542, 'suspicious': 2543, 'screaming': 2544, 'inconsiderate': 2545, 'mercy': 2546, 'wise': 2547, 'gaining': 2548, 'performance': 2549, 'conducted': 2550, 'priced': 2551, 'testosterone': 2552, 'partial': 2553, 'seminar': 2554, 'threatened': 2555, 'county': 2556, 'hive': 2557, 'stretch': 2558, 'clinician': 2559, 'subsequent': 2560, 'gross': 2561, 'unavailable': 2562, 'catch': 2563, 'motivated': 2564, 'brings': 2565, 'pharmacist': 2566, 'match': 2567, 'pediatrics': 2568, 'allows': 2569, 'singer': 2570, 'percent': 2571, 'belly': 2572, 'bringing': 2573, 'wellbeing': 2574, 'cholesterol': 2575, 'street': 2576, 'restored': 2577, 'retire': 2578, 'nelson': 2579, 'septum': 2580, 'unbearable': 2581, 'correction': 2582, 'reversal': 2583, 'optimistic': 2584, 'bell': 2585, 'moon': 2586, 'variety': 2587, 'compliment': 2588, 'pleasantly': 2589, 'bonus': 2590, 'tiny': 2591, 'assumption': 2592, 'precancerous': 2593, 'flag': 2594, 'problematic': 2595, 'sentence': 2596, 'intelligence': 2597, 'instinct': 2598, 'rod': 2599, 'sue': 2600, 'malpractice': 2601, 'fractured': 2602, 'grown': 2603, 'teenager': 2604, 'overcharged': 2605, 'western': 2606, 'recall': 2607, 'insult': 2608, 'quit': 2609, 'proof': 2610, 'thin': 2611, 'aftercare': 2612, 'industry': 2613, 'legal': 2614, 'suicidal': 2615, 'narcissistic': 2616, 'article': 2617, 'movement': 2618, 'horrific': 2619, 'beg': 2620, 'mainly': 2621, 'observation': 2622, 'relate': 2623, \"she'll\": 2624, 'touched': 2625, 'unrelated': 2626, 'menopause': 2627, 'adjust': 2628, 'generic': 2629, 'mix': 2630, 'heck': 2631, 'arrogance': 2632, 'physiotherapist': 2633, 'recognized': 2634, 'frequently': 2635, 'develop': 2636, 'series': 2637, 'deficiency': 2638, 'syndrome': 2639, 'demanded': 2640, 'nausea': 2641, 'immature': 2642, 'telephone': 2643, 'collection': 2644, 'document': 2645, 'speech': 2646, 'filed': 2647, '700': 2648, 'wart': 2649, 'anyways': 2650, 'turnover': 2651, 'battle': 2652, 'stronger': 2653, 'reviewing': 2654, 'fresh': 2655, 'harder': 2656, 'lazy': 2657, '2007': 2658, 'demander': 2659, 'suddenly': 2660, 'reminds': 2661, 'vibe': 2662, 'nipple': 2663, 'brother': 2664, 'discount': 2665, 'teen': 2666, 'norm': 2667, 'beside': 2668, '48': 2669, 'incorrectly': 2670, 'noticeable': 2671, 'hesitant': 2672, 'bottle': 2673, 'window': 2674, 'located': 2675, 'conscious': 2676, 'university': 2677, 'precious': 2678, 'discharge': 2679, 'demand': 2680, 'missing': 2681, 'nowhere': 2682, 'peer': 2683, 'selected': 2684, 'growing': 2685, 'surprising': 2686, 'borderline': 2687, 'inquire': 2688, 'bacterial': 2689, 'potentially': 2690, 'disagree': 2691, 'maintenance': 2692, 'grab': 2693, 'pissed': 2694, 'solely': 2695, 'minded': 2696, 'claiming': 2697, 'sympathy': 2698, 'cattle': 2699, 'random': 2700, 'bogus': 2701, 'wished': 2702, 'lawyer': 2703, 'separate': 2704, 'confirmation': 2705, 'absence': 2706, 'remembered': 2707, '250': 2708, 'unaware': 2709, 'income': 2710, 'traffic': 2711, 'intense': 2712, 'agony': 2713, 'vaginal': 2714, 'hopeless': 2715, 'lived': 2716, 'pure': 2717, 'blunt': 2718, 'dermatology': 2719, 'familiar': 2720, 'obtain': 2721, 'node': 2722, '26': 2723, 'reminded': 2724, 'sunscreen': 2725, 'dying': 2726, 'accurately': 2727, 'bier': 2728, 'dread': 2729, '19': 2730, 'van': 2731, 'cancerous': 2732, 'fluid': 2733, 'lifting': 2734, 'unimpressed': 2735, 'hears': 2736, 'itchy': 2737, 'monthly': 2738, 'stubborn': 2739, 'virus': 2740, 'bipolar': 2741, 'model': 2742, 'worthless': 2743, 'verify': 2744, 'acknowledged': 2745, 'refers': 2746, 'task': 2747, 'loudly': 2748, 'meanwhile': 2749, 'mayo': 2750, 'forgotten': 2751, 'shunt': 2752, 'scarring': 2753, 'advantage': 2754, 'eyebrow': 2755, 'purpose': 2756, 'deposit': 2757, 'understatement': 2758, 'hot': 2759, \"he'd\": 2760, 'hostile': 2761, 'custom': 2762, 'pride': 2763, 'pursue': 2764, 'creates': 2765, 'gluten': 2766, 'baker': 2767, 'beach': 2768, 'narcotic': 2769, 'requirement': 2770, '00.00': 2771, 'bruising': 2772, 'participate': 2773, '37': 2774, 'update': 2775, 'effectively': 2776, 'chase': 2777, 'base': 2778, 'wake': 2779, 'statement': 2780, 'lean': 2781, 'trial': 2782, 'agreement': 2783, 'asset': 2784, 'empathic': 2785, 'overbooked': 2786, 'shrink': 2787, 'happily': 2788, 'awake': 2789, 'pertinent': 2790, 'identified': 2791, 'fashion': 2792, 'encourage': 2793, 'stem': 2794, 'superior': 2795, 'deviated': 2796, 'slight': 2797, 'men': 2798, 'reflux': 2799, 'rad': 2800, 'fisher': 2801, 'rotator': 2802, 'safely': 2803, 'godsend': 2804, 'intuitive': 2805, 'genesis': 2806, 'audacity': 2807, 'firm': 2808, 'driven': 2809, 'belittling': 2810, 'butchered': 2811, 'ligament': 2812, 'land': 2813, 'wash': 2814, 'owed': 2815, 'whose': 2816, 'yell': 2817, 'progressed': 2818, 'disappeared': 2819, 'contradicted': 2820, 'seemingly': 2821, 'bored': 2822, 'trade': 2823, 'inaccurate': 2824, 'helpless': 2825, 'indicate': 2826, 'apparent': 2827, 'senior': 2828, 'dismisses': 2829, 'annoying': 2830, 'mo': 2831, 'reassurance': 2832, 'virtually': 2833, 'ray': 2834, 'speechless': 2835, 'aneurysm': 2836, '85': 2837, 'overwhelming': 2838, 'sticking': 2839, 'educate': 2840, 'transferring': 2841, 'continually': 2842, 'trauma': 2843, 'gonna': 2844, 'vulnerable': 2845, 'cord': 2846, 'lately': 2847, 'meticulous': 2848, 'dumb': 2849, 'forehead': 2850, 'planned': 2851, 'reluctantly': 2852, 'troubling': 2853, 'consuming': 2854, 'load': 2855, 'hormonal': 2856, 'chat': 2857, 'aloof': 2858, 'display': 2859, 'sake': 2860, 'corrective': 2861, '21': 2862, 'folk': 2863, 'silly': 2864, 'reference': 2865, 'pressed': 2866, 'unkind': 2867, 'tall': 2868, 'lengthy': 2869, 'blaming': 2870, 'intimidated': 2871, 'devastated': 2872, 'proven': 2873, 'cautious': 2874, 'fortune': 2875, '120': 2876, 'kidding': 2877, 'endocrine': 2878, 'crowded': 2879, 'hooked': 2880, 'trait': 2881, 'pump': 2882, 'cope': 2883, 'suggests': 2884, 'dementia': 2885, 'selecting': 2886, 'status': 2887, 'offended': 2888, '037': 2889, 'supply': 2890, 'dire': 2891, 'believing': 2892, 'strict': 2893, 'biased': 2894, 'join': 2895, 'lecture': 2896, 'observed': 2897, 'meaning': 2898, 'documented': 2899, 'licensed': 2900, 'wheel': 2901, 'individually': 2902, 'access': 2903, 'vaccine': 2904, 'questionable': 2905, 'cocky': 2906, 'spray': 2907, 'cat': 2908, 'insomnia': 2909, 'complains': 2910, 'bet': 2911, \"people's\": 2912, 'racist': 2913, 'toddler': 2914, 'volume': 2915, 'penny': 2916, 'glue': 2917, 'disbelief': 2918, 'altering': 2919, 'topic': 2920, 'martin': 2921, 'portal': 2922, 'asleep': 2923, 'fog': 2924, 'resulting': 2925, 'dig': 2926, 'gossiping': 2927, 'dozen': 2928, 'belittled': 2929, 'anger': 2930, 'kicker': 2931, 'yelled': 2932, 'liquid': 2933, 'glowing': 2934, 'rip': 2935, 'collect': 2936, 'indifferent': 2937, 'motion': 2938, 'affordable': 2939, 'tend': 2940, 'grace': 2941, 'callous': 2942, 'unsatisfactory': 2943, 'messy': 2944, 'deeply': 2945, 'pompous': 2946, 'hence': 2947, 'inquiry': 2948, 'specializes': 2949, 'absorbed': 2950, 'relevant': 2951, 'suite': 2952, 'manages': 2953, 'transplant': 2954, 'hire': 2955, 'ceramic': 2956, 'administered': 2957, 'screwed': 2958, 'button': 2959, 'item': 2960, 'processed': 2961, 'noon': 2962, 'neighbor': 2963, 'witness': 2964, 'dishonest': 2965, 'sheet': 2966, 'draw': 2967, 'identical': 2968, \"they've\": 2969, '70': 2970, 'irritating': 2971, 'profit': 2972, 'nonsense': 2973, 'holding': 2974, 'insane': 2975, 'tho': 2976, 'shop': 2977, 'suspected': 2978, 'ovary': 2979, 'documentation': 2980, 'rich': 2981, '42': 2982, 'mediocre': 2983, 'hurting': 2984, 'yoga': 2985, 'pad': 2986, 'guaranteed': 2987, 'abruptly': 2988, 'taught': 2989, 'kidney': 2990, 'sedation': 2991, 'typically': 2992, 'carry': 2993, 'lymph': 2994, 'demon': 2995, 'holly': 2996, 'orthopedics': 2997, 'reassure': 2998, 'stern': 2999, 'confidently': 3000, 'relay': 3001, 'urge': 3002, 'beautifully': 3003, 'ignores': 3004, 'grew': 3005, 'moral': 3006, 'artery': 3007, 'ugly': 3008, 'resident': 3009, 'built': 3010, 'impact': 3011, 'committed': 3012, 'breathe': 3013, 'oriented': 3014, 'curious': 3015, 'teacher': 3016, '4th': 3017, 'displayed': 3018, 'authorization': 3019, 'scare': 3020, 'boost': 3021, 'closing': 3022, 'hallway': 3023, 'ultra': 3024, 'receipt': 3025, 'radiologist': 3026, 'sends': 3027, 'esteem': 3028, 'eyeglass': 3029, 'infected': 3030, 'named': 3031, 'unbelievably': 3032, 'smell': 3033, 'visual': 3034, 'employer': 3035, 'waking': 3036, 'faced': 3037, 'fl': 3038, 'bureau': 3039, 'plantar': 3040, 'soul': 3041, '28': 3042, 'rescheduling': 3043, 'reached': 3044, 'approached': 3045, 'irritation': 3046, 'suitable': 3047, 'recommends': 3048, 'thoroughness': 3049, 'fancy': 3050, 'occasionally': 3051, 'precise': 3052, 'hypo': 3053, 'mission': 3054, 'reimbursed': 3055, 'arrangement': 3056, 'renew': 3057, 'eyesight': 3058, 'measure': 3059, 'harsh': 3060, 'uneasy': 3061, 'visible': 3062, 'sum': 3063, 'gained': 3064, 'valley': 3065, 'extend': 3066, 'aging': 3067, 'sciatic': 3068, 'hyper': 3069, 'corp': 3070, 'key': 3071, 'magic': 3072, 'evil': 3073, 'dietary': 3074, 'giver': 3075, 'block': 3076, 'scalp': 3077, 'prognosis': 3078, 'liposuction': 3079, 'intern': 3080, 'gradually': 3081, 'rice': 3082, 'demonstrated': 3083, 'bulging': 3084, 'controlled': 3085, 'calmed': 3086, 'undergoing': 3087, \"women's\": 3088, 'teaching': 3089, 'battling': 3090, 'gym': 3091, 'tinnitus': 3092, 'dramatically': 3093, 'hey': 3094, 'interview': 3095, 'vaccination': 3096, 'carrying': 3097, 'coil': 3098, 'knife': 3099, 'grading': 3100, 'enormous': 3101, 'gracious': 3102, 'efficiently': 3103, 'beauty': 3104, 'digestion': 3105, 'refreshed': 3106, 'watt': 3107, 'shore': 3108, 'remembers': 3109, 'reservation': 3110, 'sherry': 3111, '110': 3112, 'retina': 3113, 'peter': 3114, 'tan': 3115, 'unparalleled': 3116, \"one's\": 3117, 'impeccable': 3118, 'collecting': 3119, 'relied': 3120, 'inadequate': 3121, 'robot': 3122, 'considerable': 3123, 'approved': 3124, 'impolite': 3125, 'counseling': 3126, 'gorgeous': 3127, 'requiring': 3128, 'inquired': 3129, 'hardware': 3130, 'angle': 3131, 'sedative': 3132, 'song': 3133, 'aide': 3134, 'interrupt': 3135, 'mailed': 3136, 'infant': 3137, 'spite': 3138, 'increasing': 3139, 'ruptured': 3140, 'capacity': 3141, 'cow': 3142, 'epidural': 3143, '2011': 3144, 'sept': 3145, 'questionnaire': 3146, 'ultimate': 3147, 'explore': 3148, 'attorney': 3149, 'ugh': 3150, 'countless': 3151, 'slightest': 3152, 'superficial': 3153, 'sky': 3154, 'rapid': 3155, 'accompanied': 3156, 'refusing': 3157, 'femme': 3158, 'criticism': 3159, 'property': 3160, 'drawn': 3161, 'atrocious': 3162, 'pattern': 3163, 'passive': 3164, 'kinda': 3165, 'reporting': 3166, 'arrange': 3167, 'spasm': 3168, 'tic': 3169, 'displeased': 3170, 'attacked': 3171, 'nicer': 3172, 'syringe': 3173, 'ring': 3174, 'trick': 3175, 'horrified': 3176, 'spa': 3177, 'ounce': 3178, 'beth': 3179, 'horrendous': 3180, 'antidepressant': 3181, 'dared': 3182, 'contacting': 3183, 'fallen': 3184, 'helper': 3185, 'thief': 3186, 'blow': 3187, 'dam': 3188, 'instance': 3189, 'argue': 3190, 'padding': 3191, 'adjusted': 3192, 'rigid': 3193, 'suffers': 3194, 'becomes': 3195, 'fan': 3196, \"they'll\": 3197, 'swear': 3198, 'internist': 3199, 'distant': 3200, 'necessarily': 3201, 'hardship': 3202, 'sloppy': 3203, 'involve': 3204, 'assuming': 3205, 'nutritionist': 3206, '99': 3207, 'calorie': 3208, 'tends': 3209, 'blank': 3210, 'miller': 3211, 'considers': 3212, 'max': 3213, 'robotic': 3214, 'exist': 3215, 'disregard': 3216, 'dislike': 3217, 'beneath': 3218, 'toxic': 3219, 'marketing': 3220, 'gimmick': 3221, 'religion': 3222, 'maker': 3223, 'offensive': 3224, 'introduce': 3225, 'examines': 3226, 'diligent': 3227, 'avoiding': 3228, 'ruled': 3229, 'girlfriend': 3230, 'sun': 3231, 'ground': 3232, 'functional': 3233, 'addicted': 3234, 'remark': 3235, 'intimidating': 3236, 'burned': 3237, 'spare': 3238, 'drew': 3239, 'bruise': 3240, 'faxed': 3241, 'archer': 3242, 'bracket': 3243, 'formal': 3244, 'investigate': 3245, 'tongue': 3246, 'hated': 3247, 'filing': 3248, 'frequency': 3249, 'functioning': 3250, 'fire': 3251, 'unnecessarily': 3252, 'cortisone': 3253, 'candy': 3254, 'notifying': 3255, 'transition': 3256, 'bacon': 3257, \"let's\": 3258, 'produce': 3259, 'unusual': 3260, 'outdated': 3261, 'material': 3262, 'appropriately': 3263, 'market': 3264, 'prenatal': 3265, 'closely': 3266, 'noted': 3267, 'dinner': 3268, 'charging': 3269, 'versed': 3270, 'shook': 3271, 'sober': 3272, 'creepy': 3273, 'synthetic': 3274, 'bleed': 3275, 'bye': 3276, 'obtaining': 3277, 'refilled': 3278, 'unsanitary': 3279, 'intention': 3280, 'discontinued': 3281, 'approx': 3282, 'shorter': 3283, 'furthermore': 3284, 'merely': 3285, 'revealed': 3286, 'pin': 3287, 'reaching': 3288, 'protect': 3289, 'wave': 3290, 'miscarried': 3291, 'film': 3292, 'prepare': 3293, 'behave': 3294, 'hint': 3295, 'morale': 3296, '2': 3297, 'justify': 3298, \"would've\": 3299, '6000': 3300, 'unreal': 3301, 'spur': 3302, 'intentionally': 3303, 'enter': 3304, 'wrinkle': 3305, 'corner': 3306, 'vertigo': 3307, 'concluded': 3308, 'greet': 3309, 'grinding': 3310, 'guard': 3311, 'resurfacing': 3312, 'summary': 3313, 'devastating': 3314, 'fails': 3315, 'essentially': 3316, 'slept': 3317, 'heavily': 3318, 'neurosurgery': 3319, 'sued': 3320, 'humanity': 3321, 'tense': 3322, 'accent': 3323, 'ex': 3324, 'staffer': 3325, 'occurred': 3326, 'traumatized': 3327, 'relation': 3328, 'squeeze': 3329, 'sits': 3330, 'caution': 3331, 'outpatient': 3332, 'uneducated': 3333, 'seat': 3334, 'vascular': 3335, 'summarize': 3336, 'mesh': 3337, 'tennis': 3338, 'accommodated': 3339, 'bilateral': 3340, 'reimbursement': 3341, 'apologetic': 3342, 'athlete': 3343, 'weather': 3344, 'e': 3345, 'administration': 3346, 'heather': 3347, 'married': 3348, 'evidently': 3349, 'cooper': 3350, 'arriving': 3351, 'congestion': 3352, 'insist': 3353, 'entering': 3354, 'engaged': 3355, 'ya': 3356, \"else's\": 3357, 'requisition': 3358, 'funded': 3359, 'internal': 3360, 'lawsuit': 3361, 'touching': 3362, 'worsening': 3363, 'meantime': 3364, 'witch': 3365, 'appeal': 3366, 'homework': 3367, 'chemical': 3368, 'disregarded': 3369, 'imagined': 3370, 'implied': 3371, 'affiliated': 3372, 'clock': 3373, 'conduct': 3374, 'annoyance': 3375, 'elective': 3376, 'dermatitis': 3377, 'boyfriend': 3378, 'absurd': 3379, 'uncovered': 3380, 'neurology': 3381, 'hidden': 3382, 'promising': 3383, 'purchase': 3384, 'narrow': 3385, 'whats': 3386, 'deployment': 3387, 'exchange': 3388, 'mobile': 3389, 'west': 3390, 'worn': 3391, 'security': 3392, 'urged': 3393, 'parathyroid': 3394, 'engaging': 3395, 'bathroom': 3396, 'misleading': 3397, 'ideal': 3398, 'abandoned': 3399, 'safety': 3400, 'exemplary': 3401, 'majority': 3402, 'visibly': 3403, 'jean': 3404, 'th': 3405, 'guided': 3406, 'gate': 3407, 'acute': 3408, 'bridge': 3409, 'parenting': 3410, 'gamble': 3411, 'anesthetic': 3412, 'preference': 3413, 'cute': 3414, 'divorce': 3415, 'remained': 3416, 'criterion': 3417, 'untrue': 3418, 'belle': 3419, 'delivering': 3420, '30th': 3421, 'decreased': 3422, 'adding': 3423, 'skillful': 3424, '23': 3425, 'indication': 3426, '31': 3427, 'occur': 3428, 'laboratory': 3429, 'searched': 3430, 'lid': 3431, 'carotid': 3432, 'throughly': 3433, 'graft': 3434, 'similarly': 3435, 'police': 3436, 'terrified': 3437, 'teenage': 3438, 'remission': 3439, 'prolapse': 3440, 'deny': 3441, 'falling': 3442, 'canceling': 3443, 'painkiller': 3444, 'apply': 3445, '32': 3446, 'intestine': 3447, 'bully': 3448, 'disposition': 3449, 'gum': 3450, 'inflammatory': 3451, 'pace': 3452, 'pinpoint': 3453, 'healer': 3454, 'distress': 3455, 'crutch': 3456, 'educator': 3457, 'parasite': 3458, 'obtained': 3459, 'cervical': 3460, 'substance': 3461, 'ending': 3462, 'cartilage': 3463, 'diploma': 3464, 'bar': 3465, 'diminished': 3466, 'posture': 3467, 'accomplished': 3468, 'educational': 3469, 'wholeheartedly': 3470, 'thoracic': 3471, 'diagnostics': 3472, 'wax': 3473, 'animal': 3474, 'vasectomy': 3475, 'feared': 3476, 'proactive': 3477, 'makeover': 3478, 'fort': 3479, 'heartbeat': 3480, 'anticipated': 3481, 'adore': 3482, 'eternally': 3483, 'jay': 3484, 'equipped': 3485, 'breeze': 3486, 'believer': 3487, 'straightforward': 3488, 'no': 3489, 'soothing': 3490, 'attribute': 3491, 'ensures': 3492, 'nervousness': 3493, 'upbeat': 3494, 'alleviated': 3495, 'fox': 3496, 'energetic': 3497, 'yang': 3498, 'hay': 3499, 'maria': 3500, 'passing': 3501, 'focusing': 3502, 'verbally': 3503, 'tape': 3504, 'indicating': 3505, 'untrained': 3506, 'adequately': 3507, \"family's\": 3508, 'politely': 3509, 'femur': 3510, 'titanium': 3511, 'concentrate': 3512, 'vertebra': 3513, 'replace': 3514, 'expression': 3515, 'shrugged': 3516, 'cedar': 3517, 'alert': 3518, 'addiction': 3519, 'definitively': 3520, 'pu': 3521, 'entertain': 3522, 'ignore': 3523, 'disagreed': 3524, 'accusatory': 3525, 'evaluating': 3526, 'yep': 3527, 'guilder': 3528, 'unprepared': 3529, 'hotel': 3530, 'moron': 3531, 'alleviate': 3532, 'straighten': 3533, 'kick': 3534, 'enjoys': 3535, 'stare': 3536, 'coat': 3537, 'easiest': 3538, 'steer': 3539, 'cynical': 3540, 'palpitation': 3541, 'poster': 3542, 'definition': 3543, 'excess': 3544, 'contest': 3545, 'charming': 3546, 'profile': 3547, 'fed': 3548, 'trough': 3549, 'insert': 3550, 'cheapest': 3551, 'wherever': 3552, 'scarred': 3553, 'relocated': 3554, 'brow': 3555, 'knot': 3556, 'complimentary': 3557, 'prolonged': 3558, 'grasp': 3559, 'humiliated': 3560, 'sedated': 3561, 'served': 3562, 'attach': 3563, 'miserable': 3564, 'crystal': 3565, 'recurrence': 3566, 'pathology': 3567, 'redone': 3568, 'dis': 3569, 'assisting': 3570, 'conscience': 3571, 'humility': 3572, 'temper': 3573, 'dropping': 3574, 'expects': 3575, 'hiring': 3576, 'picky': 3577, 'thick': 3578, 'urine': 3579, 'uncalled': 3580, 'daycare': 3581, 'disturbing': 3582, 'thrown': 3583, 'roll': 3584, 'unsure': 3585, 'route': 3586, 'everywhere': 3587, 'installed': 3588, 'estimated': 3589, 'ward': 3590, 'lasted': 3591, 'rolled': 3592, 'margin': 3593, '2005': 3594, 'hired': 3595, 'cursory': 3596, '180': 3597, 'veteran': 3598, 'dispute': 3599, 'travail': 3600, 'gen': 3601, 'vile': 3602, 'facile': 3603, 'shorten': 3604, 'drained': 3605, 'intensity': 3606, 'criticized': 3607, 'violation': 3608, 'worsen': 3609, 'begging': 3610, 'link': 3611, 'scenario': 3612, 'graduated': 3613, 'appalling': 3614, 'mid': 3615, 'ushered': 3616, 'ringing': 3617, 'dizzy': 3618, 'approaching': 3619, 'progesterone': 3620, 'supervisor': 3621, 'confidentiality': 3622, 'jerk': 3623, 'settle': 3624, 'applying': 3625, 'labeled': 3626, 'pointing': 3627, 'opinionated': 3628, 'overpriced': 3629, \"someone's\": 3630, 'breastfeeding': 3631, 'truthfully': 3632, 'henry': 3633, 'oversight': 3634, 'smug': 3635, 'deplorable': 3636, 'afterward': 3637, 'lowered': 3638, 'adjusting': 3639, 'burst': 3640, 'notification': 3641, 'disappear': 3642, '09': 3643, 'extensively': 3644, 'bruised': 3645, 'compelled': 3646, 'validate': 3647, \"kid's\": 3648, 'representation': 3649, 'differently': 3650, 'randomly': 3651, 'misled': 3652, 'produced': 3653, 'packet': 3654, 'tailor': 3655, 'absorb': 3656, 'national': 3657, 'carried': 3658, 'music': 3659, 'faded': 3660, 'midwife': 3661, 'redness': 3662, 'printed': 3663, 'paediatrician': 3664, 'reflects': 3665, 'draining': 3666, 'prefers': 3667, 'sculpting': 3668, 'lacked': 3669, 'overheard': 3670, 'objective': 3671, 'interpreted': 3672, 'dawn': 3673, 'psych': 3674, 'promote': 3675, 'arrogantly': 3676, 'concussion': 3677, 'psychotherapy': 3678, 'pot': 3679, 'iodine': 3680, 'depended': 3681, 'deserved': 3682, 'unheard': 3683, 'uncommon': 3684, 'instrument': 3685, 'faking': 3686, 'unneeded': 3687, 'unclear': 3688, 'yellow': 3689, 'dirt': 3690, 'happiness': 3691, 'sour': 3692, 'closest': 3693, 'levy': 3694, 'suited': 3695, 'ointment': 3696, 'probe': 3697, 'crack': 3698, 'secondary': 3699, 'posse': 3700, 'endless': 3701, 'openly': 3702, 'calendar': 3703, 'stepping': 3704, '55': 3705, 'carrier': 3706, 'pan': 3707, 'published': 3708, 'ordering': 3709, 'intend': 3710, 'welfare': 3711, 'minus': 3712, 'undergone': 3713, 'consequence': 3714, 'inconsistent': 3715, 'fund': 3716, 'discounted': 3717, 'registered': 3718, 'ineffective': 3719, 'conceived': 3720, 'quantity': 3721, 'collected': 3722, 'detached': 3723, 'spirit': 3724, 'pit': 3725, 'bowel': 3726, 'arch': 3727, 'insole': 3728, 'accounting': 3729, 'renewal': 3730, 'pack': 3731, 'greets': 3732, 'gallbladder': 3733, 'bizarre': 3734, 'cm': 3735, 'supported': 3736, 'gilbert': 3737, 'respectfully': 3738, 'sir': 3739, 'height': 3740, 'paralysis': 3741, 'interim': 3742, 'retrieve': 3743, 'fly': 3744, 'overbook': 3745, 'screamed': 3746, \"he'll\": 3747, 'refusal': 3748, 'golf': 3749, '2500': 3750, 'tolerable': 3751, 'staffed': 3752, 'evaluated': 3753, 'counted': 3754, 'advertises': 3755, 'decency': 3756, 'aback': 3757, 'pitch': 3758, 'fooled': 3759, 'blurry': 3760, 'snake': 3761, 'consumer': 3762, 'shockingly': 3763, 'dumped': 3764, 'abrasive': 3765, 'drainage': 3766, 'square': 3767, 'select': 3768, 'greater': 3769, '8000': 3770, 'gall': 3771, 'medium': 3772, 'belong': 3773, 'applicable': 3774, 'reflected': 3775, 'tie': 3776, 'ovarian': 3777, 'anterior': 3778, 'culture': 3779, 'regimen': 3780, 'england': 3781, 'assumes': 3782, 'spring': 3783, 'immunization': 3784, 'persisted': 3785, 'decline': 3786, 'clarify': 3787, 'requesting': 3788, 'patent': 3789, 'privilege': 3790, 'jumping': 3791, 'caregiver': 3792, 'buying': 3793, 'fritz': 3794, 'practically': 3795, 'hurtful': 3796, 'panel': 3797, 'sclerosis': 3798, 'violated': 3799, 'begged': 3800, 'pulling': 3801, 'appreciation': 3802, 'moreover': 3803, 'assessing': 3804, 'concrete': 3805, 'interacted': 3806, 'bias': 3807, 'permanently': 3808, 'genius': 3809, 'watched': 3810, 'interact': 3811, 'concurred': 3812, 'geneticist': 3813, 'category': 3814, 'elected': 3815, 'existed': 3816, 'iron': 3817, 'neuralgia': 3818, 'taste': 3819, 'closure': 3820, 'chatting': 3821, 'skip': 3822, 'advises': 3823, 'creating': 3824, 'sexual': 3825, 'numbing': 3826, 'commented': 3827, 'avant': 3828, 'pendant': 3829, 'bandaged': 3830, 'alway': 3831, 'flexibility': 3832, 'foremost': 3833, 'strip': 3834, 'wrapped': 3835, 'compromised': 3836, 'latter': 3837, 'whoever': 3838, 'cleaned': 3839, 'temperature': 3840, 'payer': 3841, 'survey': 3842, 'unprofessionally': 3843, 'deemed': 3844, 'among': 3845, 'dermatological': 3846, 'adequate': 3847, 'structure': 3848, 'estimate': 3849, 'pop': 3850, 'fa': 3851, 'aider': 3852, 'fulcrum': 3853, 'island': 3854, 'argumentative': 3855, 'affecting': 3856, 'mount': 3857, 'lung': 3858, 'reminder': 3859, 'clarification': 3860, 'transfered': 3861, 'accepts': 3862, 'sweat': 3863, 'ed': 3864, 'strategy': 3865, 'biopsied': 3866, 'interrupting': 3867, 'fare': 3868, 'pleasurable': 3869, 'addictive': 3870, 'conception': 3871, 'construction': 3872, 'exorbitant': 3873, 'denies': 3874, 'shin': 3875, 'enthusiastic': 3876, 'unresponsive': 3877, 'encore': 3878, 'existing': 3879, 'hastily': 3880, 'glucose': 3881, 'solving': 3882, 'upright': 3883, 'trainer': 3884, 'gender': 3885, 'occurring': 3886, 'staring': 3887, 'organ': 3888, 'registration': 3889, 'kindly': 3890, 'nine': 3891, 'overlooked': 3892, 'lo': 3893, 'frazzled': 3894, 'regulation': 3895, 'theory': 3896, 'washroom': 3897, 'gently': 3898, 'autism': 3899, 'spoon': 3900, 'changer': 3901, 'adhesion': 3902, 'educating': 3903, 'youngest': 3904, 'finest': 3905, 'shrug': 3906, '27': 3907, 'alright': 3908, 'trigger': 3909, 'denture': 3910, 'achieved': 3911, 'initiative': 3912, 'timing': 3913, 'boundary': 3914, 'unsuccessfully': 3915, 'stepped': 3916, 'crap': 3917, 'utterly': 3918, 'hill': 3919, 'recovered': 3920, 'restore': 3921, 'pimple': 3922, 'maintaining': 3923, 'tantrum': 3924, 'nonce': 3925, 'surrogate': 3926, 'continuously': 3927, 'blew': 3928, 'neat': 3929, 'moat': 3930, 'ride': 3931, 'submitted': 3932, 'occasional': 3933, 'shy': 3934, 'picking': 3935, 'ca': 3936, 'wary': 3937, 'ha': 3938, 'heller': 3939, 'underwent': 3940, 'overdose': 3941, 'flare': 3942, 'crowd': 3943, 'reasonably': 3944, 'stranger': 3945, 'proceeds': 3946, 'spell': 3947, 'diagnostician': 3948, 'turbinate': 3949, 'whitening': 3950, 'scientific': 3951, 'minimally': 3952, 'encouragement': 3953, 'crossed': 3954, 'advising': 3955, 'eliminated': 3956, 'hygiene': 3957, 'defeated': 3958, 'renewed': 3959, 'accountability': 3960, 'seaman': 3961, 'memorial': 3962, 'acid': 3963, 'auto': 3964, 'viral': 3965, 'rib': 3966, 'earned': 3967, 'smartest': 3968, 'horse': 3969, 'expander': 3970, 'cruise': 3971, 'sinusitis': 3972, 'pelvis': 3973, 'flatter': 3974, 'stretching': 3975, 'grain': 3976, 'trimester': 3977, 'definite': 3978, 'placing': 3979, 'profound': 3980, 'understandable': 3981, 'mommy': 3982, 'fought': 3983, 'down': 3984, 'amongst': 3985, 'dislocation': 3986, 'kudos': 3987, 'saver': 3988, 'creative': 3989, 'orthopedist': 3990, 'consummate': 3991, 'strives': 3992, 'genetics': 3993, 'excellence': 3994, 'green': 3995, 'enhanced': 3996, 'beneficial': 3997, 'muller': 3998, 'multitude': 3999, 'twenty': 4000, 'peaceful': 4001, 'appreciative': 4002, 'vast': 4003, 'canning': 4004, 'perfection': 4005, 'blend': 4006, 'capping': 4007, 'steeves': 4008, 'beck': 4009, 'parfait': 4010, 'queen': 4011, 'aged': 4012, 'cox': 4013, 'killer': 4014, 'craft': 4015, 'rob': 4016, '71': 4017, 'attentively': 4018, 'conscientious': 4019, 'toothache': 4020, '360': 4021, 'coiling': 4022, 'arguing': 4023, 'describing': 4024, 'naked': 4025, \"day's\": 4026, 'harmful': 4027, 'accuses': 4028, 'farther': 4029, 'military': 4030, 'exploring': 4031, 'constructive': 4032, 'vital': 4033, 'preschooler': 4034, 'sunshine': 4035, 'snappy': 4036, 'quietly': 4037, 'whisper': 4038, 'bend': 4039, 'tore': 4040, 'insertion': 4041, 'polyp': 4042, 'press': 4043, 'meat': 4044, 'indicates': 4045, 'prevention': 4046, 'cracked': 4047, 'disk': 4048, 'hide': 4049, 'dietitian': 4050, 'rapidly': 4051, 'headed': 4052, 'cane': 4053, 'jack': 4054, 'slammed': 4055, 'recording': 4056, 'behaving': 4057, 'crucial': 4058, 'stunned': 4059, 'gilder': 4060, 'freeze': 4061, 'int': 4062, 'transformation': 4063, 'snob': 4064, 'healthiest': 4065, 'bare': 4066, 'declared': 4067, 'twisted': 4068, 'downfall': 4069, 'eastern': 4070, 'rd': 4071, 'facilitate': 4072, '5th': 4073, 'necessity': 4074, 'terminology': 4075, 'ad': 4076, 'abnormality': 4077, 'administering': 4078, 'stupidly': 4079, 'array': 4080, 'gynecology': 4081, 'definitive': 4082, 'fixated': 4083, 'unworthy': 4084, 'adapt': 4085, 'tung': 4086, 'faxing': 4087, 'loop': 4088, 'uncooperative': 4089, 'reflection': 4090, 'detect': 4091, '7th': 4092, 'boo': 4093, 'misplaced': 4094, 'king': 4095, 'manifest': 4096, 'grabbed': 4097, 'eight': 4098, '7000': 4099, 'popular': 4100, 'flaw': 4101, '230': 4102, 'specially': 4103, 'forgets': 4104, 'absent': 4105, 'resolution': 4106, 'phoenix': 4107, 'strain': 4108, 'recheck': 4109, 'fitting': 4110, 'proceeding': 4111, 'apathetic': 4112, '10th': 4113, 'lowest': 4114, 'journal': 4115, 'foul': 4116, 'articulate': 4117, 'pinched': 4118, 'hammer': 4119, 'starter': 4120, 'slot': 4121, '84': 4122, 'ignoring': 4123, 'perception': 4124, 'united': 4125, 'scolded': 4126, 'champ': 4127, 'financially': 4128, 'transform': 4129, 'mot': 4130, 'target': 4131, 'habit': 4132, 'standoffish': 4133, 'berated': 4134, 'occurrence': 4135, 'autistic': 4136, 'relies': 4137, 'metabolism': 4138, 'lectured': 4139, 'counting': 4140, 'yea': 4141, 'aggressively': 4142, 'incapable': 4143, 'infomercial': 4144, 'crappy': 4145, 'validity': 4146, 'desirable': 4147, 'society': 4148, 'judging': 4149, 'noise': 4150, 'huh': 4151, 'uh': 4152, 'sarcasm': 4153, 'hell': 4154, 'saline': 4155, 'confusing': 4156, 'flagged': 4157, 'forthcoming': 4158, 'shortest': 4159, 'somehow': 4160, 'disciplinary': 4161, 'productive': 4162, 'triple': 4163, 'dependent': 4164, 'respecting': 4165, 'combative': 4166, 'edgewise': 4167, 'in': 4168, 'clot': 4169, 'noting': 4170, 'conferred': 4171, 'longest': 4172, 'yelp': 4173, 'applied': 4174, 'unreasonable': 4175, \"everyone's\": 4176, 'destroy': 4177, 'ruin': 4178, 'justified': 4179, 'courage': 4180, 'uptight': 4181, 'straightened': 4182, 'poking': 4183, 'allergen': 4184, 'outright': 4185, 'brusque': 4186, 'shaking': 4187, 'reprehensible': 4188, 'functionality': 4189, 'holy': 4190, 'noisy': 4191, 'arrested': 4192, '08': 4193, 'clerk': 4194, 'employed': 4195, 'trans': 4196, 'magazine': 4197, 'grocery': 4198, 'keen': 4199, 'agency': 4200, 'unknown': 4201, 'alarming': 4202, 'ineptitude': 4203, 'jersey': 4204, 'intellectual': 4205, 'incomplete': 4206, 'pricing': 4207, 'irritable': 4208, 'horrid': 4209, 'downright': 4210, 'regional': 4211, 'washed': 4212, 'progressive': 4213, 'contracted': 4214, 'park': 4215, 'friendliest': 4216, 'primarily': 4217, 'packed': 4218, 'marked': 4219, 'hack': 4220, 'observant': 4221, 'discriminated': 4222, \"could've\": 4223, 'stressing': 4224, 'raise': 4225, 'depressive': 4226, 'establishment': 4227, 'rolling': 4228, 'unkempt': 4229, 'zone': 4230, 'proudly': 4231, 'thereby': 4232, 'willingly': 4233, 'arrives': 4234, 'imaginable': 4235, 'strep': 4236, 'charismatic': 4237, 'sensible': 4238, 'thirty': 4239, 'germ': 4240, 'dried': 4241, 'milk': 4242, 'cruel': 4243, 'bug': 4244, 'milking': 4245, 'indicator': 4246, 'unlock': 4247, 'chill': 4248, 'discrepancy': 4249, 'print': 4250, 'genetic': 4251, 'directed': 4252, 'bat': 4253, 'repetitive': 4254, 'camera': 4255, 'lewis': 4256, 'withdrawal': 4257, 'tolerate': 4258, 'weakness': 4259, 'agonizing': 4260, 'shouted': 4261, 'physiotherapy': 4262, 'confirming': 4263, 'eliminating': 4264, 'varicose': 4265, 'shifted': 4266, 'improper': 4267, 'penalty': 4268, 'curing': 4269, 'concept': 4270, 'bos': 4271, '40.00': 4272, 'aspirin': 4273, 'unreliable': 4274, 'amputated': 4275, 'reflect': 4276, 'egotistical': 4277, 'ridiculously': 4278, 'vertical': 4279, 'fold': 4280, 'gout': 4281, 'deceitful': 4282, 'relayed': 4283, 'consisted': 4284, 'greeting': 4285, 'guideline': 4286, 'drip': 4287, 'surprisingly': 4288, 'drama': 4289, 'prejudice': 4290, 'induction': 4291, 'preventing': 4292, 'fragment': 4293, 'administer': 4294, 'barking': 4295, 'nope': 4296, 'equal': 4297, 'insufficient': 4298, 'conflicting': 4299, 'avenue': 4300, 'defend': 4301, 'unsatisfied': 4302, 'dept': 4303, 'shake': 4304, 'interval': 4305, 'signing': 4306, 'terminated': 4307, 'creek': 4308, 'backwards': 4309, 'preparation': 4310, 'costing': 4311, 'motivation': 4312, 'coincidence': 4313, 'demonstrate': 4314, 'introduced': 4315, 'bloody': 4316, 'criminal': 4317, \"person's\": 4318, 'player': 4319, 'caretaker': 4320, 'haughty': 4321, 'utter': 4322, 'permission': 4323, 'pillow': 4324, 'thrive': 4325, 'smoke': 4326, 'transportation': 4327, 'achieving': 4328, 'burden': 4329, 'dump': 4330, 'pricey': 4331, 'garage': 4332, 'civil': 4333, 'drain': 4334, 'defined': 4335, 'bullied': 4336, 'ranging': 4337, 'danger': 4338, 'briefly': 4339, 'dressed': 4340, '170': 4341, 'pap': 4342, 'interviewed': 4343, 'lighter': 4344, 'bird': 4345, 'airway': 4346, 'tune': 4347, 'overtime': 4348, 'coin': 4349, 'caller': 4350, 'wheelchair': 4351, 'cramped': 4352, 'forgetful': 4353, 'chemistry': 4354, 'beforehand': 4355, 'snide': 4356, 'dime': 4357, 'roughly': 4358, 'worsened': 4359, 'suspect': 4360, 'pubic': 4361, 'prevented': 4362, 'wreck': 4363, 'echo': 4364, '3.5': 4365, 'baffled': 4366, 'notified': 4367, \"who's\": 4368, 'kinder': 4369, 'tactic': 4370, 'undergo': 4371, 'pee': 4372, 'ovulate': 4373, 'burnt': 4374, 'barred': 4375, 'tightening': 4376, 'awkward': 4377, 'medicinal': 4378, 'negotiate': 4379, 'notify': 4380, 'degrading': 4381, 'communicated': 4382, 'injecting': 4383, 'unnatural': 4384, 'tempered': 4385, 'nonexistent': 4386, 'survivor': 4387, 'vain': 4388, 'lobe': 4389, 'twist': 4390, 'varied': 4391, 'engage': 4392, 'extent': 4393, 'paralyzed': 4394, 'conduction': 4395, 'mumbled': 4396, 'noticing': 4397, 'urgently': 4398, 'challenged': 4399, 'flu': 4400, 'luxury': 4401, 'grabbing': 4402, 'ovulating': 4403, 'nut': 4404, 'petty': 4405, 'dismissing': 4406, 'podiatry': 4407, 'noticeably': 4408, 'scheme': 4409, 'demarcation': 4410, 'drinking': 4411, 'suture': 4412, 'overcharge': 4413, 'unfeeling': 4414, 'drastically': 4415, 'mineral': 4416, 'exposure': 4417, 'failing': 4418, 'faint': 4419, 'torture': 4420, 'depends': 4421, 'overworked': 4422, 'ingredient': 4423, 'correcting': 4424, 'covering': 4425, 'diary': 4426, 'waist': 4427, 'presentable': 4428, 'washing': 4429, 'bacteria': 4430, 'inquiring': 4431, 'frightened': 4432, 'allegation': 4433, 'balloon': 4434, 'meaningful': 4435, 'limp': 4436, 'plaque': 4437, 'updated': 4438, 'gentler': 4439, 'consequently': 4440, 'stance': 4441, 'accompanying': 4442, 'intake': 4443, 'sticker': 4444, 'id': 4445, 'consulter': 4446, 'puzzle': 4447, 'relying': 4448, 'knight': 4449, 'studying': 4450, 'inefficient': 4451, 'messaging': 4452, 'flight': 4453, 'carol': 4454, 'wrap': 4455, 'meditation': 4456, 'loyalty': 4457, 'revolving': 4458, 'automatically': 4459, 'contrary': 4460, 'textbook': 4461, 'ft': 4462, 'fighting': 4463, 'insanity': 4464, 'shed': 4465, 'unsympathetic': 4466, 'snap': 4467, 'unexpected': 4468, 'retirement': 4469, 'cognitive': 4470, '36': 4471, 'relaxer': 4472, 'epileptic': 4473, 'forbid': 4474, 'availability': 4475, 'identifying': 4476, 'fifth': 4477, 'obsessed': 4478, 'guessing': 4479, 'arranged': 4480, 'crook': 4481, 'reserve': 4482, '75': 4483, 'decompression': 4484, 'element': 4485, 'turning': 4486, 'myers': 4487, 'mandatory': 4488, 'acting': 4489, 'nostril': 4490, 'impartial': 4491, 'independent': 4492, 'graf': 4493, 'carcinoma': 4494, 'checkout': 4495, 'moody': 4496, 'regiment': 4497, \"office's\": 4498, 'roof': 4499, 'comprehend': 4500, 'imbalance': 4501, 'mentor': 4502, 'medicament': 4503, 'wanna': 4504, 'dong': 4505, 'repeating': 4506, 'arise': 4507, '33': 4508, 'preoccupied': 4509, 'verbal': 4510, 'reminding': 4511, 'drag': 4512, 'subsequently': 4513, 'bullying': 4514, 'magically': 4515, 'rat': 4516, 'gallstone': 4517, 'psoriasis': 4518, 'pathetic': 4519, 'dilated': 4520, 'cardiac': 4521, 'fifteen': 4522, 'abscess': 4523, 'tweak': 4524, 'unwelcome': 4525, 'shameful': 4526, 'conveniently': 4527, 'groggy': 4528, 'organization': 4529, 'discouraging': 4530, 'crossing': 4531, 'altered': 4532, 'humane': 4533, 'kill': 4534, 'heartbreaking': 4535, 'bout': 4536, 'swift': 4537, 'coordinated': 4538, 'hero': 4539, 'forum': 4540, 'tremor': 4541, 'pneumonia': 4542, '101': 4543, 'visage': 4544, 'reversed': 4545, 'communicator': 4546, 'irregular': 4547, 'substantial': 4548, 'hat': 4549, '140': 4550, 'there': 4551, 'insurer': 4552, 'fr': 4553, 'highway': 4554, 'shell': 4555, 'scope': 4556, 'preform': 4557, 'hereditary': 4558, 'rebound': 4559, 'freedom': 4560, 'wast': 4561, 'hale': 4562, 'unbiased': 4563, 'pertaining': 4564, 'joined': 4565, 'authority': 4566, 'snapped': 4567, 'loan': 4568, 'reveal': 4569, \"we'll\": 4570, 'bought': 4571, 'versus': 4572, 'skull': 4573, 'smarter': 4574, 'shoved': 4575, 'fused': 4576, 'vomiting': 4577, 'pigmentation': 4578, 'dysfunctional': 4579, 'deceptive': 4580, 'decently': 4581, 'codeine': 4582, 'lastly': 4583, 'rejected': 4584, 'bounced': 4585, '450': 4586, 'surgically': 4587, 'banned': 4588, 'vegetable': 4589, 'discouraged': 4590, '28th': 4591, 'shaving': 4592, 'raving': 4593, 'overwhelmed': 4594, 'mistaken': 4595, 'cardiologist': 4596, 'vastly': 4597, 'herniation': 4598, 'specialize': 4599, 'tension': 4600, 'itch': 4601, 'frown': 4602, 'grandmother': 4603, 'cycling': 4604, 'yo': 4605, 'curve': 4606, 'grief': 4607, 'dear': 4608, 'warrant': 4609, 'denial': 4610, 'pressuring': 4611, 'unrealistic': 4612, '7962428': 4613, 'abandon': 4614, 'thumb': 4615, 'shirt': 4616, 'lactose': 4617, \"staff's\": 4618, 'serving': 4619, 'dress': 4620, 'kickback': 4621, 'attentiveness': 4622, 'professor': 4623, 'metro': 4624, 'train': 4625, 'inflamed': 4626, 'performs': 4627, \"nit's\": 4628, 'stair': 4629, 'ramble': 4630, 'benign': 4631, 'ignorance': 4632, 'winter': 4633, 'legally': 4634, 'anti': 4635, 'preliminary': 4636, 'jail': 4637, 'craving': 4638, 'warranted': 4639, 'hype': 4640, 'celebrity': 4641, 'preventative': 4642, 'restless': 4643, 'metabolic': 4644, 'screening': 4645, 'astigmatism': 4646, 'disappears': 4647, 'broad': 4648, 'sided': 4649, 'connects': 4650, 'premier': 4651, 'chunk': 4652, 'organize': 4653, 'exhibit': 4654, 'mate': 4655, 'sweating': 4656, 'northern': 4657, 'snack': 4658, 'recurrent': 4659, 'ensured': 4660, 'bicep': 4661, 'unmatched': 4662, 'overcome': 4663, 'mike': 4664, 'mall': 4665, 'catching': 4666, 'icing': 4667, 'exhausting': 4668, 'speed': 4669, 'memorable': 4670, 'designer': 4671, 'sen': 4672, 'comfortably': 4673, 'upgrade': 4674, 'intently': 4675, 'instant': 4676, 'undivided': 4677, 'tony': 4678, 'exceedingly': 4679, 'inspired': 4680, 'seamless': 4681, 'sweetheart': 4682, 'lupus': 4683, 'fut': 4684, 'province': 4685, 'deeper': 4686, 'ensuring': 4687, 'frequent': 4688, 'diligently': 4689, 'persistence': 4690, 'enjoying': 4691, 'exhibited': 4692, 'development': 4693, 'delighted': 4694, 'prep': 4695, 'cheering': 4696, 'granddaughter': 4697, 'chronically': 4698, 'foundation': 4699, 'flawless': 4700, 'storm': 4701, 'tam': 4702, 'palomino': 4703, 'uncertainty': 4704, 'solver': 4705, 'overjoyed': 4706, 'sincerity': 4707, 'transparent': 4708, 'prayer': 4709, 'sweetest': 4710, 'oiled': 4711, 'regulate': 4712, 'magical': 4713, 'shine': 4714, 'delivers': 4715, 'degeneration': 4716, 'immaculate': 4717, 'clearing': 4718, 'handsome': 4719, 'endoscopic': 4720, 'extraordinary': 4721, 'operative': 4722, 'seal': 4723, 'win': 4724, 'cheer': 4725, 'misery': 4726, 'wit': 4727, 'painlessly': 4728, '2004': 4729, 'granted': 4730, 'proficient': 4731, 'crew': 4732, 'porter': 4733, 'wishing': 4734, 'split': 4735, 'attest': 4736, 'concise': 4737, 'region': 4738, 'likewise': 4739, 'youthful': 4740, 'inspires': 4741, 'hamstring': 4742, 'figuring': 4743, 'layer': 4744, 'lining': 4745, 'plane': 4746, 'duct': 4747, 'prominent': 4748, 'physiological': 4749, 'collaboration': 4750, '2003': 4751, 'kale': 4752, 'insure': 4753, 'freedman': 4754, 'beaut': 4755, 'bloom': 4756, 'funk': 4757, 'scolding': 4758, 'furious': 4759, 'generated': 4760, 'scotch': 4761, 'officious': 4762, 'depend': 4763, 'drill': 4764, 'comparable': 4765, 'grover': 4766, 'theoretical': 4767, 'pursuing': 4768, 'phase': 4769, 'posting': 4770, 'rotation': 4771, 'staple': 4772, 'cap': 4773, 'def': 4774, 'delaying': 4775, 'snotty': 4776, 'sing': 4777, 'trainee': 4778, 'subside': 4779, 'nephew': 4780, 'handicap': 4781, 'chaotic': 4782, 'lined': 4783, 'accidentally': 4784, 'string': 4785, 'hustle': 4786, '2002': 4787, 'homeopathic': 4788, 'exhaustive': 4789, 'preparing': 4790, 'supporter': 4791, 'unanswered': 4792, 'abscessed': 4793, 'mapped': 4794, 'sliced': 4795, 'developing': 4796, 'ridge': 4797, 'crushed': 4798, 'scattered': 4799, 'dishonesty': 4800, 'proclaimed': 4801, 'snippy': 4802, 'hood': 4803, 'bandage': 4804, 'laying': 4805, 'foolish': 4806, 'discrimination': 4807, 'assignment': 4808, 'stamp': 4809, 'veterinarian': 4810, 'jittery': 4811, 'commence': 4812, 'recount': 4813, 'overdone': 4814, 'deleted': 4815, 'convey': 4816, 'pensioner': 4817, 'reducing': 4818, 'injects': 4819, 'dissolve': 4820, 'sub': 4821, 'fastest': 4822, 'scanned': 4823, 'exaggeration': 4824, 'swept': 4825, 'zapped': 4826, 'cigarette': 4827, 'aim': 4828, 'dart': 4829, 'hooded': 4830, 'elevated': 4831, 'crow': 4832, 'iced': 4833, 'disfigured': 4834, 'phobia': 4835, 'crude': 4836, 'vial': 4837, 'optic': 4838, 'neuritis': 4839, 'exacerbation': 4840, 'federal': 4841, 'represent': 4842, 'reacts': 4843, 'reckless': 4844, 'belongs': 4845, 'prob': 4846, 'trillium': 4847, 'legitimate': 4848, 'font': 4849, 'president': 4850, 'obese': 4851, 'virtual': 4852, 'juice': 4853, 'pointless': 4854, 'babysitter': 4855, 'princess': 4856, 'filthy': 4857, '52': 4858, 'hardest': 4859, 'pending': 4860, 'seller': 4861, 'brushing': 4862, 'placement': 4863, 'scariest': 4864, 'appliance': 4865, '900': 4866, 'breezed': 4867, 'crass': 4868, 'supremely': 4869, 'accelerated': 4870, 'forceps': 4871, 'weighed': 4872, 'livid': 4873, 'commission': 4874, 'messing': 4875, '1998': 4876, \"layman's\": 4877, 'jargon': 4878, 'exhaustion': 4879, 'pinch': 4880, 'paycheck': 4881, 'ridicule': 4882, 'contrite': 4883, 'lapsed': 4884, 'measured': 4885, 'doll': 4886, 'lord': 4887, 'submitting': 4888, 'continuer': 4889, 'neglect': 4890, 'mechanic': 4891, 'runner': 4892, 'appealed': 4893, 'equation': 4894, 'exhausted': 4895, 'workout': 4896, 'watcher': 4897, 'waiver': 4898, 'popper': 4899, 'poked': 4900, 'impress': 4901, 'denying': 4902, 'oak': 4903, 'accuracy': 4904, 'jar': 4905, 'refrain': 4906, 'etiquette': 4907, 'freckle': 4908, 'haste': 4909, 'sentiment': 4910, 'introducing': 4911, 'acknowledging': 4912, 'grumpy': 4913, 'award': 4914, 'incompetency': 4915, 'lingering': 4916, 'inaccessible': 4917, 'mantra': 4918, 'imagining': 4919, 'stuffy': 4920, 'clothes': 4921, 'supervising': 4922, 'swearing': 4923, 'erase': 4924, 'repost': 4925, 'upping': 4926, 'guiding': 4927, 'bordering': 4928, 'leaning': 4929, 'culturally': 4930, 'sexist': 4931, \"gill's\": 4932, 'mailbox': 4933, 'nevertheless': 4934, 'hart': 4935, 'overpaid': 4936, 'fullest': 4937, 'rant': 4938, 'distorted': 4939, 'erratic': 4940, 'illegal': 4941, 'pigeon': 4942, 'application': 4943, 'decides': 4944, 'assault': 4945, 'injuring': 4946, 'directive': 4947, 'crime': 4948, 'violent': 4949, \"baby's\": 4950, 'breastfeed': 4951, 'testimony': 4952, 'biz': 4953, 'racket': 4954, 'estrogen': 4955, 'compound': 4956, 'droopy': 4957, 'freak': 4958, '240': 4959, 'pity': 4960, 'chaos': 4961, 'detrimental': 4962, 'nitrogen': 4963, 'suspicion': 4964, 'undue': 4965, 'established': 4966, 'breastfed': 4967, 'inconvenienced': 4968, 'dreadful': 4969, 'treatable': 4970, 'traveling': 4971, 'vanished': 4972, 'disrespected': 4973, 'locked': 4974, 'racing': 4975, 'doorway': 4976, 'resistant': 4977, 'seated': 4978, 'engineer': 4979, 'sicker': 4980, 'annoy': 4981, 'numbed': 4982, 'dramatic': 4983, 'irrational': 4984, 'adversarial': 4985, 'appearing': 4986, '1457474272': 4987, 'hobby': 4988, 'politics': 4989, 'gun': 4990, 'upwards': 4991, 'pile': 4992, 'heartache': 4993, 'tea': 4994, 'caffeine': 4995, 'concentration': 4996, 'tangent': 4997, 'acceptance': 4998, 'leaky': 4999, 'gap': 5000, 'mainland': 5001, '130': 5002, 'gruff': 5003, 'scathing': 5004, 'sic': 5005, 'wind': 5006, 'comply': 5007, 'insisting': 5008, 'overreacting': 5009, 'purser': 5010, 'swell': 5011, 'excused': 5012, 'recorded': 5013, \"physician's\": 5014, 'inattentive': 5015, 'appointed': 5016, 'aggravation': 5017, 'enrolled': 5018, 'outrageous': 5019, 'pocketbook': 5020, 'corrupt': 5021, 'powerful': 5022, 'confront': 5023, 'grimace': 5024, 'grin': 5025, 'featured': 5026, 'receives': 5027, 'compensation': 5028, 'succeed': 5029, 'rational': 5030, 'payable': 5031, 'filter': 5032, 'panda': 5033, 'enlarged': 5034, 'physicals': 5035, 'grommet': 5036, '1500': 5037, 'bounce': 5038, 'unreachable': 5039, 'sliding': 5040, 'menu': 5041, 'oz': 5042, 'transfusion': 5043, 'heat': 5044, 'unpinned': 5045, 'sensed': 5046, 'couch': 5047, 'incidence': 5048, 'singled': 5049, 'hematologist': 5050, 'divulged': 5051, 'tuned': 5052, 'glanced': 5053, 'micro': 5054, 'needling': 5055, 'itemized': 5056, 'explicitly': 5057, 'ethnicity': 5058, 'waterloo': 5059, 'kitchener': 5060, 'sierra': 5061, '38': 5062, 'motility': 5063, 'negativity': 5064, 'crash': 5065, 'infused': 5066, 'workplace': 5067, 'sever': 5068, 'skipped': 5069, 'surrounding': 5070, 'dermal': 5071, '10.00': 5072, 'admission': 5073, 'guilt': 5074, 'expiration': 5075, 'um': 5076, 'hitting': 5077, 'inner': 5078, 'insecure': 5079, 'sensation': 5080, 'disconcerting': 5081, 'emergent': 5082, 'mortality': 5083, 'prejudiced': 5084, 'induced': 5085, 'heartless': 5086, 'semester': 5087, 'infectious': 5088, 'irrelevant': 5089, 'disdain': 5090, 'weigh': 5091, 'overseas': 5092, '60.00': 5093, 'presenting': 5094, 'motor': 5095, 'lasting': 5096, 'moderate': 5097, 'gown': 5098, 'cleavage': 5099, 'chain': 5100, 'estate': 5101, 'doubled': 5102, 'hostage': 5103, 'oxygen': 5104, 'herpes': 5105, 'retaining': 5106, 'inexplicably': 5107, 'libido': 5108, 'whack': 5109, 'agitated': 5110, 'jerking': 5111, 'douche': 5112, 'rupture': 5113, 'overrated': 5114, '92': 5115, 'displeasure': 5116, 'outweighed': 5117, 'apple': 5118, 'tree': 5119, 'marking': 5120, 'redundant': 5121, '440': 5122, 'authorize': 5123, 'soccer': 5124, 'worrying': 5125, 'custody': 5126, '1999': 5127, 'custodial': 5128, 'opposing': 5129, 'pale': 5130, 'comparison': 5131, 'coastal': 5132, 'asst': 5133, 'honored': 5134, 'manipulative': 5135, 'inspecting': 5136, 'exasperated': 5137, 'dug': 5138, 'mgr': 5139, 'impaired': 5140, 'uncertain': 5141, 'misdiagnose': 5142, '23rd': 5143, 'sterile': 5144, 'includes': 5145, 'harass': 5146, \"god's\": 5147, 'humiliation': 5148, 'monkey': 5149, 'being': 5150, '56': 5151, 'dictated': 5152, 'mew': 5153, 'measly': 5154, '194': 5155, 'coward': 5156, 'arose': 5157, 'buyer': 5158, 'agent': 5159, 'influence': 5160, 'disgrace': 5161, 'smear': 5162, 'deteriorated': 5163, 'politeness': 5164, 'controversy': 5165, \"we'd\": 5166, 'chewing': 5167, 'tower': 5168, 'lotion': 5169, 'chasing': 5170, 'dos': 5171, 'malignant': 5172, 'colitis': 5173, 'anal': 5174, 'fissure': 5175, 'irritate': 5176, 'budge': 5177, 'declining': 5178, 'undiagnosed': 5179, 'cheater': 5180, 'karma': 5181, 'spiked': 5182, 'reliever': 5183, 'staffing': 5184, 'unwelcoming': 5185, 'thigh': 5186, 'tentative': 5187, 'alignment': 5188, 'osteopath': 5189, 'schizophrenia': 5190, 'skyrocket': 5191, 'credibility': 5192, 'disservice': 5193, 'brochure': 5194, 'nonchalant': 5195, 'played': 5196, 'lumpy': 5197, 'belittles': 5198, 'molar': 5199, 'lobby': 5200, 'gossip': 5201, 'varying': 5202, 'psychic': 5203, 'rebook': 5204, 'competently': 5205, 'scrape': 5206, 'unqualified': 5207, 'schooling': 5208, 'cocktail': 5209, 'narcissist': 5210, 'heartfelt': 5211, 'suspended': 5212, 'appealing': 5213, 'manipulates': 5214, 'psychotic': 5215, 'dessicated': 5216, 'snooty': 5217, 'simplest': 5218, 'khan': 5219, 'discontent': 5220, 'deb': 5221, 'introductory': 5222, 'overfilled': 5223, 'clone': 5224, 'recurring': 5225, 'shaw': 5226, 'director': 5227, 'viewed': 5228, 'guinea': 5229, 'entitled': 5230, 'heed': 5231, 'stared': 5232, 'calcification': 5233, 'title': 5234, 'introduction': 5235, 'unattached': 5236, \"nurse's\": 5237, 'partly': 5238, 'fro': 5239, 'hostility': 5240, 'condescendingly': 5241, 'forgetting': 5242, 'rang': 5243, 'slide': 5244, 'signal': 5245, 'distraught': 5246, 'ovulation': 5247, 'blockage': 5248, 'saleswoman': 5249, 'shoddy': 5250, 'squirrel': 5251, 'gimmicky': 5252, 'upscale': 5253, 'comparing': 5254, 'fatal': 5255, 'verge': 5256, 'breakdown': 5257, 'condemned': 5258, 'reasoning': 5259, 'overbooks': 5260, 'boob': 5261, 'rendered': 5262, 'mucus': 5263, 'improperly': 5264, 'damaging': 5265, 'fate': 5266, 'delusional': 5267, 'hacked': 5268, 'resort': 5269, 'lesbian': 5270, 'plague': 5271, 'devil': 5272, 'disheartening': 5273, 'audiologist': 5274, 'fitted': 5275, 'forgive': 5276, 'vaccinated': 5277, 'ting': 5278, 'unborn': 5279, 'immense': 5280, 'selfish': 5281, 'alternate': 5282, 'voiced': 5283, 'gathering': 5284, 'translates': 5285, 'substitute': 5286, 'unapproachable': 5287, 'gel': 5288, 'mangled': 5289, 'invite': 5290, 'imagination': 5291, 'purposely': 5292, 'righteous': 5293, 'venture': 5294, 'prestige': 5295, 'smiled': 5296, 'owned': 5297, 'floating': 5298, 'chief': 5299, 'disregarding': 5300, 'tray': 5301, 'reimburse': 5302, 'mysteriously': 5303, 'protection': 5304, 'reputable': 5305, 'identity': 5306, 'screwing': 5307, 'appoint': 5308, 'compatible': 5309, '07': 5310, 'knowingly': 5311, 'sole': 5312, 'unfocused': 5313, \"mother's\": 5314, '105': 5315, 'attachment': 5316, 'gash': 5317, 'groove': 5318, 'resting': 5319, 'derogatory': 5320, 'kit': 5321, 'distraction': 5322, 'admire': 5323, 'remainder': 5324, 'mentality': 5325, 'actionable': 5326, 'allocated': 5327, 'unconcerned': 5328, 'extract': 5329, 'revenue': 5330, 'contempt': 5331, 'corralled': 5332, 'scratching': 5333, 'bath': 5334, 'parole': 5335, 'phrase': 5336, 'blacklisted': 5337, 'ridding': 5338, 'seventh': 5339, 'preventive': 5340, 'ala': 5341, 'pause': 5342, 'disproportionate': 5343, 'liability': 5344, 'conceited': 5345, 'television': 5346, '000': 5347, 'interacting': 5348, 'mattered': 5349, 'container': 5350, 'sanitation': 5351, 'alike': 5352, 'radioactive': 5353, 'exaggerating': 5354, 'fetal': 5355, 'placental': 5356, 'opt': 5357, 'escort': 5358, 'conducting': 5359, 'warren': 5360, 'citizen': 5361, 'cranky': 5362, 'anesthetist': 5363, 'mailing': 5364, 'slip': 5365, 'pancreatic': 5366, 'appetite': 5367, 'fullness': 5368, 'lurch': 5369, 'connective': 5370, 'thicker': 5371, 'weaning': 5372, 'bow': 5373, 'orange': 5374, 'upside': 5375, 'shallow': 5376, 'forming': 5377, 'magnet': 5378, 'plug': 5379, 'metaphor': 5380, 'admits': 5381, 'herd': 5382, 'southern': 5383, '664.33': 5384, 'intended': 5385, 'inflexible': 5386, 'cite': 5387, 'dyslexia': 5388, 'fraudulent': 5389, 'justice': 5390, 'gov': 5391, 'remnant': 5392, 'extremity': 5393, 'valid': 5394, 'bob': 5395, 'trout': 5396, 'coldly': 5397, 'coup': 5398, 'inf': 5399, 'pretending': 5400, 'freaked': 5401, 'accountable': 5402, 'booth': 5403, 'duh': 5404, 'freaking': 5405, 'shortened': 5406, 'straighter': 5407, 'slew': 5408, 'tacky': 5409, 'wrecked': 5410, 'tragically': 5411, 'permitted': 5412, 'contribute': 5413, 'suicide': 5414, 'coll': 5415, 'basal': 5416, '3000.00': 5417, 'astonished': 5418, 'practiced': 5419, 'blond': 5420, 'legit': 5421, 'doubted': 5422, 'transaction': 5423, 'unwell': 5424, 'fend': 5425, 'sympathize': 5426, 'confronted': 5427, 'earliest': 5428, '24th': 5429, 'battery': 5430, 'hindered': 5431, 'lamb': 5432, 'femmes': 5433, 'madame': 5434, 'propose': 5435, 'sufferer': 5436, 'unfamiliar': 5437, '67': 5438, 'routinely': 5439, 'dissection': 5440, 'chicken': 5441, 'pock': 5442, 'osteoporosis': 5443, 'boring': 5444, 'register': 5445, 'exude': 5446, 'blurred': 5447, 'eroded': 5448, 'stat': 5449, 'commute': 5450, 'arc': 5451, 'bloating': 5452, 'heartbroken': 5453, 'taxpayer': 5454, 'salary': 5455, 'deaf': 5456, 'amazon': 5457, 'approval': 5458, 'slack': 5459, 'consumed': 5460, 'announce': 5461, 'informational': 5462, 'agenda': 5463, 'drastic': 5464, 'dynamic': 5465, 'copied': 5466, 'internationally': 5467, 'hoop': 5468, 'tracking': 5469, '3000': 5470, 'inconclusive': 5471, 'visually': 5472, 'spared': 5473, 'ambulance': 5474, 'socket': 5475, 'guilty': 5476, 'unhealthy': 5477, 'charlatan': 5478, 'resolving': 5479, 'inordinate': 5480, '82': 5481, 'comforted': 5482, 'submit': 5483, 'assurance': 5484, 'holistically': 5485, 'demoralizing': 5486, 'effectiveness': 5487, 'ditch': 5488, 'hurdle': 5489, 'cloud': 5490, 'dust': 5491, 'behaved': 5492, 'lightly': 5493, 'rubber': 5494, 'leak': 5495, 'butcher': 5496, 'rope': 5497, 'puzzled': 5498, 'bravo': 5499, '65': 5500, 'meniscus': 5501, 'carpet': 5502, 'disgust': 5503, 'snoring': 5504, 'anguish': 5505, 'tablet': 5506, 'physiologist': 5507, 'delicate': 5508, 'exercising': 5509, 'sham': 5510, 'legendary': 5511, 'unauthorized': 5512, 'shall': 5513, 'web': 5514, 'ibuprofen': 5515, 'dragged': 5516, 'bronchitis': 5517, 'motto': 5518, 'advertisement': 5519, 'inexperience': 5520, 'unlucky': 5521, 'marker': 5522, 'dissatisfaction': 5523, 'downtown': 5524, 'updating': 5525, 'disengaged': 5526, 'disputed': 5527, 'aloud': 5528, 'circle': 5529, 'egocentric': 5530, 'doe': 5531, 'adopt': 5532, 'heath': 5533, 'supporting': 5534, 'unexplained': 5535, 'eats': 5536, 'seeker': 5537, 'unturned': 5538, 'errand': 5539, 'darn': 5540, 'radio': 5541, 'noter': 5542, 'referenced': 5543, 'shave': 5544, 'stitched': 5545, 'backed': 5546, 'displaced': 5547, 'contributing': 5548, 'map': 5549, 'involving': 5550, 'serve': 5551, 'cherry': 5552, 'rechecks': 5553, 'disgraceful': 5554, 'payed': 5555, 'cc': 5556, 'el': 5557, 'groin': 5558, 'investigating': 5559, 'sexuality': 5560, 'maturity': 5561, 'unsmiling': 5562, 'defamation': 5563, 'defamatory': 5564, 'host': 5565, 'centered': 5566, 'allergist': 5567, '587': 5568, 'promoter': 5569, 'shaved': 5570, 'beard': 5571, 'thoughtless': 5572, 'swore': 5573, 'accusation': 5574, 'dilemma': 5575, 'interface': 5576, 'whispering': 5577, 'behold': 5578, 'binder': 5579, '2500.00': 5580, 'essence': 5581, 'savvy': 5582, 'notion': 5583, 'dauber': 5584, 'earn': 5585, 'scoped': 5586, '269': 5587, 'mindful': 5588, 'pretended': 5589, 'casted': 5590, 'clothing': 5591, 'nearby': 5592, 'blocking': 5593, 'reliance': 5594, 'briefing': 5595, 'subsided': 5596, 'pen': 5597, 'fallow': 5598, 'brisk': 5599, 'cheated': 5600, 'sanitary': 5601, 'grossly': 5602, 'jerked': 5603, 'bay': 5604, 'unexpectedly': 5605, 'fuller': 5606, '7000.00': 5607, 'hubby': 5608, 'twinge': 5609, 'slipped': 5610, 'expanded': 5611, 'applies': 5612, 'forwarded': 5613, 'ascertain': 5614, 'unapologetic': 5615, 'hook': 5616, 'fingertip': 5617, 'identifies': 5618, 'detects': 5619, 'chlamydia': 5620, 'programmed': 5621, 'reacting': 5622, 'dreaded': 5623, 'meridian': 5624, 'unwise': 5625, 'defraud': 5626, 'licensing': 5627, 'spit': 5628, 'handy': 5629, '25th': 5630, 'squamous': 5631, 'jagged': 5632, 'exceed': 5633, 'bull': 5634, 'consequent': 5635, 'undertake': 5636, 'terrifying': 5637, 'prof': 5638, 'row': 5639, 'icy': 5640, 're': 5641, 'determines': 5642, 'utilized': 5643, 'desperation': 5644, 'contributed': 5645, 'inpatient': 5646, 'flimsy': 5647, 'emphasizes': 5648, 'publish': 5649, 'experimental': 5650, 'glance': 5651, 'winning': 5652, 'blatantly': 5653, 'shelf': 5654, 'itching': 5655, 'brutal': 5656, 'customize': 5657, 'feed': 5658, 'plaintiff': 5659, 'widely': 5660, 'contributes': 5661, 'noncompliance': 5662, 'bbl': 5663, '8th': 5664, 'frightening': 5665, 'hyperthyroid': 5666, 'fatigued': 5667, 'distinctly': 5668, 'callback': 5669, 'confidential': 5670, 'lure': 5671, 'prevents': 5672, 'naive': 5673, 'voyeurism': 5674, 'silver': 5675, 'detective': 5676, 'creep': 5677, 'documenting': 5678, 'amicable': 5679, 'menopausal': 5680, 'disturbed': 5681, 'interpersonal': 5682, 'fir': 5683, 'relentless': 5684, 'misalignment': 5685, 'unsettling': 5686, 'adenoid': 5687, 'investigated': 5688, 'install': 5689, 'firstly': 5690, 'gesture': 5691, '41': 5692, 'quizzically': 5693, 'hastings': 5694, 'drake': 5695, 'threaten': 5696, '29th': 5697, 'promo': 5698, 'beating': 5699, 'pollack': 5700, 'misreading': 5701, 'disappoint': 5702, 'contour': 5703, 'distrust': 5704, \"they'd\": 5705, 'consultant': 5706, 'minimized': 5707, 'resubmitted': 5708, '39': 5709, 'tearing': 5710, 'arbitration': 5711, 'rocky': 5712, 'ablation': 5713, 'corridor': 5714, 'mum': 5715, 'beeped': 5716, 'horn': 5717, 'war': 5718, 'overnight': 5719, 'reflecting': 5720, 'validated': 5721, 'strike': 5722, 'gastritis': 5723, 'helmet': 5724, 'affair': 5725, \"who'd\": 5726, 'famous': 5727, 'soonest': 5728, 'certificate': 5729, 'cowboy': 5730, '275': 5731, 'pierce': 5732, 'credible': 5733, 'medicate': 5734, 'premium': 5735, 'antihistamine': 5736, 'realizing': 5737, 'season': 5738, 'imposed': 5739, 'prosthetic': 5740, 'balanced': 5741, 'kindergarten': 5742, 'maternity': 5743, 'stall': 5744, 'praying': 5745, 'investment': 5746, 'firing': 5747, 'swipe': 5748, 'pool': 5749, 'compounding': 5750, 'enhance': 5751, 'chocking': 5752, 'leukemia': 5753, 'object': 5754, 'carelessness': 5755, 'accuse': 5756, 'percentage': 5757, 'entrance': 5758, 'belonged': 5759, '6th': 5760, 'egregious': 5761, 'offense': 5762, 'launched': 5763, 'puke': 5764, 'analyze': 5765, 'cystic': 5766, 'breakout': 5767, 'indent': 5768, 'layout': 5769, 'debating': 5770, '160': 5771, 'depressant': 5772, '1995': 5773, 'progressing': 5774, 'osteoarthritis': 5775, 'accomplish': 5776, 'essential': 5777, 'score': 5778, 'pressing': 5779, 'surface': 5780, 'appendix': 5781, 'behavioral': 5782, 'coordination': 5783, '300.00': 5784, 'seldom': 5785, '115': 5786, 'disinfect': 5787, 'lucid': 5788, 'bough': 5789, 'completion': 5790, 'ctr': 5791, 'activator': 5792, 'rain': 5793, 'prompted': 5794, 'zombie': 5795, 'survival': 5796, 'panicking': 5797, 'oldest': 5798, 'fond': 5799, 'benefited': 5800, 'tattoo': 5801, 'trashed': 5802, '2008': 5803, 'criticize': 5804, 'reconnected': 5805, 'astounded': 5806, 'recherches': 5807, 'dearly': 5808, 'pedestal': 5809, 'whichever': 5810, 'depleting': 5811, 'bond': 5812, 'choking': 5813, 'pardon': 5814, 'fragile': 5815, 'shuffled': 5816, 'guest': 5817, 'throbbed': 5818, 'handful': 5819, 'alter': 5820, 'interpret': 5821, 'supplementation': 5822, 'employ': 5823, \"nelson's\": 5824, 'resigned': 5825, 'greed': 5826, 'embedded': 5827, 'unmentioned': 5828, 'eleven': 5829, 'actively': 5830, 'misunderstood': 5831, 'discovering': 5832, 'relates': 5833, 'coupled': 5834, 'dash': 5835, 'technically': 5836, 'alarmist': 5837, 'formality': 5838, 'bumped': 5839, 'circumference': 5840, \"pediatrician's\": 5841, 'releasing': 5842, 'woe': 5843, 'negatively': 5844, 'cervix': 5845, 'betrayed': 5846, 'exemplifies': 5847, 'sabotage': 5848, 'sobriety': 5849, 'annually': 5850, 'horror': 5851, '72': 5852, 'repay': 5853, 'cake': 5854, 'defiantly': 5855, 'thereafter': 5856, 'pg': 5857, 'progression': 5858, 'glaucoma': 5859, 'indebted': 5860, 'continuous': 5861, 'heartedly': 5862, 'alleviating': 5863, 'barrack': 5864, 'unconditionally': 5865, 'imparting': 5866, 'melanoma': 5867, 'stabilize': 5868, 'grandfather': 5869, 'invaluable': 5870, 'authentic': 5871, 'edit': 5872, 'nouvelle': 5873, 'marvelous': 5874, 'embodies': 5875, 'exudes': 5876, 'bike': 5877, \"life's\": 5878, 'executed': 5879, 'sustained': 5880, 'precision': 5881, 'dresser': 5882, 'collaborative': 5883, 'shooting': 5884, 'speedy': 5885, 'conceiving': 5886, 'nailed': 5887, 'freeman': 5888, 'unforgettable': 5889, 'subtle': 5890, 'nicely': 5891, 'carpenter': 5892, 'responsiveness': 5893, 'admirable': 5894, 'brighter': 5895, 'pleasing': 5896, 'factual': 5897, 'instrumental': 5898, 'delve': 5899, 'uncle': 5900, 'rite': 5901, 'profiter': 5902, 'strengthen': 5903, 'excision': 5904, 'fade': 5905, 'context': 5906, 'osteopathic': 5907, 'picker': 5908, 'jealous': 5909, 'jess': 5910, 'postpartum': 5911, 'cramping': 5912, 'regrowth': 5913, 'exquisite': 5914, 'confidant': 5915, 'energized': 5916, 'remains': 5917, 'enabled': 5918, 'hagen': 5919, 'generation': 5920, 'gladly': 5921, 'descriptor': 5922, 'complexity': 5923, 'regained': 5924, 'ambition': 5925, 'devoted': 5926, 'rejuvenation': 5927, 'coworker': 5928, 'longevity': 5929, 'pesky': 5930, 'coached': 5931, 'reprises': 5932, 'sling': 5933, 'pooch': 5934, 'decorated': 5935, 'golden': 5936, 'humanly': 5937, 'dreading': 5938, 'esp': 5939, 'intuition': 5940, 'bowen': 5941, 'odds': 5942, 'shattered': 5943, 'forefront': 5944, 'capital': 5945, 'tubal': 5946, 'compassionately': 5947, 'cardiovascular': 5948, 'embrace': 5949, 'sizing': 5950, 'silicone': 5951, 'complimented': 5952, 'vigorous': 5953, 'lifesaver': 5954, 'jawline': 5955, 'charm': 5956, 'psychologically': 5957, 'contouring': 5958, 'optometry': 5959, 'representative': 5960, 'retinal': 5961, 'flash': 5962, 'navigate': 5963, 'paired': 5964, 'vodka': 5965, 'multi': 5966, 'spacious': 5967, 'sibling': 5968, 'drawer': 5969, 'ecstatic': 5970, 'kindest': 5971, 'academic': 5972, 'mummy': 5973, 'gland': 5974, 'sunny': 5975, 'mammogram': 5976, 'drooping': 5977, 'priceless': 5978, 'brook': 5979, 'exceeds': 5980, 'childhood': 5981, 'linked': 5982, 'albeit': 5983, 'unhurried': 5984, 'flew': 5985, 'downside': 5986, 'overwhelmingly': 5987, 'morris': 5988, 'hilarious': 5989, 'jenny': 5990, 'grandson': 5991, 'protrusion': 5992, 'channel': 5993, 'worthwhile': 5994, 'altogether': 5995, 'devotion': 5996, 'bland': 5997, 'tricky': 5998, 'counsel': 5999, 'increasingly': 6000, 'stiffness': 6001, 'ken': 6002, 'innovative': 6003, 'nap': 6004, 'dude': 6005, 'defines': 6006, 'swimming': 6007, 'friendliness': 6008, 'fearful': 6009, 'apprehensive': 6010, 'competence': 6011, 'concierge': 6012, 'readily': 6013, 'react': 6014, '43': 6015, '53': 6016, 'rarity': 6017, 'bikini': 6018, 'competition': 6019, 'vivid': 6020, 'version': 6021, 'dispelled': 6022, 'compressed': 6023, 'adores': 6024, 'eldest': 6025, 'frankness': 6026, 'brightens': 6027, 'regain': 6028, 'aching': 6029, 'laughter': 6030, 'indigestion': 6031, 'reachable': 6032, 'mt': 6033, 'optical': 6034, 'exciting': 6035, 'billy': 6036, 'ginger': 6037, 'climb': 6038, 'facet': 6039, 'expediency': 6040, 'qualitative': 6041, 'quantitative': 6042, 'insists': 6043, 'leader': 6044, 'excelled': 6045, 'spoil': 6046, 'grafting': 6047, 'humorous': 6048, 'cited': 6049, 'shooter': 6050, 'loosen': 6051, 'motivator': 6052, 'asthma': 6053, 'yeast': 6054, 'lake': 6055, 'regulated': 6056, 'caner': 6057, 'landed': 6058, 'outgoing': 6059, 'birthday': 6060, 'roman': 6061, 'hiccup': 6062, 'roger': 6063, 'circumcision': 6064, 'soreness': 6065, 'rick': 6066, 'valued': 6067, 'embarrassing': 6068, 'loyal': 6069, 'superstar': 6070, 'apprehension': 6071, \"gilbert's\": 6072, 'roller': 6073, 'utilize': 6074, 'weary': 6075, 'farrago': 6076, 'margarita': 6077, 'sou': 6078, 'victor': 6079, 'fence': 6080, 'danced': 6081, 'skeptic': 6082, 'anniversary': 6083, 'workshop': 6084, 'closet': 6085, 'spoonful': 6086, 'kg': 6087, 'sterling': 6088, 'endured': 6089, 'astounding': 6090, 'winner': 6091, 'misdiagnoses': 6092, 'kneecap': 6093, 'backup': 6094, 'wort': 6095, 'legacy': 6096, 'coast': 6097, 'deficient': 6098, 'bowl': 6099, 'dance': 6100, 'traditional': 6101, 'stunning': 6102, 'cousin': 6103, '64': 6104, 'rejuvenated': 6105, 'bergen': 6106, 'calmer': 6107, 'planter': 6108, 'approve': 6109, 'moisturizer': 6110, 'grandchild': 6111, \"mom's\": 6112, 'graham': 6113, 'integral': 6114, 'bursitis': 6115, 'deterioration': 6116, 'palm': 6117, 'tirelessly': 6118, 'caliber': 6119, 'clipping': 6120, 'despairing': 6121, 'thanksgiving': 6122, 'ranked': 6123, 'unavoidable': 6124, '128522': 6125, 'marijuana': 6126, 'positively': 6127, 'inguinal': 6128, 'skincare': 6129, 'freely': 6130, 'assign': 6131, 'burnout': 6132, 'nondescript': 6133, 'sleazy': 6134, 'incentive': 6135, 'backside': 6136, 'hone': 6137, 'rearranging': 6138, 'sexually': 6139, 'assaulted': 6140, 'population': 6141, 'assertion': 6142, 'coordinate': 6143, 'respiratory': 6144, 'logical': 6145, 'preventable': 6146, 'honeymoon': 6147, 'reconstructed': 6148, 'medal': 6149, 'horizontal': 6150, 'tale': 6151, 'uncomplicated': 6152, 'metatarsal': 6153, 'rack': 6154, 'electronic': 6155, 'unsigned': 6156, '83': 6157, '4.63': 6158, 'cent': 6159, 'minimalism': 6160, 'converse': 6161, 'syrupy': 6162, '473.77': 6163, '0.73': 6164, 'staggered': 6165, 'buts': 6166, 'immobile': 6167, 'troubled': 6168, 'acumen': 6169, 'nodded': 6170, 'peculiar': 6171, \"impression's\": 6172, 'visitor': 6173, 'reign': 6174, 'destroys': 6175, 'ardent': 6176, 'maxillary': 6177, 'pontification': 6178, 'nun': 6179, 'irresponsibly': 6180, 'redid': 6181, 'debacle': 6182, 'risky': 6183, 'bread': 6184, 'yield': 6185, 'extracting': 6186, 'sucked': 6187, \"guilder's\": 6188, 'butted': 6189, '117': 6190, '77': 6191, '172': 6192, 'flop': 6193, 'reattached': 6194, 'reconnaissance': 6195, 'carte': 6196, 'discriminatory': 6197, 'filth': 6198, 'affidavit': 6199, 'govern': 6200, 'surrender': 6201, 'undeserved': 6202, 'postage': 6203, \"cat's\": 6204, '0.04': 6205, '0.35': 6206, \"fish's\": 6207, 'irony': 6208, 'stumbling': 6209, 'onslaught': 6210, 'gushing': 6211, 'rephrasing': 6212, 'viewing': 6213, 'amusing': 6214, 'mistreatment': 6215, 'robbing': 6216, 'freakishly': 6217, 'shudder': 6218, 'dangerously': 6219, 'rural': 6220, 'taper': 6221, \"group's\": 6222, 'vulnerability': 6223, '248236': 6224, 'overview': 6225, 'twitching': 6226, 'uncontrollable': 6227, 'phony': 6228, 'swelled': 6229, 'fume': 6230, 'folding': 6231, 'towel': 6232, 'undo': 6233, '2600': 6234, '47': 6235, 'lax': 6236, 'promotion': 6237, '645.00': 6238, '129': 6239, 'casually': 6240, 'hindrance': 6241, 'paraphernalia': 6242, 'indirectly': 6243, 'whiter': 6244, 'timed': 6245, 'column': 6246, 'southwestern': 6247, 'shined': 6248, 'quitting': 6249, 'shield': 6250, 'sorrow': 6251, 'blink': 6252, 'attaching': 6253, 'uncorrected': 6254, 'discourteous': 6255, 'prophylactic': 6256, 'microscope': 6257, 'begun': 6258, 'ooh': 6259, 'developmentally': 6260, 'egoistic': 6261, 'medico': 6262, 'examiner': 6263, 'assert': 6264, 'elevates': 6265, 'pied': 6266, 'sol': 6267, '15.00': 6268, 'incidental': 6269, 'turner': 6270, 'moodiness': 6271, 'inappropriateness': 6272, 'demonstration': 6273, 'hawk': 6274, 'historical': 6275, 'proscribing': 6276, 'topical': 6277, 'transported': 6278, 'driver': 6279, 'assay': 6280, 'click': 6281, 'curb': 6282, 'dissipated': 6283, 'unproductive': 6284, 'reconsidered': 6285, 'liberty': 6286, 'mutual': 6287, 'trash': 6288, 'uncommunicative': 6289, '185': 6290, 'attempting': 6291, 'melted': 6292, 'abundantly': 6293, 'doubtful': 6294, 'gospel': 6295, 'dominate': 6296, 'widen': 6297, 'eligible': 6298, 'morgue': 6299, 'addicting': 6300, 'sped': 6301, 'twinkle': 6302, 'unscientifically': 6303, 'interviewing': 6304, 'efficiency': 6305, 'haphazard': 6306, 'flabbergasted': 6307, 'hastiness': 6308, 'prop': 6309, 'tibial': 6310, 'formulate': 6311, 'principal': 6312, 'agoraphobia': 6313, 'horrendously': 6314, 'lone': 6315, 'steeling': 6316, 'entitles': 6317, 'realizes': 6318, 'billet': 6319, 'untreated': 6320, 'scripted': 6321, 'cohered': 6322, 'motherly': 6323, 'semi': 6324, 'patriarchal': 6325, 'sluggish': 6326, 'weighing': 6327, 'complainer': 6328, 'nay': 6329, 'dismissal': 6330, 'malformation': 6331, 'schizophrenic': 6332, 'subordinate': 6333, 'cog': 6334, 'glitz': 6335, 'reckons': 6336, 'mislabel': 6337, 'fooling': 6338, 'gee': 6339, 'justification': 6340, 'consensus': 6341, 'crumb': 6342, 'snowball': 6343, 'sneezing': 6344, 'equip': 6345, 'decimated': 6346, 'shopper': 6347, 'ram': 6348, 'swing': 6349, 'mg': 6350, 'circadian': 6351, 'rhythm': 6352, 'retest': 6353, 'nod': 6354, 'supervised': 6355, 'damper': 6356, 'flirting': 6357, 'cram': 6358, 'actor': 6359, 'astronomical': 6360, 'habituated': 6361, 'rung': 6362, 'knuckled': 6363, 'reinstated': 6364, 'adolescent': 6365, 'ow': 6366, 'yogurt': 6367, 'virginity': 6368, 'impacting': 6369, 'dominion': 6370, '309': 6371, 'temporarily': 6372, 'uninsured': 6373, 'suboptimal': 6374, 'miraculously': 6375, 'nonchalantly': 6376, 'lighten': 6377, 'busier': 6378, 'diagonal': 6379, 'undisclosed': 6380, 'slam': 6381, 'mannerism': 6382, 'resourceful': 6383, \"problem's\": 6384, 'threat': 6385, 'legalize': 6386, 'choked': 6387, 'manipulating': 6388, 'clip': 6389, 'yank': 6390, \"pa's\": 6391, 'hunting': 6392, 'sideline': 6393, 'diatribe': 6394, 'soapbox': 6395, '66': 6396, 'despair': 6397, 'clipped': 6398, 'defensively': 6399, 'spat': 6400, 'graphic': 6401, 'vent': 6402, 'stormed': 6403, 'unforgivable': 6404, 'contemplating': 6405, 'suffice': 6406, '3.30': 6407, 'phys': 6408, 'wretched': 6409, 'redeemer': 6410, 'lifted': 6411, 'resemble': 6412, '845': 6413, 'sch': 6414, 'coding': 6415, 'vocation': 6416, '1.30': 6417, 'harrowing': 6418, 'ramification': 6419, 'mouthed': 6420, 'flair': 6421, 'degradation': 6422, 'bestowed': 6423, 'shaken': 6424, 'pork': 6425, 'elaborate': 6426, 'breather': 6427, 'popped': 6428, 'juncture': 6429, 'compelling': 6430, 'baffling': 6431, 'curiosity': 6432, '6700': 6433, 'wholly': 6434, 'berate': 6435, 'afterthought': 6436, 'clipboard': 6437, 'paste': 6438, 'collector': 6439, 'rightfully': 6440, 'existent': 6441, 'voted': 6442, 'excitedly': 6443, 'disrespecting': 6444, 'concur': 6445, 'precisely': 6446, 'surmise': 6447, 'motorcycle': 6448, 'strangest': 6449, 'underarm': 6450, 'ticked': 6451, 'uncomfortably': 6452, 'indifference': 6453, 'preoccupation': 6454, 'duplicate': 6455, 'attends': 6456, 'insinuate': 6457, 'smoker': 6458, \"dad's\": 6459, 'meningitis': 6460, 'provincial': 6461, 'shifting': 6462, 'pertain': 6463, 'enlighten': 6464, 'recollection': 6465, 'musty': 6466, 'drywalled': 6467, 'basement': 6468, 'lithium': 6469, 'manic': 6470, 'retorted': 6471, 'profanity': 6472, 'completes': 6473, 'shuck': 6474, 'convulsion': 6475, 'district': 6476, 'proposal': 6477, 'dominated': 6478, 'warmer': 6479, 'publishing': 6480, 'raged': 6481, 'dusty': 6482, 'wildly': 6483, 'inventory': 6484, 'ii': 6485, 'misused': 6486, 'probable': 6487, 'hypochondriac': 6488, 'exacerbated': 6489, 'plummeted': 6490, 'saliva': 6491, 'seaweed': 6492, 'sauerkraut': 6493, 'harassing': 6494, 'offending': 6495, 'excerpt': 6496, 'amendment': 6497, 'cursing': 6498, 'clammed': 6499, 'tippy': 6500, 'theme': 6501, 'dodged': 6502, 'bullet': 6503, \"practice's\": 6504, 'hectic': 6505, 'northwestern': 6506, 'unilaterally': 6507, '213': 6508, 'escape': 6509, 'childish': 6510, 'driest': 6511, 'association': 6512, 'sneak': 6513, 'resonate': 6514, 'baseline': 6515, 'juggled': 6516, 'fussy': 6517, 'liberated': 6518, 'conveyor': 6519, 'belt': 6520, 'unpleasantness': 6521, 'downstairs': 6522, 'confusion': 6523, 'excitable': 6524, 'fashioned': 6525, 'disgustingly': 6526, 'antiseptic': 6527, '1000.00': 6528, '17.00': 6529, 'jeopardize': 6530, 'sigh': 6531, 'courier': 6532, 'outwardly': 6533, 'jot': 6534, 'drone': 6535, 'follicle': 6536, 'exterminator': 6537, 'outbreak': 6538, \"ain't\": 6539, 'likable': 6540, 'oops': 6541, 'coincidentally': 6542, 'safer': 6543, 'megalomaniac': 6544, 'pragmatic': 6545, 'thesis': 6546, 'overlap': 6547, 'misread': 6548, 'spleen': 6549, '1500.00': 6550, 'deserving': 6551, 'payout': 6552, 'officer': 6553, 'enigmatic': 6554, 'hurricane': 6555, 'rattled': 6556, 'intimate': 6557, 'stolen': 6558, 'dodge': 6559, 'era': 6560, 'bulk': 6561, 'casing': 6562, 'archaeological': 6563, 'museum': 6564, 'audiology': 6565, '221.00': 6566, 'pint': 6567, 'pinned': 6568, 'heater': 6569, 'needled': 6570, 'aromatic': 6571, '001': 6572, 'unpinning': 6573, 'escapism': 6574, 'lame': 6575, 'wonderfully': 6576, 'maximizing': 6577, 'gullible': 6578, 'biofeedback': 6579, 'charity': 6580, 'retake': 6581, 'flattened': 6582, 'shipyard': 6583, 'gather': 6584, 'ceiling': 6585, 'reopening': 6586, 'sec': 6587, 'intentional': 6588, 'curse': 6589, 'curving': 6590, 'shush': 6591, 'bait': 6592, 'cave': 6593, 'dweller': 6594, 'proposing': 6595, 'clever': 6596, 'disclaimer': 6597, 'escalation': 6598, '182': 6599, 'unpredictable': 6600, 'race': 6601, 'reliability': 6602, 'robs': 6603, 'ooze': 6604, 'bound': 6605, 'warner': 6606, 'adjacent': 6607, 'abandoning': 6608, 'hollow': 6609, 'prime': 6610, 'hammered': 6611, 'grounded': 6612, 'sadistic': 6613, 'alleviation': 6614, 'diluted': 6615, 'unbalanced': 6616, 'therefor': 6617, 'prorate': 6618, 'mistyped': 6619, 'mistype': 6620, 'commoner': 6621, 'harshest': 6622, 'adverse': 6623, 'spike': 6624, 'understandably': 6625, 'pk': 6626, 'supplied': 6627, 'dingy': 6628, \"dew's\": 6629, 'ignoramus': 6630, 'refresher': 6631, 'pedigree': 6632, 'causality': 6633, 'flubbed': 6634, 'avoidable': 6635, 'medicating': 6636, 'overgrowth': 6637, 'institution': 6638, 'emphasis': 6639, 'palpate': 6640, 'engineering': 6641, 'objection': 6642, 'fainted': 6643, 'sect': 6644, 'soar': 6645, 'whereas': 6646, 'awfully': 6647, 'sycophantic': 6648, 'illogical': 6649, 'irrespective': 6650, 'gloved': 6651, 'heating': 6652, 'spreading': 6653, 'grind': 6654, 'apologizing': 6655, 'condescended': 6656, 'accord': 6657, 'barge': 6658, 'symmetry': 6659, 'atrophied': 6660, 'evidenced': 6661, 'regressing': 6662, 'grunted': 6663, 'universe': 6664, 'blindly': 6665, 'conservation': 6666, 'fennel': 6667, '1119': 6668, 'withdrawn': 6669, 'disappearing': 6670, 'spun': 6671, 'vehicle': 6672, '425': 6673, 'cleansing': 6674, 'steal': 6675, 'pamphlet': 6676, 'enters': 6677, 'owes': 6678, '905': 6679, '303': 6680, '1090': 6681, 'analyzing': 6682, 'medial': 6683, '99.9': 6684, 'refunded': 6685, 'scrambling': 6686, 'bedroom': 6687, 'congested': 6688, 'puking': 6689, 'ate': 6690, 'mashed': 6691, 'potato': 6692, 'soup': 6693, '560': 6694, 'interfered': 6695, 'employment': 6696, 'misrepresent': 6697, 'sequence': 6698, 'precipitous': 6699, 'coincided': 6700, 'constitute': 6701, 'waterfall': 6702, 'forceful': 6703, 'obscenely': 6704, 'barged': 6705, 'pant': 6706, 'mentioning': 6707, 'lyric': 6708, \"yesterday's\": 6709, 'recognizing': 6710, 'sprain': 6711, 'inverted': 6712, 'crooked': 6713, 'courtroom': 6714, 'testify': 6715, 'transcript': 6716, 'recorder': 6717, 'reunify': 6718, 'aspersion': 6719, 'oblivious': 6720, 'spouted': 6721, 'entity': 6722, 'extension': 6723, '3103': 6724, 'prospect': 6725, 'sarcastically': 6726, 'plaster': 6727, 'godly': 6728, 'substantially': 6729, 'downplay': 6730, 'demean': 6731, 'obstructive': 6732, 'wrongly': 6733, 'overdue': 6734, 'differentiating': 6735, 'strung': 6736, 'antiquated': 6737, 'akin': 6738, 'dartboard': 6739, '283.00': 6740, 'strait': 6741, 'comical': 6742, 'tragedy': 6743, 'glorified': 6744, 'reek': 6745, 'sebaceous': 6746, 'entail': 6747, 'heftier': 6748, 'criticizes': 6749, 'holier': 6750, 'thou': 6751, 'eaves': 6752, 'transit': 6753, 'upped': 6754, 'unrivaled': 6755, 'circular': 6756, 'botch': 6757, 'unwillingness': 6758, '7500': 6759, '6200': 6760, '6800': 6761, 'digging': 6762, 'reliably': 6763, 'merit': 6764, 'zillion': 6765, 'boldly': 6766, 'supposition': 6767, 'nicked': 6768, 'follower': 6769, 'deadly': 6770, 'reciting': 6771, 'gateway': 6772, 'mocking': 6773, 'curtly': 6774, 'external': 6775, 'psyche': 6776, 'simplistic': 6777, 'lurched': 6778, 'rupturing': 6779, 'swim': 6780, 'stereotype': 6781, 'epitomizes': 6782, 'unclean': 6783, 'tee': 6784, 'idiotic': 6785, 'martial': 6786, 'headscarf': 6787, 'flutter': 6788, 'aligned': 6789, 'retracted': 6790, 'obstructed': 6791, 'compensatory': 6792, 'artificial': 6793, 'overbearing': 6794, 'acknowledgment': 6795, 'destroying': 6796, 'wheeled': 6797, 'unbooked': 6798, 'civic': 6799, 'scrooge': 6800, 'callus': 6801, 'papa': 6802, 'insensible': 6803, 'wheeling': 6804, 'snapping': 6805, 'miscommunication': 6806, 'marry': 6807, 'hemorrhoid': 6808, 'anus': 6809, 'elongate': 6810, 'abysmal': 6811, 'faker': 6812, 'mocked': 6813, '1600': 6814, 'surrey': 6815, '495': 6816, '104.8': 6817, 'decongestant': 6818, 'blinded': 6819, 'corrupted': 6820, 'veered': 6821, 'lightheaded': 6822, 'forcefully': 6823, 'osteopathy': 6824, 'opaque': 6825, 'transparency': 6826, 'yikes': 6827, 'leap': 6828, 'implication': 6829, 'impingement': 6830, 'sewn': 6831, 'adductor': 6832, 'resume': 6833, 'meal': 6834, 'ticket': 6835, 'casual': 6836, 'platinum': 6837, 'edition': 6838, 'irreparable': 6839, 'illegally': 6840, 'botching': 6841, 'purple': 6842, 'arrest': 6843, 'electronics': 6844, 'cabinet': 6845, 'stretcher': 6846, 'thermometer': 6847, 'depending': 6848, '5555': 6849, 'defender': 6850, 'inconvenient': 6851, 'undocumented': 6852, 'competency': 6853, 'entertaining': 6854, 'riverside': 6855, 'tactful': 6856, 'realization': 6857, 'enforce': 6858, 'infuriating': 6859, 'ho': 6860, 'funding': 6861, 'moaned': 6862, 'ovulated': 6863, 'pedophile': 6864, 'lured': 6865, 'knockoff': 6866, 'vendor': 6867, 'levied': 6868, 'unsafe': 6869, 'accreditation': 6870, 'sociopath': 6871, 'inflicting': 6872, 'radar': 6873, 'injurious': 6874, 'bodily': 6875, 'innocent': 6876, 'buffoon': 6877, 'partied': 6878, 'china': 6879, 'ploy': 6880, 'trashy': 6881, 'overbooking': 6882, 'medic': 6883, 'studio': 6884, 'detour': 6885, 'disguise': 6886, 'metastasized': 6887, 'sneaky': 6888, 'excessively': 6889, 'naivety': 6890, 'manipulate': 6891, '9223': 6892, 'recooked': 6893, 'prohibited': 6894, 'wrath': 6895, 'inevitable': 6896, 'griping': 6897, 'resettle': 6898, '8000.00': 6899, 'mistreated': 6900, 'slave': 6901, 'rub': 6902, 'smirked': 6903, 'marginalized': 6904, 'obstacle': 6905, 'stein': 6906, 'retort': 6907, 'abhorrent': 6908, 'unpunctual': 6909, 'ab': 6910, 'composed': 6911, 'insecurity': 6912, 'ambiance': 6913, 'gong': 6914, 'dorm': 6915, 'perky': 6916, 'touchy': 6917, 'inclined': 6918, 'disrespectfully': 6919, 'catholic': 6920, 'atheist': 6921, 'termination': 6922, 'suspend': 6923, 'belittle': 6924, 'teat': 6925, 'threshold': 6926, 'pertains': 6927, 'dive': 6928, 'fin': 6929, 'trio': 6930, 'remorse': 6931, 'imperfect': 6932, 'opts': 6933, 'pledge': 6934, 'punished': 6935, 'prostitute': 6936, 'glimpse': 6937, '145': 6938, 'fluctuating': 6939, 'burger': 6940, 'nowadays': 6941, 'immoral': 6942, 'yip': 6943, '50.00': 6944, '245': 6945, 'marketed': 6946, 'wreckage': 6947, 'monster': 6948, 'crazier': 6949, 'nutty': 6950, 'obstructing': 6951, 'showpiece': 6952, 'windowless': 6953, 'dim': 6954, '1800': 6955, 'flying': 6956, 'giant': 6957, 'prince': 6958, 'ind': 6959, 'retaliation': 6960, 'subhuman': 6961, 'newspaper': 6962, 'cheating': 6963, 'nepotism': 6964, 'joked': 6965, 'cluster': 6966, 'inserted': 6967, '7': 6968, 'drank': 6969, 'breech': 6970, 'destructive': 6971, 'anecdotal': 6972, 'mysticism': 6973, 'shaming': 6974, 'possessed': 6975, 'discernment': 6976, 'conductive': 6977, 'triage': 6978, 'accumulated': 6979, 'tweezer': 6980, 'earns': 6981, 'inoculation': 6982, 'harming': 6983, 'motioning': 6984, 'doodling': 6985, 'threatens': 6986, 'notoriously': 6987, 'pharmacology': 6988, 'deployed': 6989, 'hazardous': 6990, 'hazard': 6991, 'reliving': 6992, 'perpetrator': 6993, 'battalion': 6994, 'surviving': 6995, 'darkness': 6996, 'engulfing': 6997, 'doctorate': 6998, 'nth': 6999, 'sacrificed': 7000, 'toting': 7001, 'ma': 7002, 'scatterbrained': 7003, 'matched': 7004, 'shellfish': 7005, 'imperious': 7006, 'firewall': 7007, 'daunting': 7008, 'residency': 7009, 'brainstorm': 7010, 'expose': 7011, 'gouging': 7012, 'inflicts': 7013, 'doctored': 7014, 'hunk': 7015, 'underside': 7016, 'hobbling': 7017, 'ulcer': 7018, 'grape': 7019, 'demeaned': 7020, 'fist': 7021, 'accorder': 7022, 'mold': 7023, '4500': 7024, 'polishing': 7025, 'womb': 7026, 'transcriber': 7027, 'sighing': 7028, 'awareness': 7029, 'exponentially': 7030, 'fuse': 7031, 'magnifying': 7032, 'preface': 7033, 'plead': 7034, 'cycled': 7035, 'depot': 7036, 'theft': 7037, 'gatekeeper': 7038, 'protecting': 7039, 'payroll': 7040, 'compatibility': 7041, 'dumping': 7042, 'agrees': 7043, 'operator': 7044, 'collectively': 7045, 'unlawful': 7046, 'beneficiary': 7047, 'uninformative': 7048, 'butterfly': 7049, 'poke': 7050, 'rehash': 7051, 'ancillary': 7052, 'formulating': 7053, 'integrate': 7054, 'synthesize': 7055, 'socialized': 7056, 'weirdest': 7057, '149': 7058, '167': 7059, 'bookish': 7060, 'underperformed': 7061, 'shiny': 7062, 'attract': 7063, 'grit': 7064, 'unimaginative': 7065, 'smoother': 7066, 'apprenticeship': 7067, 'relocate': 7068, 'announcement': 7069, '388': 7070, '165': 7071, 'ail': 7072, 'complacent': 7073, 'publication': 7074, 'poorer': 7075, 'remiss': 7076, 'supermarket': 7077, 'flaky': 7078, 'differ': 7079, 'smack': 7080, 'hideously': 7081, 'resembled': 7082, 'oldie': 7083, 'bossy': 7084, 'grandparent': 7085, 'clarifying': 7086, 'vector': 7087, 'streamlined': 7088, 'gauntlet': 7089, 'repayment': 7090, 'fatality': 7091, 'wronged': 7092, 'occurs': 7093, 'para': 7094, 'lever': 7095, 'software': 7096, 'slick': 7097, 'whomever': 7098, 'dumbfounded': 7099, 'anyplace': 7100, 'keeper': 7101, 'scoring': 7102, 'merry': 7103, 'islander': 7104, 'contrast': 7105, 'morphine': 7106, 'trapped': 7107, 'flossing': 7108, 'tightly': 7109, 'lollipop': 7110, 'dysfunction': 7111, 'struck': 7112, 'radically': 7113, 'honor': 7114, 'ought': 7115, 'packaging': 7116, 'soaked': 7117, 'repetition': 7118, 'collapse': 7119, 'angrily': 7120, 'disposal': 7121, 'overflowing': 7122, 'ling': 7123, 'untidy': 7124, 'trail': 7125, 'chauvinistic': 7126, 'regulating': 7127, 'banner': 7128, 'newer': 7129, 'wand': 7130, 'demise': 7131, 'chromosomal': 7132, 'immunological': 7133, 'condo': 7134, 'recourse': 7135, 'sucker': 7136, \"bank's\": 7137, 'barber': 7138, 'indicative': 7139, 'rood': 7140, 'egotism': 7141, 'deliberated': 7142, 'deflated': 7143, 'sauce': 7144, 'sized': 7145, 'confuses': 7146, 'deficit': 7147, '750': 7148, 'intravenous': 7149, 'gauze': 7150, 'unfairly': 7151, 'heeded': 7152, 'envelope': 7153, 'classic': 7154, 'urging': 7155, 'waved': 7156, 'quarter': 7157, 'axis': 7158, 'optician': 7159, 'predecessor': 7160, 'turkey': 7161, '1978': 7162, 'sternly': 7163, 'whiskey': 7164, 'reordered': 7165, 'abused': 7166, 'renowned': 7167, 'mountain': 7168, 'finagling': 7169, 'typed': 7170, 'haded': 7171, 'null': 7172, 'void': 7173, '4.5': 7174, 'execute': 7175, 'simplified': 7176, 'analogy': 7177, 'peril': 7178, 'scent': 7179, 'halfhearted': 7180, 'calmly': 7181, 'profusely': 7182, 'foolishly': 7183, 'accolade': 7184, 'conclude': 7185, 'impairment': 7186, 'substantiate': 7187, 'obsession': 7188, 'uncritical': 7189, 'garbled': 7190, 'gulf': 7191, 'loco': 7192, 'conviction': 7193, 'pellet': 7194, 'menstruating': 7195, 'drunk': 7196, 'fifty': 7197, '05': 7198, 'domineering': 7199, 'erased': 7200, 'colludes': 7201, 'falsified': 7202, 'entrepreneur': 7203, 'shtick': 7204, 'someplace': 7205, 'memorized': 7206, 'limit': 7207, 'complaisant': 7208, 'amateur': 7209, 'traced': 7210, 'stint': 7211, 'wider': 7212, 'ally': 7213, 'miscarry': 7214, 'moss': 7215, 'narrowing': 7216, 'thickened': 7217, 'blister': 7218, 'traumatize': 7219, 'sawing': 7220, 'buildup': 7221, 'slim': 7222, 'merrier': 7223, 'dip': 7224, 'tinge': 7225, 'circulating': 7226, 'fiber': 7227, 'hydrate': 7228, 'genre': 7229, 'protest': 7230, '254.00': 7231, 'literature': 7232, 'administrator': 7233, 'invalid': 7234, 'governing': 7235, 'egotistic': 7236, 'precaution': 7237, 'junkie': 7238, 'invited': 7239, 'sprucing': 7240, 'tricked': 7241, '651.31': 7242, 'princely': 7243, 'obfuscated': 7244, 'complicating': 7245, 'scaring': 7246, 'founded': 7247, 'deteriorating': 7248, 'pass': 7249, '349': 7250, 'knocked': 7251, 'punctured': 7252, 'contemplated': 7253, \"collier's\": 7254, 'promptness': 7255, 'bearing': 7256, '04': 7257, 'squatting': 7258, 'gravity': 7259, 'clamp': 7260, 'pumping': 7261, 'clamped': 7262, 'funnily': 7263, 'elusive': 7264, 'totaling': 7265, 'detected': 7266, 'wipe': 7267, 'comprised': 7268, 'unsubstantiated': 7269, 'shepherd': 7270, 'restriction': 7271, 'bankrupt': 7272, 'unconscionable': 7273, 'vitally': 7274, 'spinning': 7275, 'temperament': 7276, 'hairsplitting': 7277, 'pettiness': 7278, 'impending': 7279, '6.1': 7280, '6.9': 7281, '5.1': 7282, 'pithed': 7283, 'frog': 7284, 'fruit': 7285, 'official': 7286, 'indention': 7287, 'humiliating': 7288, 'unnoticeable': 7289, 'crater': 7290, 'blaring': 7291, 'dermis': 7292, 'peach': 7293, 'instruct': 7294, 'anemia': 7295, 'reset': 7296, 'haloing': 7297, 'aura': 7298, 'expand': 7299, 'ventral': 7300, 'lap': 7301, '19th': 7302, 'wagon': 7303, 'unappreciated': 7304, 'stupidity': 7305, 'stole': 7306, 'sneering': 7307, 'bribe': 7308, 'cam': 7309, 'calcium': 7310, 'tub': 7311, 'rage': 7312, 'reprimanded': 7313, 'fluency': 7314, 'sanitize': 7315, 'toy': 7316, 'pacing': 7317, 'notifies': 7318, 'simpleton': 7319, 'gibberish': 7320, 'jawed': 7321, 'dunce': 7322, 'explication': 7323, 'footing': 7324, 'lighting': 7325, 'scream': 7326, 'highlighted': 7327, 'spokesman': 7328, 'relapse': 7329, 'favorable': 7330, 'forte': 7331, 'expired': 7332, 'symmetrical': 7333, 'cargo': 7334, 'zipper': 7335, 'surrounded': 7336, 'dictating': 7337, 'nil': 7338, 'dehydrated': 7339, 'stature': 7340, 'discontinuing': 7341, 'raj': 7342, 'waned': 7343, 'scientifically': 7344, 'chem': 7345, 'physic': 7346, 'multivitamin': 7347, 'rigging': 7348, 'hoot': 7349, 'postponed': 7350, 'absconded': 7351, 'cashed': 7352, 'refunding': 7353, 'faked': 7354, 'unscrupulous': 7355, 'sugarcoated': 7356, 'exited': 7357, 'wet': 7358, 'forthright': 7359, 'tempted': 7360, 'almighty': 7361, 'piecemeal': 7362, 'reproach': 7363, 'wheeler': 7364, 'barracuda': 7365, 'scoffed': 7366, 'babble': 7367, 'distrustful': 7368, 'slowed': 7369, 'thanking': 7370, 'tailspin': 7371, 'invest': 7372, 'dominating': 7373, 'leeway': 7374, 'monopoly': 7375, 'blast': 7376, 'creativity': 7377, 'intent': 7378, 'readiness': 7379, 'attune': 7380, 'distinguished': 7381, 'seizes': 7382, \"sheikh's\": 7383, 'overdosed': 7384, 'stabbed': 7385, 'crawl': 7386, 'unscrew': 7387, \"man's\": 7388, 'deceased': 7389, 'convenience': 7390, 'unimpressive': 7391, 'approximate': 7392, 'cont': 7393, 'directing': 7394, 'ville': 7395, 'jug': 7396, 'cicatrix': 7397, 'fore': 7398, 'redo': 7399, 'intervene': 7400, '200.00': 7401, 'listing': 7402, 'buzz': 7403, 'beep': 7404, 'camel': 7405, 'anyhow': 7406, 'bot': 7407, 'mistreating': 7408, 'punishment': 7409, 'yup': 7410, 'disillusioned': 7411, 'nightmarish': 7412, 'fiddling': 7413, 'peddling': 7414, 'imbecile': 7415, '102.5': 7416, 'swallowing': 7417, 'misinforms': 7418, 'colic': 7419, 'unlikely': 7420, 'assembling': 7421, 'infiltrating': 7422, 'spiral': 7423, 'indelicate': 7424, 'institutional': 7425, 'smoking': 7426, 'waffle': 7427, 'cheeseburger': 7428, 'cheese': 7429, 'providence': 7430, 'wired': 7431, 'psychosomatic': 7432, 'guise': 7433, 'infallibility': 7434, 'planet': 7435, 'chuckle': 7436, '613': 7437, 'perfunctory': 7438, 'sheer': 7439, 'teething': 7440, '39.6': 7441, 'winded': 7442, 'plastering': 7443, 'restaurant': 7444, '104.6': 7445, 'gorge': 7446, 'sortie': 7447, 'disturb': 7448, 'out': 7449, 'flawed': 7450, 'reuses': 7451, 'commenting': 7452, 'reevaluate': 7453, 'dated': 7454, 'pissing': 7455, 'abusing': 7456, '017': 7457, 'honey': 7458, 'adoption': 7459, 'jimmy': 7460, 'radiology': 7461, 'static': 7462, 'mysterious': 7463, 'restates': 7464, 'snicker': 7465, 'familial': 7466, 'reversible': 7467, 'calculate': 7468, 'boxer': 7469, 'hyperthyroidism': 7470, 'innovator': 7471, 'confined': 7472, 'lethargic': 7473, 'bulling': 7474, '228': 7475, 'politician': 7476, 'impressing': 7477, 'tagging': 7478, 'infinite': 7479, 'attraction': 7480, 'interrogation': 7481, 'yahoo': 7482, 'refresh': 7483, 'portray': 7484, 'scammed': 7485, 'bombed': 7486, '1300.00': 7487, 'notorious': 7488, 'chaise': 7489, 'examen': 7490, 'disparates': 7491, 'centric': 7492, 'zeroed': 7493, 'babbled': 7494, 'sealed': 7495, 'bonehead': 7496, 'punched': 7497, 'punch': 7498, 'sloppily': 7499, 'needy': 7500, 'membership': 7501, '1675': 7502, 'seventy': 7503, 'caters': 7504, 'survive': 7505, 'outlandish': 7506, 'reject': 7507, 'secrecy': 7508, 'tolerates': 7509, 'experiment': 7510, 'sedate': 7511, 'awaken': 7512, 'shingle': 7513, 'cornea': 7514, 'pursued': 7515, 'pet': 7516, 'deathbed': 7517, 'conflicted': 7518, 'liquor': 7519, 'ski': 7520, 'sepsis': 7521, 'resection': 7522, 'port': 7523, 'misguided': 7524, 'laminated': 7525, 'bus': 7526, 'insufficiency': 7527, 'applicant': 7528, 'magnesium': 7529, 'weakened': 7530, 'outgrown': 7531, 'knuckle': 7532, '545': 7533, 'checklist': 7534, 'radiate': 7535, 'eerie': 7536, 'measuring': 7537, 'avoids': 7538, 'certification': 7539, 'decrease': 7540, 'protective': 7541, '220': 7542, 'tel': 7543, \"gore's\": 7544, 'longterm': 7545, 'degraded': 7546, 'rank': 7547, 'undermines': 7548, 'bee': 7549, 'experimented': 7550, 'wage': 7551, 'terse': 7552, 'resultant': 7553, 'shunning': 7554, 'statutory': 7555, 't': 7556, 'rocket': 7557, 'scientist': 7558, 'soliciting': 7559, 'fabricating': 7560, 'burgess': 7561, 'ti': 7562, '911': 7563, 'lent': 7564, 'contemplate': 7565, 'purged': 7566, 'swag': 7567, 'anthem': 7568, 'stripper': 7569, '666': 7570, '766': 7571, 'explode': 7572, 'absentee': 7573, 'expansion': 7574, \"o'clock\": 7575, 'escorted': 7576, 'transplanted': 7577, 'diligence': 7578, 'nape': 7579, 'linear': 7580, 'cadaver': 7581, 'cushion': 7582, 'lick': 7583, 'infested': 7584, 'boil': 7585, 'debit': 7586, 'enthused': 7587, 'perplexed': 7588, 'killing': 7589, 'logged': 7590, 'harmless': 7591, 'ham': 7592, 'earshot': 7593, 'reprimand': 7594, 'unruly': 7595, 'musing': 7596, 'roster': 7597, 'buffer': 7598, 'reacted': 7599, 'daddy': 7600, 'disrupt': 7601, 'subtract': 7602, 'berating': 7603, 'doctoring': 7604, 'recuperate': 7605, 'captured': 7606, 'slotted': 7607, 'overhaul': 7608, 'steeped': 7609, 'turmoil': 7610, 'stretched': 7611, 'onset': 7612, 'profess': 7613, 'probability': 7614, 'obsessive': 7615, 'compulsive': 7616, 'unintelligent': 7617, 'competitive': 7618, 'premise': 7619, 'contentious': 7620, 'launching': 7621, 'blowing': 7622, 'elongated': 7623, 'harped': 7624, 'arduous': 7625, 'barbaric': 7626, 'businessman': 7627, 'satisfy': 7628, 'hindsight': 7629, 'strangely': 7630, 'obligated': 7631, 'interventionist': 7632, 'perfectionism': 7633, 'unknowingly': 7634, 'hasty': 7635, 'exists': 7636, 'funnel': 7637, 'throughput': 7638, 'diminish': 7639, 'fallowing': 7640, 'ruder': 7641, 'rubbing': 7642, 'constellation': 7643, 'viewpoint': 7644, 'curry': 7645, 'ford': 7646, 'prude': 7647, 'wicked': 7648, 'delegate': 7649, 'junior': 7650, 'prone': 7651, 'clearance': 7652, 'informs': 7653, 'authorizing': 7654, 'pitiful': 7655, '152': 7656, 'muscular': 7657, 'toned': 7658, 'newly': 7659, 'asymmetrical': 7660, '88': 7661, 'rainy': 7662, 'windy': 7663, 'chilly': 7664, 'volunteered': 7665, 'unaccommodating': 7666, 'mismanaged': 7667, 'beaming': 7668, 'arguable': 7669, 'unrestricted': 7670, 'rehabilitate': 7671, 'malnourished': 7672, '550.00': 7673, 'fraction': 7674, 'conspicuous': 7675, 'sock': 7676, 'reopened': 7677, 'cerebral': 7678, 'enlightenment': 7679, 'prohibitive': 7680, 'harassed': 7681, 'doubling': 7682, 'facilitates': 7683, 'inherent': 7684, 'secondly': 7685, 'automotive': 7686, 'manifesting': 7687, 'telephoner': 7688, 'sorriest': 7689, 'aka': 7690, 'mini': 7691, 'author': 7692, 'transmittal': 7693, 'encountering': 7694, 'writer': 7695, 'confiscated': 7696, 'prosecuted': 7697, 'submits': 7698, 'professed': 7699, 'sickest': 7700, '2.45': 7701, 'dilating': 7702, 'constrict': 7703, 'derelict': 7704, 'restricted': 7705, 'allot': 7706, 'marble': 7707, 'statue': 7708, 'lunatic': 7709, 'sobbing': 7710, 'uncontrollably': 7711, 'cop': 7712, 'exposing': 7713, 'philosophy': 7714, 'invalidating': 7715, 'preexisting': 7716, 'wounded': 7717, 'waster': 7718, 'bray': 7719, 'imp': 7720, 'predisposed': 7721, \"here's\": 7722, 'violently': 7723, 'wincing': 7724, 'mistreat': 7725, 'balk': 7726, 'crybaby': 7727, 'bulged': 7728, 'taker': 7729, 'humiliate': 7730, 'anonymous': 7731, 'violence': 7732, 'subjecting': 7733, 'k': 7734, 'puncture': 7735, 'station': 7736, 'overconfident': 7737, 'irreversible': 7738, 'discharging': 7739, 'unstable': 7740, 'hoard': 7741, 'meditating': 7742, 'privately': 7743, 'cultural': 7744, 'headquarters': 7745, 'cheat': 7746, 'correlate': 7747, 'neglectful': 7748, 'stillborn': 7749, '34': 7750, 'lottery': 7751, 'unavailability': 7752, 'unoccupied': 7753, 'so': 7754, 'wandering': 7755, 'barley': 7756, 'pigment': 7757, 'stealing': 7758, 'freckly': 7759, 'sparingly': 7760, 'zoom': 7761, 'isle': 7762, 'slap': 7763, 'heading': 7764, 'ambivalent': 7765, 'indecisive': 7766, 'controlling': 7767, 'quirk': 7768, 'confidentially': 7769, 'disingenuous': 7770, 'repulsing': 7771, 'canned': 7772, 'superiority': 7773, 'overcompensates': 7774, 'obscure': 7775, 'immaturity': 7776, 'lounge': 7777, 'sausage': 7778, 'instructs': 7779, 'swiped': 7780, 'dilate': 7781, 'remade': 7782, 'presumptive': 7783, '134': 7784, 'deranged': 7785, 'overdosing': 7786, 'overboard': 7787, 'discredit': 7788, 'hippy': 7789, 'immunize': 7790, 'buried': 7791, 'century': 7792, 'westerner': 7793, 'slapping': 7794, 'darling': 7795, 'picnic': 7796, 'passable': 7797, 'faulty': 7798, 'placebo': 7799, 'botanical': 7800, 'measles': 7801, 'immunized': 7802, 'antibody': 7803, 'newish': 7804, 'suspecting': 7805, 'ht': 7806, 'headstrong': 7807, 'huffed': 7808, 'realm': 7809, '133': 7810, '60126': 7811, '4115': 7812, 'ave': 7813, 'downer': 7814, '60515': 7815, 'dizziness': 7816, 'clumped': 7817, 'shamed': 7818, 'manipulator': 7819, 'beta': 7820, 'blocker': 7821, 'uptake': 7822, 'flaking': 7823, 'gathered': 7824, 'blithely': 7825, 'perk': 7826, 'homophobic': 7827, 'toxicity': 7828, 'misdiagnosing': 7829, 'nutritional': 7830, 'sanity': 7831, 'filtered': 7832, 'hump': 7833, 'indented': 7834, \"manner's\": 7835, 'powder': 7836, '1200': 7837, 'aspen': 7838, 'lessened': 7839, 'horrifying': 7840, 'exaggerated': 7841, 'interpretation': 7842, 'math': 7843, 'pawn': 7844, '285': 7845, 'allegedly': 7846, 'plaza': 7847, 'dispensing': 7848, 'constrictor': 7849, 'constriction': 7850, 'mitigate': 7851, 'putative': 7852, 'involvement': 7853, 'underdog': 7854, 'actuality': 7855, 'clerical': 7856, 'sketchy': 7857, 'preceded': 7858, 'doubting': 7859, 'stunt': 7860, 'regulatory': 7861, '400.00': 7862, 'goofing': 7863, 'beckon': 7864, 'discard': 7865, 'brunt': 7866, 'unapologetically': 7867, 'exiting': 7868, 'deteriorate': 7869, 'disconnect': 7870, 'needlessly': 7871, '500.00': 7872, 'livestock': 7873, 'inflate': 7874, 'bookkeeper': 7875, 'ejected': 7876, 'binocular': 7877, 'disprove': 7878, 'neuromuscular': 7879, 'fuss': 7880, 'instrumentation': 7881, 'prismatic': 7882, 'occupation': 7883, 'outraged': 7884, 'advertising': 7885, 'fabricated': 7886, 'wittier': 7887, 'witter': 7888, 'snore': 7889, 'relocating': 7890, 'ombudsman': 7891, 'paint': 7892, '254': 7893, 'glaringly': 7894, 'receptor': 7895, 'harassment': 7896, 'pretentious': 7897, 'ashame': 7898, \"tailor's\": 7899, 'net': 7900, 'endures': 7901, 'presentation': 7902, 'paradigm': 7903, '460': 7904, 'striking': 7905, 'elapsed': 7906, 'taller': 7907, 'enduring': 7908, 'labial': 7909, 'intrusive': 7910, 'stool': 7911, 'chug': 7912, 'puked': 7913, 'halfway': 7914, 'diverticulitis': 7915, 'nursed': 7916, 'steadfastly': 7917, 'descent': 7918, 'circumcising': 7919, 'attire': 7920, 'crashing': 7921, 'credentialed': 7922, 'blackout': 7923, 'chipped': 7924, 'regretted': 7925, 'maimed': 7926, 'fixable': 7927, 'holed': 7928, 'rocketed': 7929, 'shivering': 7930, 'clicking': 7931, 'clinically': 7932, 'residential': 7933, 'goodwill': 7934, 'fueled': 7935, 'photocopy': 7936, 'computerized': 7937, 'modernized': 7938, \"work's\": 7939, 'handwritten': 7940, 'nightclub': 7941, '1300': 7942, 'neglecting': 7943, 'entrusting': 7944, '237.50': 7945, 'enterprise': 7946, 'deer': 7947, 'bulb': 7948, 'fury': 7949, 'reaffirms': 7950, 'separating': 7951, 'constitutional': 7952, 'unfair': 7953, 'sickening': 7954, 'atty': 7955, 'arbitrator': 7956, 'contraction': 7957, 'centimeter': 7958, 'candor': 7959, 'achy': 7960, 'tender': 7961, 'cleanliness': 7962, 'dope': 7963, 'weed': 7964, '540': 7965, 'processing': 7966, 'sorely': 7967, 'grammar': 7968, 'spacing': 7969, 'appraisal': 7970, 'draped': 7971, 'louse': 7972, 'delightful': 7973, 'operates': 7974, 'pie': 7975, 'unregistered': 7976, 'unease': 7977, 'erudite': 7978, 'inferring': 7979, 'largely': 7980, 'shout': 7981, \"other's\": 7982, 'ailing': 7983, 'internally': 7984, 'projecting': 7985, 'loses': 7986, 'ghetto': 7987, 'tier': 7988, 'graduate': 7989, 'unlicensed': 7990, 'strap': 7991, 'weired': 7992, \"month's\": 7993, 'sanctioned': 7994, 'occupational': 7995, 'commonwealth': 7996, 'overeat': 7997, 'dictionary': 7998, 'coping': 7999, 'inhumane': 8000, 'pancreas': 8001, 'attacking': 8002, 'crotch': 8003, 'soot': 8004, 'blatant': 8005, 'loser': 8006, 'brainwashed': 8007, 'grabber': 8008, 'acoustic': 8009, 'incurable': 8010, 'awaiting': 8011, '80.00': 8012, 'ark': 8013, 'socialize': 8014, 'imperative': 8015, '204': 8016, '788': 8017, '5533': 8018, 'tot': 8019, 'xx': 8020, 'disconnected': 8021, 'rectify': 8022, 'servant': 8023, 'sandbagged': 8024, 'ulterior': 8025, 'motive': 8026, 'carelessly': 8027, 'clouded': 8028, 'admittedly': 8029, 'flared': 8030, 'commercialized': 8031, 'fillet': 8032, 'entailed': 8033, 'persona': 8034, 'blackhead': 8035, 'intact': 8036, 'texture': 8037, 'pitched': 8038, 'goggles': 8039, 'murdered': 8040, 'jamming': 8041, 'packing': 8042, 'verse': 8043, 'dice': 8044, 'fluke': 8045, 'geriatric': 8046, 'rode': 8047, 'bail': 8048, 'distinct': 8049, 'descended': 8050, 'acquired': 8051, 'bowing': 8052, 'hovered': 8053, 'chirping': 8054, 'peddle': 8055, 'solicits': 8056, 'lifelong': 8057, 'pun': 8058, 'subjected': 8059, 'waive': 8060, 'flavor': 8061, 'aggravated': 8062, 'midst': 8063, 'machinery': 8064, 'fishy': 8065, 'nonstop': 8066, 'silently': 8067, 'outlive': 8068, 'priest': 8069, 'grass': 8070, 'survived': 8071, 'underworld': 8072, 'platform': 8073, 'collapsed': 8074, 'marrow': 8075, 'pumper': 8076, 'alarmed': 8077, '1984': 8078, 'superficially': 8079, 'somethings': 8080, 'illustration': 8081, 'command': 8082, 'uninviting': 8083, 'bur': 8084, 'belonging': 8085, 'formally': 8086, 'sector': 8087, 'purse': 8088, 'wasteful': 8089, 'degrade': 8090, 'bouncing': 8091, 'urinating': 8092, 'nosy': 8093, 'puff': 8094, 'repeatable': 8095, 'spraying': 8096, 'imposition': 8097, 'endure': 8098, 'dazed': 8099, 'outer': 8100, 'bothersome': 8101, 'remeasured': 8102, 'nearsighted': 8103, 'coke': 8104, 'anxiously': 8105, 'myriad': 8106, 'intricately': 8107, 'intertwined': 8108, 'excluding': 8109, 'initiated': 8110, 'metric': 8111, '175': 8112, 'neon': 8113, 'pried': 8114, 'drool': 8115, 'cheesy': 8116, 'whispered': 8117, 'gossiped': 8118, 'tiresome': 8119, 'fluctuation': 8120, 'unrelenting': 8121, 'fulfilling': 8122, 'inhibits': 8123, \"p's\": 8124, 'dismissively': 8125, '81': 8126, 'toll': 8127, 'expelled': 8128, 'sorta': 8129, 'inhaler': 8130, 'mistreats': 8131, \"lee's\": 8132, 'flaccid': 8133, 'campus': 8134, 'patronized': 8135, 'sunken': 8136, 'foam': 8137, 'thrash': 8138, 'weaned': 8139, 'indicted': 8140, 'hardcore': 8141, 'bury': 8142, 'crippled': 8143, 'solo': 8144, 'feasible': 8145, 'reserved': 8146, 'opioid': 8147, 'concurring': 8148, 'surreal': 8149, 'twilight': 8150, 'hangnail': 8151, 'unwarranted': 8152, 'waisted': 8153, 'brainwashing': 8154, 'efficacy': 8155, 'eclipsed': 8156, 'inflated': 8157, 'habitually': 8158, 'thwart': 8159, 'misrepresented': 8160, 'gloated': 8161, 'intimidate': 8162, 'sparked': 8163, 'urethra': 8164, 'urination': 8165, 'scruple': 8166, 'mercenary': 8167, 'posed': 8168, 'blanket': 8169, 'wild': 8170, 'alienate': 8171, 'parental': 8172, 'timeout': 8173, 'longstanding': 8174, 'graduating': 8175, 'stability': 8176, 'understudy': 8177, 'stooge': 8178, 'soy': 8179, 'legume': 8180, 'vexation': 8181, 'photographic': 8182, 'unimportant': 8183, 'moneymaker': 8184, 'brutally': 8185, 'antagonize': 8186, 'weirdly': 8187, 'moisturizers': 8188, 'delegated': 8189, 'consul': 8190, 'lapse': 8191, 'compress': 8192, \"facility's\": 8193, 'flippant': 8194, 'coldest': 8195, 'lackluster': 8196, 'wee': 8197, 'belligerent': 8198, 'debase': 8199, 'masochist': 8200, 'alibi': 8201, 'blab': 8202, '46': 8203, 'racial': 8204, 'undertone': 8205, 'bled': 8206, 'jabbed': 8207, 'petrified': 8208, 'sealing': 8209, 'impart': 8210, 'fulsome': 8211, 'compensate': 8212, 'copier': 8213, 'prise': 8214, 'unused': 8215, 'unannounced': 8216, 'sabbatical': 8217, 'unspoken': 8218, 'hiatus': 8219, 'departure': 8220, 'balked': 8221, 'hunt': 8222, 'verified': 8223, 'skew': 8224, 'sinking': 8225, 'spiritually': 8226, 'malicious': 8227, 'divorced': 8228, 'budging': 8229, 'rounded': 8230, 'allied': 8231, 'scamming': 8232, 'anemic': 8233, 'worded': 8234, 'critically': 8235, 'repulsive': 8236, 'connecting': 8237, 'fatty': 8238, 'reliant': 8239, 'victory': 8240, 'terminate': 8241, 'fluffed': 8242, 'chested': 8243, 'wording': 8244, 'unpaid': 8245, 'tonsillitis': 8246, 'piercings': 8247, 'insinuated': 8248, 'monetary': 8249, 'obligation': 8250, 'equivalent': 8251, 'clump': 8252, 'dang': 8253, 'contradicts': 8254, 'displaying': 8255, 'senile': 8256, 'reconnect': 8257, 'scoured': 8258, 'publicly': 8259, 'semen': 8260, 'reconstructs': 8261, 'reconnection': 8262, 'adorned': 8263, 'expanding': 8264, 'mishap': 8265, 'manger': 8266, 'amener': 8267, 'tester': 8268, 'conserver': 8269, 'pub': 8270, 'respectable': 8271, 'resurface': 8272, 'exposed': 8273, 'slaughterhouse': 8274, 'fiend': 8275, 'riddled': 8276, 'ripe': 8277, '2006': 8278, 'unexperienced': 8279, 'punishing': 8280, 'excepting': 8281, 'party': 8282, 'heckle': 8283, 'circulation': 8284, 'cramming': 8285, 'viable': 8286, 'prospectus': 8287, 'swabbed': 8288, 'gloving': 8289, 'skirted': 8290, 'sterilized': 8291, 'bragged': 8292, 'bashing': 8293, 'compensating': 8294, 'fried': 8295, \"anyone's\": 8296, 'aspiration': 8297, 'mediation': 8298, 'independently': 8299, 'fetus': 8300, '430': 8301, 'bust': 8302, 'shill': 8303, 'dual': 8304, 'impractical': 8305, 'runway': 8306, 'slid': 8307, 'forgiving': 8308, 'traumatizing': 8309, 'grandiose': 8310, 'effecting': 8311, 'brad': 8312, 'mindset': 8313, 'eardrum': 8314, 'devoid': 8315, 'strictly': 8316, 'angered': 8317, 'ship': 8318, 'coerce': 8319, 'testicular': 8320, 'promoting': 8321, 'armed': 8322, 'plunk': 8323, 'misunderstanding': 8324, 'tanner': 8325, 'instable': 8326, 'login': 8327, '60000': 8328, 'cussing': 8329, 'correspond': 8330, '5500': 8331, 'shipped': 8332, 'insemination': 8333, 'preying': 8334, 'motherhood': 8335, \"conservation's\": 8336, 'vulgar': 8337, 'pajama': 8338, 'ix': 8339, 'implanted': 8340, 'migrating': 8341, 'naively': 8342, 'thirteen': 8343, 'panning': 8344, 'miffed': 8345, 'selective': 8346, 'algorithm': 8347, 'fierce': 8348, 'ratchet': 8349, 'nervously': 8350, 'cringing': 8351, 'quits': 8352, 'paragraph': 8353, 'trepidation': 8354, 'rudimentary': 8355, 'mouthing': 8356, 'castle': 8357, \"surgeon's\": 8358, 'locate': 8359, 'pawning': 8360, 'mechanical': 8361, 'authoritarian': 8362, 'misusing': 8363, 'alleges': 8364, '73': 8365, 'shit': 8366, 'panicky': 8367, 'disagreement': 8368, 'recycled': 8369, 'trump': 8370, '1230': 8371, 'queue': 8372, 'mouthful': 8373, 'whisked': 8374, 'dealer': 8375, 'bottomed': 8376, 'tighten': 8377, 'nastiest': 8378, 'hefty': 8379, 'itinerant': 8380, 'roughest': 8381, 'contained': 8382, 'ironic': 8383, 'forewarned': 8384, 'swears': 8385, 'sailor': 8386, 'tractor': 8387, 'observe': 8388, 'remarked': 8389, 'talkative': 8390, 'redirected': 8391, 'catheter': 8392, 'storage': 8393, 'transporting': 8394, 'hush': 8395, 'notable': 8396, 'simulated': 8397, 'spill': 8398, 'miniature': 8399, 'span': 8400, 'chemotherapy': 8401, 'hem': 8402, 'distressing': 8403, 'resembles': 8404, 'supplemented': 8405, 'cooperating': 8406, \"somebody's\": 8407, 'combine': 8408, 'thaw': 8409, 'evaded': 8410, 'flustered': 8411, 'farm': 8412, 'shitty': 8413, 'nuisance': 8414, 'rattle': 8415, 'socially': 8416, 'distracting': 8417, 'ophthalmology': 8418, \"expert's\": 8419, 'grieving': 8420, 'miscarrying': 8421, 'bifocal': 8422, 'tweaked': 8423, 'variation': 8424, 'ulnar': 8425, 'nearest': 8426, 'regaining': 8427, 'inferior': 8428, 'expanders': 8429, 'athletic': 8430, 'recuperating': 8431, 'ale': 8432, 'stabilization': 8433, 'operatively': 8434, 'affable': 8435, 'cherish': 8436, 'firstborn': 8437, 'spotting': 8438, 'flint': 8439, 'radical': 8440, 'tiredness': 8441, 'involves': 8442, 'fading': 8443, 'singular': 8444, 'resorted': 8445, 'sher': 8446, 'spectrum': 8447, 'convincing': 8448, 'rein': 8449, 'rewarded': 8450, 'intimacy': 8451, 'sculptor': 8452, 'architect': 8453, 'affection': 8454, '17th': 8455, 'rearranged': 8456, 'elliptical': 8457, 'solace': 8458, 'servicing': 8459, 'bathing': 8460, 'keyhole': 8461, 'hyperventilate': 8462, 'combined': 8463, 'laceration': 8464, 'messenger': 8465, 'immeasurably': 8466, 'catered': 8467, 'tireless': 8468, 'jaded': 8469, 'bluest': 8470, 'bundle': 8471, 'oregano': 8472, 'pessimistic': 8473, 'deploys': 8474, 'outdoor': 8475, 'signaled': 8476, 'conveys': 8477, 'tiffany': 8478, 'oversubscribed': 8479, \"hospital's\": 8480, 'cumulative': 8481, 'tow': 8482, 'outlined': 8483, 'flushing': 8484, 'suctioned': 8485, 'crouch': 8486, 'judicious': 8487, 'warmest': 8488, 'boggling': 8489, 'nagging': 8490, 'wore': 8491, 'shooed': 8492, 'cicatrice': 8493, 'complementary': 8494, 'cooler': 8495, 'stepfather': 8496, 'owns': 8497, 'repositioning': 8498, 'cupping': 8499, 'emerge': 8500, 'existence': 8501, 'refreshingly': 8502, 'aesthetically': 8503, 'coughing': 8504, 'piggy': 8505, 'angled': 8506, 'calender': 8507, 'mediate': 8508, 'someday': 8509, 'ante': 8510, 'football': 8511, 'wolf': 8512, 'alerted': 8513, 'formulated': 8514, 'separately': 8515, 'cohesive': 8516, 'vocal': 8517, 'ridden': 8518, 'stumbled': 8519, 'tuft': 8520, 'emphasized': 8521, 'supplemental': 8522, 'relaxation': 8523, 'restful': 8524, 'cote': 8525, 'artwork': 8526, 'sissy': 8527, 'slogging': 8528, 'investigates': 8529, 'ataxia': 8530, 'harrow': 8531, 'tripped': 8532, 'thoughtfully': 8533, 'analyzes': 8534, 'emphasize': 8535, 'rationality': 8536, 'pragmatism': 8537, 'consists': 8538, 'bulge': 8539, 'matures': 8540, 'dull': 8541, 'pyramid': 8542, 'hysterically': 8543, 'rubbed': 8544, 'perceptive': 8545, 'enthusiasm': 8546, 'amiable': 8547, 'informal': 8548, 'insignificant': 8549, 'notably': 8550, 'adorable': 8551, 'inspiring': 8552, 'expeditiously': 8553, 'psychoanalysis': 8554, 'limitation': 8555, 'pristine': 8556, 'sabotaging': 8557, 'religious': 8558, 'abreast': 8559, 'coworkers': 8560, 'swimmer': 8561, '125': 8562, 'adamant': 8563, 'heartily': 8564, 'dense': 8565, 'curated': 8566, 'lifer': 8567, 'chrome': 8568, 'notebook': 8569, 'contingent': 8570, 'laxity': 8571, 'hypoglycemic': 8572, 'trustful': 8573, 'sync': 8574, 'chamber': 8575, 'flinch': 8576, 'heritage': 8577, 'commend': 8578, 'bl': 8579, 'concretely': 8580, 'condolence': 8581, 'easing': 8582, 'unravel': 8583, 'doctoral': 8584, 'rejection': 8585, 'eying': 8586, 'disarmed': 8587, 'finch': 8588, 'instill': 8589, 'customized': 8590, 'limo': 8591, 'discourage': 8592, 'solves': 8593, 'executive': 8594, 'nutrient': 8595, 'simultaneously': 8596, 'gar': 8597, 'hockey': 8598, 'froze': 8599, 'over': 8600, 'horizon': 8601, 'ocean': 8602, 'consistency': 8603, 'integrative': 8604, 'pose': 8605, 'undetected': 8606, '1988': 8607, 'paraplegic': 8608, 'user': 8609, 'nominated': 8610, 'tipping': 8611, 'logic': 8612, 'symptomatic': 8613, 'retain': 8614, 'sacrifice': 8615, 'discipline': 8616, \"doc's\": 8617, 'alto': 8618, 'chewy': 8619, 'clinching': 8620, 'crimping': 8621, 'pinching': 8622, 'bulletin': 8623, 'cringe': 8624, 'traction': 8625, '3565333': 8626, 'ultrasonic': 8627, 'environ': 8628, 'implantation': 8629, 'efficacious': 8630, 'biller': 8631, 'impeccably': 8632, 'buddy': 8633, 'retriever': 8634, 'hesitating': 8635, 'underneath': 8636, 'flap': 8637, 'skepticism': 8638, 'disfavor': 8639, 'wheelwright': 8640, 'camper': 8641, 'accustomed': 8642, 'relational': 8643, 'reenter': 8644, 'bulky': 8645, 'boosted': 8646, 'exotic': 8647, 'scenery': 8648, 'chipping': 8649, 'km': 8650, 'unmanageable': 8651, 'entrusted': 8652, 'spin': 8653, 'singing': 8654, 'extraordinarily': 8655, 'ligation': 8656, '44': 8657, 'chelation': 8658, 'momentum': 8659, 'heals': 8660, 'womanhood': 8661, 'trim': 8662, 'taped': 8663, 'opp': 8664, 'consecutive': 8665, 'prettiest': 8666, 'rear': 8667, 'sustainable': 8668, \"body's\": 8669, 'debilitated': 8670, 'ordinary': 8671, 'farsighted': 8672, 'wright': 8673, 'explanatory': 8674, \"artist's\": 8675, 'flank': 8676, 'logistics': 8677, 'necessitate': 8678, 'slimming': 8679, 'proportion': 8680, 'harmony': 8681, 'fertilized': 8682, 'retrieved': 8683, 'predictive': 8684, 'anecdotally': 8685, 'responder': 8686, 'forecast': 8687, 'dexterity': 8688, 'varies': 8689, \"practitioner's\": 8690, 'witty': 8691, 'committee': 8692, 'gr': 8693, \"canning's\": 8694, 'competitor': 8695, 'remarkably': 8696, 'rehabilitation': 8697, 'motivating': 8698, 'personalizing': 8699, 'rotten': 8700, '000.00': 8701, 'syringing': 8702, 'unselfish': 8703, 'nudged': 8704, 'focal': 8705, 'palmer': 8706, 'crop': 8707, 'pioneering': 8708, 'preconceived': 8709, 'assuring': 8710, 'workup': 8711, 'tedious': 8712, 'hydro': 8713, 'burping': 8714, 'floored': 8715, 'defining': 8716, 'portrayal': 8717, 'raved': 8718, 'parson': 8719, 'basketball': 8720, 'stalled': 8721, 'diameter': 8722, 'chester': 8723, 'assembled': 8724, '27.5': 8725, 'stamen': 8726, \"bell's\": 8727, 'misinterpreted': 8728, 'intermittently': 8729, 'weightlifting': 8730, 'tournament': 8731, 'sandy': 8732, 'wiser': 8733, 'pd': 8734, 'dieting': 8735, 'fungus': 8736, 'elimination': 8737, 'buttress': 8738, 'pundit': 8739, 'boast': 8740, '12.5': 8741, '2009': 8742, 'fes': 8743, 'lactation': 8744, 'steward': 8745, 'liberal': 8746, 'amazes': 8747, 'spectacular': 8748, 'pink': 8749, 'snow': 8750, 'index': 8751, 'matrix': 8752, 'oozing': 8753, 'plentiful': 8754, 'negotiator': 8755, 'profiler': 8756, 'predator': 8757, 'flourished': 8758, 'reassess': 8759, 'longitudinal': 8760, 'tendinitis': 8761, 'rogers': 8762, 'replying': 8763, 'lesser': 8764, 'sturgeon': 8765, 'piecing': 8766, 'am': 8767, 'ambitious': 8768, 'transplanting': 8769, 'depleted': 8770, 'publishes': 8771, 'adversely': 8772, 'occlusion': 8773, 'latent': 8774, 'thankfulness': 8775, 'quirkiness': 8776, 'complied': 8777, 'airy': 8778, 'stickle': 8779, 'unaided': 8780, 'rot': 8781, 'authenticity': 8782, 'battled': 8783, 'attributing': 8784, 'protrude': 8785, 'bloated': 8786, 'issued': 8787, 'rugby': 8788, 'larkspur': 8789, 'vampire': 8790, 'classy': 8791, 'congrats': 8792, 'sunspot': 8793, 'darkening': 8794, 'peel': 8795, 'implementing': 8796, 'mundane': 8797, 'blossom': 8798, 'piedmont': 8799, 'chemist': 8800, 'rescue': 8801, 'movie': 8802, 'elevating': 8803, 'abstain': 8804, 'advertise': 8805, 'aurora': 8806, 'girdle': 8807, 'surpasses': 8808, 'vouch': 8809, 'aways': 8810, 'execution': 8811, 'hospitality': 8812, 'graciousness': 8813, 'eagerly': 8814, 'brass': 8815, 'stylish': 8816, 'cadre': 8817, 'proposed': 8818, 'driveway': 8819, 'firming': 8820, 'exclusively': 8821, 'inter': 8822, 'intricacy': 8823, 'welt': 8824, 'steep': 8825, 'vividly': 8826, 'rug': 8827, 'implicitly': 8828, 'patched': 8829, 'heartwarming': 8830, 'branch': 8831, 'mu': 8832, 'coolest': 8833, 'rising': 8834, 'maintains': 8835, 'vicinity': 8836, 'length': 8837, 'garden': 8838, 'shovel': 8839, 'toss': 8840, 'compost': 8841, 'radiates': 8842, 'tack': 8843, 'striving': 8844, 'unresolved': 8845, 'apartment': 8846, 'tome': 8847, 'deformity': 8848, 'elastic': 8849, 'atypical': 8850, 'situated': 8851, 'basil': 8852, 'royal': 8853, 'jubilee': 8854, 'leadership': 8855, '93': 8856, 'marveled': 8857, 'brim': 8858, 'riding': 8859, 'trend': 8860, 'sunglass': 8861, 'indispensable': 8862, 'finalize': 8863, 'unhappiness': 8864, 'mannered': 8865, 'participant': 8866, 'pillar': 8867, '14th': 8868, 'prize': 8869, '192': 8870, 'premature': 8871, 'chromosome': 8872, 'gymnastics': 8873, 'positivity': 8874, 'determination': 8875, 'journaling': 8876, 'heaven': 8877, 'tarpon': 8878, \"eye's\": 8879, 'completing': 8880, 'rechecking': 8881, 'orderly': 8882, 'prosthetics': 8883, 'combo': 8884, 'bilingual': 8885, 'pertussis': 8886, 'whooping': 8887, 'cough': 8888, 'secret': 8889, 'honorable': 8890, 'durable': 8891, 'essayer': 8892, 'surpassed': 8893, 'credence': 8894, 'alluded': 8895, 'yin': 8896, 'skinner': 8897, '1982': 8898, 'reed': 8899, 'army': 8900, 'repairing': 8901, 'achievement': 8902, 'alma': 8903, 'blip': 8904, 'urology': 8905, 'oncology': 8906, 'celebrated': 8907, 'align': 8908, 'accommodates': 8909, \"teddy's\": 8910, 'replacing': 8911, 'rt': 8912, 'summit': 8913, 'admiring': 8914, 'transforming': 8915, 'central': 8916, 'patronize': 8917, 'motivate': 8918, 'widow': 8919, 'warmed': 8920, 'calf': 8921, 'decompressed': 8922, 'optimum': 8923, 'multiply': 8924, 'realistically': 8925, 'coating': 8926, 'bowman': 8927, 'straightening': 8928, 'aligners': 8929, 'mature': 8930, 'vice': 8931, 'versa': 8932, 'production': 8933, 'roaring': 8934, 'purely': 8935, 'superlative': 8936, 'accompany': 8937, 'confirms': 8938, 'softest': 8939, 'drawing': 8940, 'introduces': 8941, 'hong': 8942, 'inn': 8943, 'bugging': 8944, 'arising': 8945, 'sustain': 8946, 'hospitalization': 8947, 'staircase': 8948, 'scalpel': 8949, 'conceivable': 8950, 'gentlest': 8951, 'ba': 8952, 'preforming': 8953, 'marital': 8954, 'urinary': 8955, 'incontinence': 8956, 'revamping': 8957, 'preachy': 8958, 'protein': 8959, 'lowering': 8960, 'hypertension': 8961, 'integrating': 8962, 'unequivocally': 8963, 'bark': 8964, 'noble': 8965, 'fallopian': 8966, 'recipient': 8967, 'scholarship': 8968, 'recollect': 8969, 'milestone': 8970, 'global': 8971, 'recognizable': 8972, 'spotless': 8973, 'partnered': 8974, 'chrysalis': 8975, 'lieu': 8976, 'gauche': 8977, 'gamma': 8978, 'hiding': 8979, 'defame': 8980, 'terry': 8981, 'sexier': 8982, '87': 8983, 'grandma': 8984, 'meadowlark': 8985, \"grandma's\": 8986, 'conversational': 8987, '98': 8988, 'designation': 8989, 'hypocrite': 8990, 'rooted': 8991, 'ascending': 8992, 'grilled': 8993, 'competing': 8994, 'storing': 8995, 'geared': 8996, '11th': 8997, 'triceps': 8998, 'carved': 8999, 'sculpture': 9000, 'core': 9001, 'resiliency': 9002, 'resilient': 9003, 'downriver': 9004, 'fwd': 9005, 'fractional': 9006, 'photographer': 9007, 'foster': 9008, 'youth': 9009, 'maple': 9010, 'tragic': 9011, 'optimal': 9012, 'postoperative': 9013, 'misconception': 9014, 'niece': 9015, 'lace': 9016, 'undone': 9017, 'refinement': 9018, 'nutritionally': 9019, 'papillary': 9020, 'commercial': 9021, 'sandstone': 9022, 'abundant': 9023, 'precipitously': 9024, 'entreaty': 9025, 'forthwith': 9026, 'temporizing': 9027, 'impelling': 9028, 'rashly': 9029, 'cobalt': 9030, 'chromium': 9031, 'abrasion': 9032, 'grasped': 9033, 'seriousness': 9034, 'unambiguous': 9035, 'catastrophic': 9036, 'rearrange': 9037, 'departing': 9038, 'quasi': 9039, 'bespoke': 9040, 'nutshell': 9041, 'succession': 9042, 'radiological': 9043, 'impulse': 9044, 'impromptu': 9045, 'spectacularly': 9046, 'wean': 9047, 'lane': 9048, 'om': 9049, 'weer': 9050, 'jitter': 9051, 'thinner': 9052, 'dogie': 9053, 'obesity': 9054, 'orchard': 9055, 'jewel': 9056, 'nominal': 9057, 'compromising': 9058, 'opined': 9059, 'testimonial': 9060, 'receding': 9061, 'cozy': 9062, 'stinky': 9063, 'mellowed': 9064, 'bonnie': 9065, 'veronica': 9066, 'grave': 9067, 'subway': 9068, 'awkwardness': 9069, 'springboard': 9070, 'finishing': 9071, 'conventional': 9072, 'cater': 9073, 'gentile': 9074, 'luxurious': 9075, 'prayed': 9076, 'intermediary': 9077, 'regrew': 9078, 'plunge': 9079, 'behaves': 9080, 'unreservedly': 9081, 'reappear': 9082, 'establishes': 9083, 'methodical': 9084, 'tastefully': 9085, 'nip': 9086, 'puppy': 9087, '63': 9088, 'appendectomy': 9089, 'meddling': 9090, 'brightest': 9091, 'biceps': 9092, 'thee': 9093, 'personified': 9094, 'drooling': 9095, 'uneventful': 9096, 'squeamish': 9097, 'dot': 9098, 'knack': 9099, 'risen': 9100, \"clinic's\": 9101, 'handout': 9102, 'cordial': 9103, 'tad': 9104, 'automated': 9105, 'pretense': 9106, 'monger': 9107, 'roughness': 9108, 'scraped': 9109, 'flareup': 9110, 'temporary': 9111, 'comic': 9112, 'breathes': 9113, 'steered': 9114, 'advancement': 9115, 'gracefully': 9116, 'bolster': 9117, 'instilling': 9118, 'blade': 9119, 'enables': 9120, 'sari': 9121, 'pang': 9122, 'dueler': 9123, 'laundry': 9124, 'layman': 9125, 'dossier': 9126, 'incomparable': 9127, 'cramp': 9128, 'ludicrous': 9129, 'skillfully': 9130, 'presumed': 9131, 'unsightly': 9132, 'paranoid': 9133, 'freed': 9134, 'allays': 9135, 'splash': 9136, 'relapsed': 9137, 'bawling': 9138, 'eloquent': 9139, 'prospective': 9140, 'interruption': 9141, 'courteousness': 9142, 'inadvertently': 9143, 'untenable': 9144, 'drawback': 9145, 'requisite': 9146, 'autonomic': 9147, 'unwanted': 9148, 'nocturnal': 9149, 'awakening': 9150, 'underscore': 9151, 'underwhelmed': 9152, 'rally': 9153, 'admirably': 9154, 'maintained': 9155, 'wisely': 9156, 'sayers': 9157, 'worthy': 9158, 'lightweight': 9159, 'alternating': 9160, 'splint': 9161, \"wit's\": 9162, 'jazz': 9163, 'lease': 9164, \"miller's\": 9165, '1755': 9166, 'cal': 9167, 'brighten': 9168, 'energizing': 9169, 'savior': 9170, 'elevation': 9171, 'destination': 9172, 'nation': 9173, 'oliver': 9174, 'salivary': 9175, 'beholder': 9176, 'opener': 9177, 'revert': 9178, 'gray': 9179, 'covington': 9180, 'heaviest': 9181, 'angriest': 9182, 'cupboard': 9183, 'peanut': 9184, 'butter': 9185, 'chocolate': 9186, 'lolly': 9187, 'muesli': 9188, 'cereal': 9189, 'cooked': 9190, 'creeping': 9191, 'measurement': 9192, 'smelled': 9193, 'sanitizing': 9194, 'coarse': 9195, 'liking': 9196, 'clockwork': 9197, 'clarity': 9198, 'terminally': 9199, 'securing': 9200, 'anesthesiology': 9201, 'paced': 9202, 'embarrassment': 9203, '47th': 9204, 'exit': 9205, 'query': 9206, 'rethink': 9207, 'prom': 9208, 'hearted': 9209, 'boarded': 9210, 'jackpot': 9211, 'surpassing': 9212, 'reductionist': 9213, 'statistically': 9214, 'visionary': 9215, 'curriculum': 9216, 'compulsory': 9217, 'neurophysiology': 9218, 'uniqueness': 9219, 'embraced': 9220, 'redefining': 9221, 'consciously': 9222, 'forge': 9223, 'alliance': 9224, 'resilience': 9225, 'unambiguously': 9226, 'dismay': 9227, 'vend': 9228, 'lateral': 9229, 'popping': 9230, 'bending': 9231, 'southwest': 9232, 'contemporary': 9233, 'contaminated': 9234, 'contain': 9235, 'chew': 9236, 'intolerant': 9237, 'detox': 9238, 'arthroscope': 9239, 'clavicle': 9240, 'singlehandedly': 9241, 'amaze': 9242, 'goiter': 9243, 'collarbone': 9244, 'champion': 9245, 'warming': 9246, 'impersonally': 9247, 'tangled': 9248, 'necklace': 9249, 'strained': 9250, 'thread': 9251, 'untangle': 9252, 'collaborate': 9253, 'anticipating': 9254, 'darkest': 9255, 'preeminent': 9256, 'securely': 9257, 'glen': 9258, \"cooper's\": 9259, 'surrogacy': 9260, 'glans': 9261, 'stitching': 9262, 'muted': 9263, 'inventor': 9264, 'embark': 9265, 'steel': 9266, 'oversees': 9267, 'supplying': 9268, 'golfing': 9269, 'bowling': 9270, 'pickle': 9271, 'develops': 9272, 'component': 9273, 'cumbersome': 9274, '20th': 9275, 'reacquaint': 9276, 'foe': 9277, 'adulthood': 9278, 'sympathizes': 9279, 'nm': 9280, 'canvas': 9281, 'anatomy': 9282, 'imagery': 9283, 'snorkeled': 9284, 'busted': 9285, 'selfless': 9286, 'treasure': 9287, \"partner's\": 9288, 'hydrocephalus': 9289, \"individual's\": 9290, 'premiere': 9291, 'constraint': 9292, 'pertinents': 9293, 'chatted': 9294, 'accessing': 9295, '15th': 9296, 'unsurpassed': 9297, 'technological': 9298, 'busiest': 9299, 'amaryllis': 9300, 'bitter': 9301, 'considerably': 9302, 'reverse': 9303, 'stride': 9304, 'unlimited': 9305, '864': 9306, '408': 9307, '8270': 9308, 'enlightening': 9309, 'orientated': 9310, 'unanimous': 9311, 'privileged': 9312, 'obstruction': 9313, 'healthful': 9314, 'hammertoe': 9315, 'enjoyable': 9316, 'constipation': 9317, \"comfort's\": 9318, 'serf': 9319, 'enriched': 9320, 'river': 9321, 'religiously': 9322, 'blotchy': 9323, 'arsenal': 9324, 'morbidly': 9325, 'balancer': 9326, 'dedicates': 9327, 'constructing': 9328, 'profoundly': 9329, 'encapsulated': 9330, 'bang': 9331, 'shrewd': 9332, 'village': 9333, 'cement': 9334, 'easter': 9335, 'recipe': 9336, 'latch': 9337, 'waterfront': 9338, 'ouch': 9339, 'implement': 9340, 'emphatic': 9341, 'litigation': 9342, 'compilation': 9343, '651': 9344, '419': 9345, '3569': 9346, 'mange': 9347, 'flue': 9348, 'evened': 9349, 'complexion': 9350, 'downtime': 9351, 'fresher': 9352, 'puffy': 9353, 'honoree': 9354, 'cranial': 9355, 'characterize': 9356, 'collision': 9357, 'mph': 9358, \"hall's\": 9359, 'tending': 9360, 'crane': 9361, 'enzyme': 9362, 'concealer': 9363, 'corresponds': 9364, 'decor': 9365, 'unusually': 9366, 'curable': 9367, 'educates': 9368, 'reassures': 9369, 'chuck': 9370, '51': 9371, 'mammography': 9372, 'backyard': 9373, 'presbyterian': 9374, 'lily': 9375, 'knower': 9376, 'homeopathy': 9377, 'prostate': 9378, 'bear': 9379, 'studious': 9380, 'thriving': 9381, 'tom': 9382, 'flute': 9383, 'griffin': 9384, 'oriental': 9385, 'acupressure': 9386, 'pored': 9387, 'overstate': 9388, 'politest': 9389, 'capability': 9390, 'optimism': 9391, 'spontaneous': 9392, 'feminism': 9393, 'contoured': 9394, 'quest': 9395, 'diagram': 9396, 'passer': 9397, 'dismayed': 9398, 'spec': 9399, 'strive': 9400, 'hub': 9401, 'lingual': 9402, 'tightness': 9403, 'mastered': 9404, 'jerry': 9405, 'deprivation': 9406, 'paramount': 9407, 'membrane': 9408, 'eyeball': 9409, 'boom': 9410, 'ample': 9411, 'weakest': 9412, 'mama': 9413, 'arranges': 9414, 'arises': 9415, 'toed': 9416, 'quelled': 9417, 'rambunctious': 9418, 'bonjour': 9419, 'beau': 9420, 'bonnet': 9421, 'chef': 9422, \"d'oeuvre\": 9423, 'sally': 9424, 'warmhearted': 9425, 'greenfield': 9426, 'smartly': 9427, 'myopia': 9428, 'gentleness': 9429, 'postponing': 9430, 'sway': 9431, 'detailing': 9432, 'seeming': 9433, 'terminal': 9434, 'partnering': 9435, \"men's\": 9436, 'hospice': 9437, 'eulogy': 9438, 'graph': 9439, 'flood': 9440, 'flooding': 9441, 'stationed': 9442, 'restoration': 9443, 'mystery': 9444, 'zest': 9445, 'coaster': 9446, 'intensively': 9447, 'alongside': 9448, 'financing': 9449, 'tendentious': 9450, 'candid': 9451, 'sufficient': 9452, 'eighth': 9453, 'union': 9454, 'retires': 9455, 'disabling': 9456, 'reconsider': 9457, 'segment': 9458, 'quadrupled': 9459, 'gage': 9460, 'meter': 9461, 'proving': 9462, 'ratio': 9463, '1967': 9464, 'hight': 9465, 'prosthesis': 9466, 'evolving': 9467, 'lively': 9468, 'soak': 9469, 'tailored': 9470, 'define': 9471, '015': 9472, 'frank': 9473, \"friend's\": 9474, 'continual': 9475, 'jog': 9476, 'landscaping': 9477, 'haul': 9478, 'shrub': 9479, 'acreage': 9480, 'searing': 9481, 'maneuver': 9482, 'deliverance': 9483, 'rosemary': 9484, 'omniscience': 9485, 'imparted': 9486, 'groovy': 9487, 'glorious': 9488, 'stellar': 9489, 'personalize': 9490, 'littlest': 9491, 'quad': 9492, 'marathon': 9493, 'accidental': 9494, 'tire': 9495, 'momma': 9496, \"dentist's\": 9497, 'indelible': 9498, 'transformed': 9499, 'stark': 9500, 'breadth': 9501, 'ranking': 9502, 'advancing': 9503, 'petits': 9504, 'barn': 9505, 'furry': 9506, 'tail': 9507, 'wag': 9508, 'vibrant': 9509, 'navigating': 9510, 'exertion': 9511, 'goo': 9512, 'drafting': 9513, 'attendance': 9514, 'aspire': 9515, 'ached': 9516, 'intolerable': 9517, 'ingesting': 9518, 'moldy': 9519, 'galore': 9520, 'evolved': 9521, 'studied': 9522, 'admired': 9523, 'sleeplessness': 9524, 'leveled': 9525, 'gait': 9526, 'shove': 9527, 'mandated': 9528, 'decorating': 9529, 'surfing': 9530, 'handpicked': 9531, 'housewife': 9532, 'palpation': 9533, 'formidable': 9534, 'asymmetry': 9535, 'evolve': 9536, 'voltage': 9537, 'gated': 9538, 'potassium': 9539, 'peripheral': 9540, 'sensory': 9541, 'leukocyte': 9542, 'trialling': 9543, 'trialled': 9544, 'discontinuation': 9545, 'tackling': 9546, 'tackled': 9547, 'dosing': 9548, 'influenced': 9549, 'maximize': 9550, 'ltd': 9551, 'hiking': 9552, 'tutelage': 9553, 'effortless': 9554, 'diamond': 9555, 'quaint': 9556, 'rewarding': 9557, 'establish': 9558, '850': 9559, '100.00': 9560, 'billers': 9561, 'crippling': 9562, \"shin's\": 9563, 'sizers': 9564, 'eas': 9565, 'perceive': 9566, 'intensive': 9567, \"respondent's\": 9568, 'reader': 9569, 'chip': 9570, 'babbling': 9571, 'utilizing': 9572, 'homeless': 9573, 'enabling': 9574, 'critique': 9575, 'critic': 9576, 'inspire': 9577, 'falsehood': 9578, 'handball': 9579, 'preemptively': 9580, 'consultancy': 9581, 'uniquely': 9582, 'avoidance': 9583, 'clearer': 9584, 'makeup': 9585, 'zit': 9586, 'limiting': 9587, 'awaited': 9588, 'validation': 9589, 'unnoticed': 9590, 'specialization': 9591, 'phoning': 9592, 'acupuncturists': 9593, 'forty': 9594, '68': 9595, 'longtime': 9596, 'improves': 9597, 'isolation': 9598, 'embarking': 9599, 'distinctive': 9600, 'miraculous': 9601, 'progressively': 9602, 'certainty': 9603, '1980': 9604, 'producing': 9605, 'wrangle': 9606, 'spoiled': 9607, 'gradual': 9608, 'communicative': 9609, 'outlook': 9610, 'setup': 9611, 'newest': 9612, 'combat': 9613, 'empowered': 9614, 'pleasantry': 9615, \"it'll\": 9616, 'dove': 9617, 'scoliosis': 9618, 'prism': 9619, 'suburban': 9620, 'correspondence': 9621, 'marvel': 9622, 'symptomatically': 9623, 'toughest': 9624, 'rested': 9625, 'overbite': 9626}\n"
     ]
    }
   ],
   "source": [
    "print(tokenizer.word_index)"
   ]
  },
  {
   "cell_type": "markdown",
   "metadata": {},
   "source": [
    "Building the RNN GRU model"
   ]
  },
  {
   "cell_type": "code",
   "execution_count": 20,
   "metadata": {},
   "outputs": [
    {
     "name": "stdout",
     "output_type": "stream",
     "text": [
      "WARNING:tensorflow:Layer gru_1 will not use cuDNN kernel since it doesn't meet the cuDNN kernel criteria. It will use generic GPU kernel as fallback when running on GPU\n",
      "Model: \"sequential_1\"\n",
      "_________________________________________________________________\n",
      "Layer (type)                 Output Shape              Param #   \n",
      "=================================================================\n",
      "embedding_1 (Embedding)      (None, 200, 16)           154032    \n",
      "_________________________________________________________________\n",
      "spatial_dropout1d_1 (Spatial (None, 200, 16)           0         \n",
      "_________________________________________________________________\n",
      "gru_1 (GRU)                  (None, 25)                3225      \n",
      "_________________________________________________________________\n",
      "dropout_1 (Dropout)          (None, 25)                0         \n",
      "_________________________________________________________________\n",
      "dense_1 (Dense)              (None, 1)                 26        \n",
      "=================================================================\n",
      "Total params: 157,283\n",
      "Trainable params: 157,283\n",
      "Non-trainable params: 0\n",
      "_________________________________________________________________\n",
      "None\n"
     ]
    }
   ],
   "source": [
    "from tensorflow.keras.models import Sequential\n",
    "from tensorflow.keras.layers import GRU, Dense, Dropout\n",
    "from tensorflow.keras.layers import SpatialDropout1D\n",
    "from tensorflow.keras.layers import Embedding\n",
    "embedding_vector_length = 16\n",
    "\n",
    "model = Sequential()\n",
    "model.add(Embedding(vocab_size, embedding_vector_length, input_length=200))\n",
    "model.add(SpatialDropout1D(0.2))\n",
    "model.add(GRU(25, dropout=0.2, recurrent_dropout=0.2))\n",
    "model.add(Dropout(0.2))\n",
    "model.add(Dense(1, activation='sigmoid'))\n",
    "model.compile(loss='binary_crossentropy',optimizer='adam',metrics=['accuracy'])\n",
    "print(model.summary())"
   ]
  },
  {
   "cell_type": "markdown",
   "metadata": {},
   "source": [
    "Training the model. Validation dataset in 10% of the training dataset. Displaying the loss, validation accuracy and test accuracy after each epoch."
   ]
  },
  {
   "cell_type": "code",
   "execution_count": 21,
   "metadata": {},
   "outputs": [
    {
     "name": "stdout",
     "output_type": "stream",
     "text": [
      "445/445 [==============================] - 459s 1s/step - loss: 0.4394 - accuracy: 0.7850 - val_loss: 0.2362 - val_accuracy: 0.9091\n",
      "89.24\n"
     ]
    }
   ],
   "source": [
    "# Epoch 1\n",
    "\n",
    "model.fit(x_train,y_train,validation_split=0.1,epochs=1,batch_size=10)\n",
    "predict = model.predict(x_test)\n",
    "count=0\n",
    "for i in range(len(predict)):\n",
    "    if (predict[i][0]>=0.5 and y_test[i]==1) or (predict[i][0]<0.5 and y_test[i]==0):\n",
    "        count+=1\n",
    "print(round(count/len(predict)*100,2))"
   ]
  },
  {
   "cell_type": "code",
   "execution_count": 23,
   "metadata": {},
   "outputs": [
    {
     "name": "stdout",
     "output_type": "stream",
     "text": [
      "445/445 [==============================] - 465s 1s/step - loss: 0.1891 - accuracy: 0.9294 - val_loss: 0.2454 - val_accuracy: 0.8990\n",
      "91.1\n"
     ]
    }
   ],
   "source": [
    "# Epoch 2\n",
    "\n",
    "model.fit(x_train,y_train,validation_split=0.1,epochs=1,batch_size=10)\n",
    "predict = model.predict(x_test)\n",
    "count=0\n",
    "for i in range(len(predict)):\n",
    "    if (predict[i][0]>=0.5 and y_test[i]==1) or (predict[i][0]<0.5 and y_test[i]==0):\n",
    "        count+=1\n",
    "print(round(count/len(predict)*100,2))"
   ]
  },
  {
   "cell_type": "code",
   "execution_count": 25,
   "metadata": {},
   "outputs": [
    {
     "name": "stdout",
     "output_type": "stream",
     "text": [
      "445/445 [==============================] - 463s 1s/step - loss: 0.1265 - accuracy: 0.9579 - val_loss: 0.2308 - val_accuracy: 0.9091\n",
      "91.83\n"
     ]
    }
   ],
   "source": [
    "# Epoch 3\n",
    "\n",
    "model.fit(x_train,y_train,validation_split=0.1,epochs=1,batch_size=10)\n",
    "predict = model.predict(x_test)\n",
    "count=0\n",
    "for i in range(len(predict)):\n",
    "    if (predict[i][0]>=0.5 and y_test[i]==1) or (predict[i][0]<0.5 and y_test[i]==0):\n",
    "        count+=1\n",
    "print(round(count/len(predict)*100,2))"
   ]
  },
  {
   "cell_type": "code",
   "execution_count": 27,
   "metadata": {},
   "outputs": [
    {
     "name": "stdout",
     "output_type": "stream",
     "text": [
      "445/445 [==============================] - 458s 1s/step - loss: 0.0883 - accuracy: 0.9730 - val_loss: 0.2458 - val_accuracy: 0.8929\n",
      "90.61\n"
     ]
    }
   ],
   "source": [
    "# Epoch 4\n",
    "\n",
    "model.fit(x_train,y_train,validation_split=0.1,epochs=1,batch_size=10)\n",
    "predict = model.predict(x_test)\n",
    "count=0\n",
    "for i in range(len(predict)):\n",
    "    if (predict[i][0]>=0.5 and y_test[i]==1) or (predict[i][0]<0.5 and y_test[i]==0):\n",
    "        count+=1\n",
    "print(round(count/len(predict)*100,2))"
   ]
  },
  {
   "cell_type": "code",
   "execution_count": 29,
   "metadata": {},
   "outputs": [
    {
     "name": "stdout",
     "output_type": "stream",
     "text": [
      "445/445 [==============================] - 462s 1s/step - loss: 0.0714 - accuracy: 0.9771 - val_loss: 0.2654 - val_accuracy: 0.8990\n",
      "91.26\n"
     ]
    }
   ],
   "source": [
    "# Epoch 5\n",
    "\n",
    "model.fit(x_train,y_train,validation_split=0.1,epochs=1,batch_size=10)\n",
    "predict = model.predict(x_test)\n",
    "count=0\n",
    "for i in range(len(predict)):\n",
    "    if (predict[i][0]>=0.5 and y_test[i]==1) or (predict[i][0]<0.5 and y_test[i]==0):\n",
    "        count+=1\n",
    "print(round(count/len(predict)*100,2))"
   ]
  },
  {
   "cell_type": "code",
   "execution_count": 31,
   "metadata": {},
   "outputs": [
    {
     "name": "stdout",
     "output_type": "stream",
     "text": [
      "445/445 [==============================] - 469s 1s/step - loss: 0.0562 - accuracy: 0.9834 - val_loss: 0.2669 - val_accuracy: 0.9010\n",
      "90.53\n"
     ]
    }
   ],
   "source": [
    "# Epoch 6\n",
    "\n",
    "model.fit(x_train,y_train,validation_split=0.1,epochs=1,batch_size=10)\n",
    "predict = model.predict(x_test)\n",
    "count=0\n",
    "for i in range(len(predict)):\n",
    "    if (predict[i][0]>=0.5 and y_test[i]==1) or (predict[i][0]<0.5 and y_test[i]==0):\n",
    "        count+=1\n",
    "print(round(count/len(predict)*100,2))"
   ]
  },
  {
   "cell_type": "code",
   "execution_count": 33,
   "metadata": {},
   "outputs": [
    {
     "name": "stdout",
     "output_type": "stream",
     "text": [
      "445/445 [==============================] - 714s 2s/step - loss: 0.0624 - accuracy: 0.9818 - val_loss: 0.3144 - val_accuracy: 0.9071\n",
      "89.97\n"
     ]
    }
   ],
   "source": [
    "# Epoch 7\n",
    "\n",
    "model.fit(x_train,y_train,validation_split=0.1,epochs=1,batch_size=10)\n",
    "predict = model.predict(x_test)\n",
    "count=0\n",
    "for i in range(len(predict)):\n",
    "    if (predict[i][0]>=0.5 and y_test[i]==1) or (predict[i][0]<0.5 and y_test[i]==0):\n",
    "        count+=1\n",
    "print(round(count/len(predict)*100,2))"
   ]
  },
  {
   "cell_type": "code",
   "execution_count": 35,
   "metadata": {},
   "outputs": [
    {
     "name": "stdout",
     "output_type": "stream",
     "text": [
      "445/445 [==============================] - 692s 2s/step - loss: 0.0414 - accuracy: 0.9881 - val_loss: 0.3202 - val_accuracy: 0.8848\n",
      "90.45\n"
     ]
    }
   ],
   "source": [
    "# Epoch 8\n",
    "\n",
    "model.fit(x_train,y_train,validation_split=0.1,epochs=1,batch_size=10)\n",
    "predict = model.predict(x_test)\n",
    "count=0\n",
    "for i in range(len(predict)):\n",
    "    if (predict[i][0]>=0.5 and y_test[i]==1) or (predict[i][0]<0.5 and y_test[i]==0):\n",
    "        count+=1\n",
    "print(round(count/len(predict)*100,2))"
   ]
  },
  {
   "cell_type": "code",
   "execution_count": 37,
   "metadata": {},
   "outputs": [
    {
     "name": "stdout",
     "output_type": "stream",
     "text": [
      "445/445 [==============================] - 712s 2s/step - loss: 0.0363 - accuracy: 0.9903 - val_loss: 0.3746 - val_accuracy: 0.8869\n",
      "90.29\n"
     ]
    }
   ],
   "source": [
    "# Epoch 9\n",
    "\n",
    "model.fit(x_train,y_train,validation_split=0.1,epochs=1,batch_size=10)\n",
    "predict = model.predict(x_test)\n",
    "count=0\n",
    "for i in range(len(predict)):\n",
    "    if (predict[i][0]>=0.5 and y_test[i]==1) or (predict[i][0]<0.5 and y_test[i]==0):\n",
    "        count+=1\n",
    "print(round(count/len(predict)*100,2))"
   ]
  },
  {
   "cell_type": "code",
   "execution_count": 39,
   "metadata": {},
   "outputs": [
    {
     "name": "stdout",
     "output_type": "stream",
     "text": [
      "445/445 [==============================] - 638s 1s/step - loss: 0.0297 - accuracy: 0.9919 - val_loss: 0.3388 - val_accuracy: 0.9030\n",
      "89.72\n"
     ]
    }
   ],
   "source": [
    "# Epoch 10\n",
    "\n",
    "model.fit(x_train,y_train,validation_split=0.1,epochs=1,batch_size=10)\n",
    "predict = model.predict(x_test)\n",
    "count=0\n",
    "for i in range(len(predict)):\n",
    "    if (predict[i][0]>=0.5 and y_test[i]==1) or (predict[i][0]<0.5 and y_test[i]==0):\n",
    "        count+=1\n",
    "print(round(count/len(predict)*100,2))"
   ]
  },
  {
   "cell_type": "markdown",
   "metadata": {},
   "source": [
    "Saving the model"
   ]
  },
  {
   "cell_type": "code",
   "execution_count": 40,
   "metadata": {},
   "outputs": [
    {
     "name": "stdout",
     "output_type": "stream",
     "text": [
      "INFO:tensorflow:Assets written to: model_gru\\assets\n"
     ]
    }
   ],
   "source": [
    "# Saving the tensorflow model and tokenizer\n",
    "\n",
    "model.save('model_gru')"
   ]
  },
  {
   "cell_type": "code",
   "execution_count": null,
   "metadata": {},
   "outputs": [],
   "source": []
  }
 ],
 "metadata": {
  "kernelspec": {
   "display_name": "Python 3",
   "language": "python",
   "name": "python3"
  },
  "language_info": {
   "codemirror_mode": {
    "name": "ipython",
    "version": 3
   },
   "file_extension": ".py",
   "mimetype": "text/x-python",
   "name": "python",
   "nbconvert_exporter": "python",
   "pygments_lexer": "ipython3",
   "version": "3.8.3"
  }
 },
 "nbformat": 4,
 "nbformat_minor": 4
}
