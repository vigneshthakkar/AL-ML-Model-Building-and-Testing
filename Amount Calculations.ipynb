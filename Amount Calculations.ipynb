{
 "cells": [
  {
   "cell_type": "markdown",
   "metadata": {},
   "source": [
    "Defining the Health Insurance Plan details"
   ]
  },
  {
   "cell_type": "code",
   "execution_count": 43,
   "metadata": {},
   "outputs": [],
   "source": [
    "# Health Insurance Details\n",
    "\n",
    "deductible = 5000\n",
    "limit = 10000\n",
    "coinsurance = 0.2\n",
    "copay = 20\n",
    "\n",
    "deductible_paid = 5000\n",
    "left = 50"
   ]
  },
  {
   "cell_type": "markdown",
   "metadata": {},
   "source": [
    "Defining a function which takes the concultation fee, deductible, deductible_paid, copay, coinsurance, out-of-pocket limit and out-of-pocket limit left as input. Computes the payment by dependant and payment by payor. Also gives us the updated out-of-pocket limit left and deductible paid"
   ]
  },
  {
   "cell_type": "code",
   "execution_count": 44,
   "metadata": {},
   "outputs": [],
   "source": [
    "def compute_payment(bill, deductible, deductible_paid, copay, coinsurance, limit, left):\n",
    "    bill_left = bill\n",
    "    payment_by_dependant = 0\n",
    "    payment_by_payor = 0\n",
    "    if deductible_paid<deductible:\n",
    "        payment_by_dependant=min(deductible-deductible_paid,bill)\n",
    "        deductible_paid+=payment_by_dependant\n",
    "        left-=payment_by_dependant\n",
    "        bill_left-=payment_by_dependant\n",
    "    if bill_left>copay and left>copay:\n",
    "        payment_by_dependant+=min(left,copay+(bill_left-copay)*0.2)\n",
    "        left-=min(left,copay+(bill_left-copay)*0.2)\n",
    "        payment_by_payor=bill-payment_by_dependant\n",
    "    elif bill_left<=copay and left>copay:\n",
    "        payment_by_dependant+=bill_left\n",
    "        left-=bill_left\n",
    "        payment_by_payor=bill-payment_by_dependant\n",
    "    else:\n",
    "        payment_by_dependant+=left\n",
    "        left=0\n",
    "        payment_by_payor=bill-payment_by_dependant\n",
    "    return payment_by_dependant,payment_by_payor,deductible_paid,left"
   ]
  },
  {
   "cell_type": "markdown",
   "metadata": {},
   "source": [
    "Checking with some examples"
   ]
  },
  {
   "cell_type": "code",
   "execution_count": 45,
   "metadata": {},
   "outputs": [
    {
     "name": "stdout",
     "output_type": "stream",
     "text": [
      "Payment by Dependant :  42.0\n",
      "Payment by Payor :  88.0\n",
      "Left :  8.0\n",
      "Deductible Paid :  5000\n"
     ]
    }
   ],
   "source": [
    "# Visit 1\n",
    "\n",
    "bill=130\n",
    "\n",
    "payment_by_dependant,payment_by_payor,deductible_paid,left=compute_payment(bill,deductible,deductible_paid,copay,coinsurance,limit,left)\n",
    "\n",
    "print('Payment by Dependant : ',payment_by_dependant)\n",
    "print('Payment by Payor : ',payment_by_payor)\n",
    "print('Left : ',left)\n",
    "print('Deductible Paid : ',deductible_paid)"
   ]
  },
  {
   "cell_type": "code",
   "execution_count": 46,
   "metadata": {},
   "outputs": [
    {
     "name": "stdout",
     "output_type": "stream",
     "text": [
      "Payment by Dependant :  8.0\n",
      "Payment by Payor :  122.0\n",
      "Left :  0\n",
      "Deductible Paid :  5000\n"
     ]
    }
   ],
   "source": [
    "# Visit 2\n",
    "\n",
    "bill = 130\n",
    "\n",
    "payment_by_dependant,payment_by_payor,deductible_paid,left=compute_payment(bill,deductible,deductible_paid,copay,coinsurance,limit,left)\n",
    "\n",
    "print('Payment by Dependant : ',payment_by_dependant)\n",
    "print('Payment by Payor : ',payment_by_payor)\n",
    "print('Left : ',left)\n",
    "print('Deductible Paid : ',deductible_paid)"
   ]
  },
  {
   "cell_type": "code",
   "execution_count": 47,
   "metadata": {},
   "outputs": [
    {
     "name": "stdout",
     "output_type": "stream",
     "text": [
      "Payment by Dependant :  0\n",
      "Payment by Payor :  130\n",
      "Left :  0\n",
      "Deductible Paid :  5000\n"
     ]
    }
   ],
   "source": [
    "# Visit 3\n",
    "\n",
    "bill = 130\n",
    "\n",
    "payment_by_dependant,payment_by_payor,deductible_paid,left=compute_payment(bill,deductible,deductible_paid,copay,coinsurance,limit,left)\n",
    "\n",
    "print('Payment by Dependant : ',payment_by_dependant)\n",
    "print('Payment by Payor : ',payment_by_payor)\n",
    "print('Left : ',left)\n",
    "print('Deductible Paid : ',deductible_paid)"
   ]
  },
  {
   "cell_type": "code",
   "execution_count": null,
   "metadata": {},
   "outputs": [],
   "source": []
  }
 ],
 "metadata": {
  "kernelspec": {
   "display_name": "Python 3",
   "language": "python",
   "name": "python3"
  },
  "language_info": {
   "codemirror_mode": {
    "name": "ipython",
    "version": 3
   },
   "file_extension": ".py",
   "mimetype": "text/x-python",
   "name": "python",
   "nbconvert_exporter": "python",
   "pygments_lexer": "ipython3",
   "version": "3.8.3"
  }
 },
 "nbformat": 4,
 "nbformat_minor": 4
}
